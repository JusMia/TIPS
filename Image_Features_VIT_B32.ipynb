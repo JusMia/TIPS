{
  "nbformat": 4,
  "nbformat_minor": 0,
  "metadata": {
    "colab": {
      "name": "Image_Features_VIT B32",
      "provenance": []
    },
    "kernelspec": {
      "name": "python3",
      "display_name": "Python 3"
    },
    "language_info": {
      "name": "python"
    },
    "widgets": {
      "application/vnd.jupyter.widget-state+json": {
        "3752cc95c7cc4f71a7a1f399f181c290": {
          "model_module": "@jupyter-widgets/controls",
          "model_name": "HBoxModel",
          "model_module_version": "1.5.0",
          "state": {
            "_view_name": "HBoxView",
            "_dom_classes": [],
            "_model_name": "HBoxModel",
            "_view_module": "@jupyter-widgets/controls",
            "_model_module_version": "1.5.0",
            "_view_count": null,
            "_view_module_version": "1.5.0",
            "box_style": "",
            "layout": "IPY_MODEL_514cc77212144b028a1df474fe55aade",
            "_model_module": "@jupyter-widgets/controls",
            "children": [
              "IPY_MODEL_d378ba6f1aaa4392a33a747418c091cb",
              "IPY_MODEL_c4cb194d728e4833903f3910fcd593e7",
              "IPY_MODEL_8ea6908925004cb0bc7ce4ce7f1907af"
            ]
          }
        },
        "514cc77212144b028a1df474fe55aade": {
          "model_module": "@jupyter-widgets/base",
          "model_name": "LayoutModel",
          "model_module_version": "1.2.0",
          "state": {
            "_view_name": "LayoutView",
            "grid_template_rows": null,
            "right": null,
            "justify_content": null,
            "_view_module": "@jupyter-widgets/base",
            "overflow": null,
            "_model_module_version": "1.2.0",
            "_view_count": null,
            "flex_flow": null,
            "width": null,
            "min_width": null,
            "border": null,
            "align_items": null,
            "bottom": null,
            "_model_module": "@jupyter-widgets/base",
            "top": null,
            "grid_column": null,
            "overflow_y": null,
            "overflow_x": null,
            "grid_auto_flow": null,
            "grid_area": null,
            "grid_template_columns": null,
            "flex": null,
            "_model_name": "LayoutModel",
            "justify_items": null,
            "grid_row": null,
            "max_height": null,
            "align_content": null,
            "visibility": null,
            "align_self": null,
            "height": null,
            "min_height": null,
            "padding": null,
            "grid_auto_rows": null,
            "grid_gap": null,
            "max_width": null,
            "order": null,
            "_view_module_version": "1.2.0",
            "grid_template_areas": null,
            "object_position": null,
            "object_fit": null,
            "grid_auto_columns": null,
            "margin": null,
            "display": null,
            "left": null
          }
        },
        "d378ba6f1aaa4392a33a747418c091cb": {
          "model_module": "@jupyter-widgets/controls",
          "model_name": "HTMLModel",
          "model_module_version": "1.5.0",
          "state": {
            "_view_name": "HTMLView",
            "style": "IPY_MODEL_ee8c56720f9f4ff59b821b05fd244aac",
            "_dom_classes": [],
            "description": "",
            "_model_name": "HTMLModel",
            "placeholder": "​",
            "_view_module": "@jupyter-widgets/controls",
            "_model_module_version": "1.5.0",
            "value": "100%",
            "_view_count": null,
            "_view_module_version": "1.5.0",
            "description_tooltip": null,
            "_model_module": "@jupyter-widgets/controls",
            "layout": "IPY_MODEL_d77045425c1f4b89b82b6301d29a0503"
          }
        },
        "c4cb194d728e4833903f3910fcd593e7": {
          "model_module": "@jupyter-widgets/controls",
          "model_name": "FloatProgressModel",
          "model_module_version": "1.5.0",
          "state": {
            "_view_name": "ProgressView",
            "style": "IPY_MODEL_dc21767ef8e344a1b2336f280a578778",
            "_dom_classes": [],
            "description": "",
            "_model_name": "FloatProgressModel",
            "bar_style": "success",
            "max": 1922426838,
            "_view_module": "@jupyter-widgets/controls",
            "_model_module_version": "1.5.0",
            "value": 1922426838,
            "_view_count": null,
            "_view_module_version": "1.5.0",
            "orientation": "horizontal",
            "min": 0,
            "description_tooltip": null,
            "_model_module": "@jupyter-widgets/controls",
            "layout": "IPY_MODEL_8be2b24e634749b9888116e591c632fc"
          }
        },
        "8ea6908925004cb0bc7ce4ce7f1907af": {
          "model_module": "@jupyter-widgets/controls",
          "model_name": "HTMLModel",
          "model_module_version": "1.5.0",
          "state": {
            "_view_name": "HTMLView",
            "style": "IPY_MODEL_5af04b90a6424699b247221a286af308",
            "_dom_classes": [],
            "description": "",
            "_model_name": "HTMLModel",
            "placeholder": "​",
            "_view_module": "@jupyter-widgets/controls",
            "_model_module_version": "1.5.0",
            "value": " 1.92G/1.92G [01:09&lt;00:00, 30.1MB/s]",
            "_view_count": null,
            "_view_module_version": "1.5.0",
            "description_tooltip": null,
            "_model_module": "@jupyter-widgets/controls",
            "layout": "IPY_MODEL_8fe7f789c1b24bf0a8c8cbb0c1c5db8d"
          }
        },
        "ee8c56720f9f4ff59b821b05fd244aac": {
          "model_module": "@jupyter-widgets/controls",
          "model_name": "DescriptionStyleModel",
          "model_module_version": "1.5.0",
          "state": {
            "_view_name": "StyleView",
            "_model_name": "DescriptionStyleModel",
            "description_width": "",
            "_view_module": "@jupyter-widgets/base",
            "_model_module_version": "1.5.0",
            "_view_count": null,
            "_view_module_version": "1.2.0",
            "_model_module": "@jupyter-widgets/controls"
          }
        },
        "d77045425c1f4b89b82b6301d29a0503": {
          "model_module": "@jupyter-widgets/base",
          "model_name": "LayoutModel",
          "model_module_version": "1.2.0",
          "state": {
            "_view_name": "LayoutView",
            "grid_template_rows": null,
            "right": null,
            "justify_content": null,
            "_view_module": "@jupyter-widgets/base",
            "overflow": null,
            "_model_module_version": "1.2.0",
            "_view_count": null,
            "flex_flow": null,
            "width": null,
            "min_width": null,
            "border": null,
            "align_items": null,
            "bottom": null,
            "_model_module": "@jupyter-widgets/base",
            "top": null,
            "grid_column": null,
            "overflow_y": null,
            "overflow_x": null,
            "grid_auto_flow": null,
            "grid_area": null,
            "grid_template_columns": null,
            "flex": null,
            "_model_name": "LayoutModel",
            "justify_items": null,
            "grid_row": null,
            "max_height": null,
            "align_content": null,
            "visibility": null,
            "align_self": null,
            "height": null,
            "min_height": null,
            "padding": null,
            "grid_auto_rows": null,
            "grid_gap": null,
            "max_width": null,
            "order": null,
            "_view_module_version": "1.2.0",
            "grid_template_areas": null,
            "object_position": null,
            "object_fit": null,
            "grid_auto_columns": null,
            "margin": null,
            "display": null,
            "left": null
          }
        },
        "dc21767ef8e344a1b2336f280a578778": {
          "model_module": "@jupyter-widgets/controls",
          "model_name": "ProgressStyleModel",
          "model_module_version": "1.5.0",
          "state": {
            "_view_name": "StyleView",
            "_model_name": "ProgressStyleModel",
            "description_width": "",
            "_view_module": "@jupyter-widgets/base",
            "_model_module_version": "1.5.0",
            "_view_count": null,
            "_view_module_version": "1.2.0",
            "bar_color": null,
            "_model_module": "@jupyter-widgets/controls"
          }
        },
        "8be2b24e634749b9888116e591c632fc": {
          "model_module": "@jupyter-widgets/base",
          "model_name": "LayoutModel",
          "model_module_version": "1.2.0",
          "state": {
            "_view_name": "LayoutView",
            "grid_template_rows": null,
            "right": null,
            "justify_content": null,
            "_view_module": "@jupyter-widgets/base",
            "overflow": null,
            "_model_module_version": "1.2.0",
            "_view_count": null,
            "flex_flow": null,
            "width": null,
            "min_width": null,
            "border": null,
            "align_items": null,
            "bottom": null,
            "_model_module": "@jupyter-widgets/base",
            "top": null,
            "grid_column": null,
            "overflow_y": null,
            "overflow_x": null,
            "grid_auto_flow": null,
            "grid_area": null,
            "grid_template_columns": null,
            "flex": null,
            "_model_name": "LayoutModel",
            "justify_items": null,
            "grid_row": null,
            "max_height": null,
            "align_content": null,
            "visibility": null,
            "align_self": null,
            "height": null,
            "min_height": null,
            "padding": null,
            "grid_auto_rows": null,
            "grid_gap": null,
            "max_width": null,
            "order": null,
            "_view_module_version": "1.2.0",
            "grid_template_areas": null,
            "object_position": null,
            "object_fit": null,
            "grid_auto_columns": null,
            "margin": null,
            "display": null,
            "left": null
          }
        },
        "5af04b90a6424699b247221a286af308": {
          "model_module": "@jupyter-widgets/controls",
          "model_name": "DescriptionStyleModel",
          "model_module_version": "1.5.0",
          "state": {
            "_view_name": "StyleView",
            "_model_name": "DescriptionStyleModel",
            "description_width": "",
            "_view_module": "@jupyter-widgets/base",
            "_model_module_version": "1.5.0",
            "_view_count": null,
            "_view_module_version": "1.2.0",
            "_model_module": "@jupyter-widgets/controls"
          }
        },
        "8fe7f789c1b24bf0a8c8cbb0c1c5db8d": {
          "model_module": "@jupyter-widgets/base",
          "model_name": "LayoutModel",
          "model_module_version": "1.2.0",
          "state": {
            "_view_name": "LayoutView",
            "grid_template_rows": null,
            "right": null,
            "justify_content": null,
            "_view_module": "@jupyter-widgets/base",
            "overflow": null,
            "_model_module_version": "1.2.0",
            "_view_count": null,
            "flex_flow": null,
            "width": null,
            "min_width": null,
            "border": null,
            "align_items": null,
            "bottom": null,
            "_model_module": "@jupyter-widgets/base",
            "top": null,
            "grid_column": null,
            "overflow_y": null,
            "overflow_x": null,
            "grid_auto_flow": null,
            "grid_area": null,
            "grid_template_columns": null,
            "flex": null,
            "_model_name": "LayoutModel",
            "justify_items": null,
            "grid_row": null,
            "max_height": null,
            "align_content": null,
            "visibility": null,
            "align_self": null,
            "height": null,
            "min_height": null,
            "padding": null,
            "grid_auto_rows": null,
            "grid_gap": null,
            "max_width": null,
            "order": null,
            "_view_module_version": "1.2.0",
            "grid_template_areas": null,
            "object_position": null,
            "object_fit": null,
            "grid_auto_columns": null,
            "margin": null,
            "display": null,
            "left": null
          }
        },
        "b48c9e6f4ea34b3cad9f381d365e0411": {
          "model_module": "@jupyter-widgets/controls",
          "model_name": "HBoxModel",
          "model_module_version": "1.5.0",
          "state": {
            "_view_name": "HBoxView",
            "_dom_classes": [],
            "_model_name": "HBoxModel",
            "_view_module": "@jupyter-widgets/controls",
            "_model_module_version": "1.5.0",
            "_view_count": null,
            "_view_module_version": "1.5.0",
            "box_style": "",
            "layout": "IPY_MODEL_d5fc7a1052944b1b885d5187754f97c2",
            "_model_module": "@jupyter-widgets/controls",
            "children": [
              "IPY_MODEL_3003d19c6c2342389e9a69beb0f7b7bb",
              "IPY_MODEL_16765b34e057483a9e2822f619ba0359",
              "IPY_MODEL_047d9d1b47534e00a404a392aa050b0f"
            ]
          }
        },
        "d5fc7a1052944b1b885d5187754f97c2": {
          "model_module": "@jupyter-widgets/base",
          "model_name": "LayoutModel",
          "model_module_version": "1.2.0",
          "state": {
            "_view_name": "LayoutView",
            "grid_template_rows": null,
            "right": null,
            "justify_content": null,
            "_view_module": "@jupyter-widgets/base",
            "overflow": null,
            "_model_module_version": "1.2.0",
            "_view_count": null,
            "flex_flow": null,
            "width": null,
            "min_width": null,
            "border": null,
            "align_items": null,
            "bottom": null,
            "_model_module": "@jupyter-widgets/base",
            "top": null,
            "grid_column": null,
            "overflow_y": null,
            "overflow_x": null,
            "grid_auto_flow": null,
            "grid_area": null,
            "grid_template_columns": null,
            "flex": null,
            "_model_name": "LayoutModel",
            "justify_items": null,
            "grid_row": null,
            "max_height": null,
            "align_content": null,
            "visibility": null,
            "align_self": null,
            "height": null,
            "min_height": null,
            "padding": null,
            "grid_auto_rows": null,
            "grid_gap": null,
            "max_width": null,
            "order": null,
            "_view_module_version": "1.2.0",
            "grid_template_areas": null,
            "object_position": null,
            "object_fit": null,
            "grid_auto_columns": null,
            "margin": null,
            "display": null,
            "left": null
          }
        },
        "3003d19c6c2342389e9a69beb0f7b7bb": {
          "model_module": "@jupyter-widgets/controls",
          "model_name": "HTMLModel",
          "model_module_version": "1.5.0",
          "state": {
            "_view_name": "HTMLView",
            "style": "IPY_MODEL_57b254db87914f9187c62211fe7771a4",
            "_dom_classes": [],
            "description": "",
            "_model_name": "HTMLModel",
            "placeholder": "​",
            "_view_module": "@jupyter-widgets/controls",
            "_model_module_version": "1.5.0",
            "value": "Extracting: 100%",
            "_view_count": null,
            "_view_module_version": "1.5.0",
            "description_tooltip": null,
            "_model_module": "@jupyter-widgets/controls",
            "layout": "IPY_MODEL_6a412f6aaafd42c6b6cea545e80bfb80"
          }
        },
        "16765b34e057483a9e2822f619ba0359": {
          "model_module": "@jupyter-widgets/controls",
          "model_name": "FloatProgressModel",
          "model_module_version": "1.5.0",
          "state": {
            "_view_name": "ProgressView",
            "style": "IPY_MODEL_28b0013320e74dc28ceb80d255fef310",
            "_dom_classes": [],
            "description": "",
            "_model_name": "FloatProgressModel",
            "bar_style": "success",
            "max": 24996,
            "_view_module": "@jupyter-widgets/controls",
            "_model_module_version": "1.5.0",
            "value": 24996,
            "_view_count": null,
            "_view_module_version": "1.5.0",
            "orientation": "horizontal",
            "min": 0,
            "description_tooltip": null,
            "_model_module": "@jupyter-widgets/controls",
            "layout": "IPY_MODEL_005ec9fff1b0464ea516aea03910541d"
          }
        },
        "047d9d1b47534e00a404a392aa050b0f": {
          "model_module": "@jupyter-widgets/controls",
          "model_name": "HTMLModel",
          "model_module_version": "1.5.0",
          "state": {
            "_view_name": "HTMLView",
            "style": "IPY_MODEL_5974fb19c1e049fa85ece5c1d2cc4575",
            "_dom_classes": [],
            "description": "",
            "_model_name": "HTMLModel",
            "placeholder": "​",
            "_view_module": "@jupyter-widgets/controls",
            "_model_module_version": "1.5.0",
            "value": " 24996/24996 [00:19&lt;00:00, 1306.58it/s]",
            "_view_count": null,
            "_view_module_version": "1.5.0",
            "description_tooltip": null,
            "_model_module": "@jupyter-widgets/controls",
            "layout": "IPY_MODEL_51fd6accf18143889d522b0da95aecf9"
          }
        },
        "57b254db87914f9187c62211fe7771a4": {
          "model_module": "@jupyter-widgets/controls",
          "model_name": "DescriptionStyleModel",
          "model_module_version": "1.5.0",
          "state": {
            "_view_name": "StyleView",
            "_model_name": "DescriptionStyleModel",
            "description_width": "",
            "_view_module": "@jupyter-widgets/base",
            "_model_module_version": "1.5.0",
            "_view_count": null,
            "_view_module_version": "1.2.0",
            "_model_module": "@jupyter-widgets/controls"
          }
        },
        "6a412f6aaafd42c6b6cea545e80bfb80": {
          "model_module": "@jupyter-widgets/base",
          "model_name": "LayoutModel",
          "model_module_version": "1.2.0",
          "state": {
            "_view_name": "LayoutView",
            "grid_template_rows": null,
            "right": null,
            "justify_content": null,
            "_view_module": "@jupyter-widgets/base",
            "overflow": null,
            "_model_module_version": "1.2.0",
            "_view_count": null,
            "flex_flow": null,
            "width": null,
            "min_width": null,
            "border": null,
            "align_items": null,
            "bottom": null,
            "_model_module": "@jupyter-widgets/base",
            "top": null,
            "grid_column": null,
            "overflow_y": null,
            "overflow_x": null,
            "grid_auto_flow": null,
            "grid_area": null,
            "grid_template_columns": null,
            "flex": null,
            "_model_name": "LayoutModel",
            "justify_items": null,
            "grid_row": null,
            "max_height": null,
            "align_content": null,
            "visibility": null,
            "align_self": null,
            "height": null,
            "min_height": null,
            "padding": null,
            "grid_auto_rows": null,
            "grid_gap": null,
            "max_width": null,
            "order": null,
            "_view_module_version": "1.2.0",
            "grid_template_areas": null,
            "object_position": null,
            "object_fit": null,
            "grid_auto_columns": null,
            "margin": null,
            "display": null,
            "left": null
          }
        },
        "28b0013320e74dc28ceb80d255fef310": {
          "model_module": "@jupyter-widgets/controls",
          "model_name": "ProgressStyleModel",
          "model_module_version": "1.5.0",
          "state": {
            "_view_name": "StyleView",
            "_model_name": "ProgressStyleModel",
            "description_width": "",
            "_view_module": "@jupyter-widgets/base",
            "_model_module_version": "1.5.0",
            "_view_count": null,
            "_view_module_version": "1.2.0",
            "bar_color": null,
            "_model_module": "@jupyter-widgets/controls"
          }
        },
        "005ec9fff1b0464ea516aea03910541d": {
          "model_module": "@jupyter-widgets/base",
          "model_name": "LayoutModel",
          "model_module_version": "1.2.0",
          "state": {
            "_view_name": "LayoutView",
            "grid_template_rows": null,
            "right": null,
            "justify_content": null,
            "_view_module": "@jupyter-widgets/base",
            "overflow": null,
            "_model_module_version": "1.2.0",
            "_view_count": null,
            "flex_flow": null,
            "width": null,
            "min_width": null,
            "border": null,
            "align_items": null,
            "bottom": null,
            "_model_module": "@jupyter-widgets/base",
            "top": null,
            "grid_column": null,
            "overflow_y": null,
            "overflow_x": null,
            "grid_auto_flow": null,
            "grid_area": null,
            "grid_template_columns": null,
            "flex": null,
            "_model_name": "LayoutModel",
            "justify_items": null,
            "grid_row": null,
            "max_height": null,
            "align_content": null,
            "visibility": null,
            "align_self": null,
            "height": null,
            "min_height": null,
            "padding": null,
            "grid_auto_rows": null,
            "grid_gap": null,
            "max_width": null,
            "order": null,
            "_view_module_version": "1.2.0",
            "grid_template_areas": null,
            "object_position": null,
            "object_fit": null,
            "grid_auto_columns": null,
            "margin": null,
            "display": null,
            "left": null
          }
        },
        "5974fb19c1e049fa85ece5c1d2cc4575": {
          "model_module": "@jupyter-widgets/controls",
          "model_name": "DescriptionStyleModel",
          "model_module_version": "1.5.0",
          "state": {
            "_view_name": "StyleView",
            "_model_name": "DescriptionStyleModel",
            "description_width": "",
            "_view_module": "@jupyter-widgets/base",
            "_model_module_version": "1.5.0",
            "_view_count": null,
            "_view_module_version": "1.2.0",
            "_model_module": "@jupyter-widgets/controls"
          }
        },
        "51fd6accf18143889d522b0da95aecf9": {
          "model_module": "@jupyter-widgets/base",
          "model_name": "LayoutModel",
          "model_module_version": "1.2.0",
          "state": {
            "_view_name": "LayoutView",
            "grid_template_rows": null,
            "right": null,
            "justify_content": null,
            "_view_module": "@jupyter-widgets/base",
            "overflow": null,
            "_model_module_version": "1.2.0",
            "_view_count": null,
            "flex_flow": null,
            "width": null,
            "min_width": null,
            "border": null,
            "align_items": null,
            "bottom": null,
            "_model_module": "@jupyter-widgets/base",
            "top": null,
            "grid_column": null,
            "overflow_y": null,
            "overflow_x": null,
            "grid_auto_flow": null,
            "grid_area": null,
            "grid_template_columns": null,
            "flex": null,
            "_model_name": "LayoutModel",
            "justify_items": null,
            "grid_row": null,
            "max_height": null,
            "align_content": null,
            "visibility": null,
            "align_self": null,
            "height": null,
            "min_height": null,
            "padding": null,
            "grid_auto_rows": null,
            "grid_gap": null,
            "max_width": null,
            "order": null,
            "_view_module_version": "1.2.0",
            "grid_template_areas": null,
            "object_position": null,
            "object_fit": null,
            "grid_auto_columns": null,
            "margin": null,
            "display": null,
            "left": null
          }
        }
      }
    }
  },
  "cells": [
    {
      "cell_type": "code",
      "metadata": {
        "id": "x30XfGDjzdnA"
      },
      "source": [
        "!pip install pytorch=1.7.1 \n",
        "!pip install torchvision cudatoolkit=11.0\n",
        "!pip install ftfy regex tqdm\n",
        "!pip install git+https://github.com/openai/CLIP.git\n",
        "!pip install sentence_transformers"
      ],
      "execution_count": null,
      "outputs": []
    },
    {
      "cell_type": "code",
      "metadata": {
        "id": "SSuePdxSi98u"
      },
      "source": [
        "from google.colab import drive\n",
        "drive.mount('/content/drive')"
      ],
      "execution_count": null,
      "outputs": []
    },
    {
      "cell_type": "code",
      "metadata": {
        "id": "bWnaMtxWzkyT"
      },
      "source": [
        "from IPython.display import Image as IPImage\n",
        "import os\n",
        "import glob\n",
        "import torch\n",
        "import pickle\n",
        "import zipfile\n",
        "from tqdm.autonotebook import tqdm\n",
        "import sentence_transformers\n",
        "from sentence_transformers import SentenceTransformer, util\n",
        "import torch\n",
        "import clip\n",
        "from PIL import Image"
      ],
      "execution_count": null,
      "outputs": []
    },
    {
      "cell_type": "code",
      "metadata": {
        "id": "wRHKQKo2zwcD",
        "colab": {
          "base_uri": "https://localhost:8080/",
          "height": 81,
          "referenced_widgets": [
            "3752cc95c7cc4f71a7a1f399f181c290",
            "514cc77212144b028a1df474fe55aade",
            "d378ba6f1aaa4392a33a747418c091cb",
            "c4cb194d728e4833903f3910fcd593e7",
            "8ea6908925004cb0bc7ce4ce7f1907af",
            "ee8c56720f9f4ff59b821b05fd244aac",
            "d77045425c1f4b89b82b6301d29a0503",
            "dc21767ef8e344a1b2336f280a578778",
            "8be2b24e634749b9888116e591c632fc",
            "5af04b90a6424699b247221a286af308",
            "8fe7f789c1b24bf0a8c8cbb0c1c5db8d",
            "b48c9e6f4ea34b3cad9f381d365e0411",
            "d5fc7a1052944b1b885d5187754f97c2",
            "3003d19c6c2342389e9a69beb0f7b7bb",
            "16765b34e057483a9e2822f619ba0359",
            "047d9d1b47534e00a404a392aa050b0f",
            "57b254db87914f9187c62211fe7771a4",
            "6a412f6aaafd42c6b6cea545e80bfb80",
            "28b0013320e74dc28ceb80d255fef310",
            "005ec9fff1b0464ea516aea03910541d",
            "5974fb19c1e049fa85ece5c1d2cc4575",
            "51fd6accf18143889d522b0da95aecf9"
          ]
        },
        "outputId": "a7a53e33-0653-4220-ac0f-fe4f2cff8790"
      },
      "source": [
        "# Next, we get about 25k images from Unsplash \n",
        "img_folder = 'photos/'\n",
        "if not os.path.exists(img_folder) or len(os.listdir(img_folder)) == 0:\n",
        "    os.makedirs(img_folder, exist_ok=True)\n",
        "    \n",
        "    photo_filename = 'unsplash-25k-photos.zip'\n",
        "    if not os.path.exists(photo_filename):   #Download dataset if does not exist\n",
        "        util.http_get('http://sbert.net/datasets/'+photo_filename, photo_filename)\n",
        "        \n",
        "    #Extract all images\n",
        "    with zipfile.ZipFile(photo_filename, 'r') as zf:\n",
        "        for member in tqdm(zf.infolist(), desc='Extracting'):\n",
        "            zf.extract(member, img_folder)\n",
        "        "
      ],
      "execution_count": null,
      "outputs": [
        {
          "output_type": "display_data",
          "data": {
            "application/vnd.jupyter.widget-view+json": {
              "model_id": "3752cc95c7cc4f71a7a1f399f181c290",
              "version_minor": 0,
              "version_major": 2
            },
            "text/plain": [
              "  0%|          | 0.00/1.92G [00:00<?, ?B/s]"
            ]
          },
          "metadata": {}
        },
        {
          "output_type": "display_data",
          "data": {
            "application/vnd.jupyter.widget-view+json": {
              "model_id": "b48c9e6f4ea34b3cad9f381d365e0411",
              "version_minor": 0,
              "version_major": 2
            },
            "text/plain": [
              "Extracting:   0%|          | 0/24996 [00:00<?, ?it/s]"
            ]
          },
          "metadata": {}
        }
      ]
    },
    {
      "cell_type": "code",
      "metadata": {
        "id": "gtREyKs9z2xs"
      },
      "source": [
        "# import glob\n",
        "# import gc\n",
        "\n",
        "# nn=glob.glob(\"/content/photos/*.jpg\")\n",
        "\n",
        "\n"
      ],
      "execution_count": null,
      "outputs": []
    },
    {
      "cell_type": "code",
      "metadata": {
        "id": "eYZvCvmJkTRG"
      },
      "source": [
        "import pandas as pd\n",
        "image_names = pd.read_excel('/content/drive/MyDrive/Kopia image_list_Vit32_14.09.xlsx')"
      ],
      "execution_count": null,
      "outputs": []
    },
    {
      "cell_type": "code",
      "metadata": {
        "id": "gkVv6stvlU3n"
      },
      "source": [
        "image_names = image_names['link']"
      ],
      "execution_count": null,
      "outputs": []
    },
    {
      "cell_type": "code",
      "metadata": {
        "id": "LF-u6UTwnGWO"
      },
      "source": [
        "nn = image_names"
      ],
      "execution_count": null,
      "outputs": []
    },
    {
      "cell_type": "code",
      "metadata": {
        "id": "YdDtbuH3z0yz",
        "colab": {
          "base_uri": "https://localhost:8080/"
        },
        "outputId": "b7f841d2-dfcd-4b99-f8ab-988922a4053f"
      },
      "source": [
        "device = \"cuda\" if torch.cuda.is_available() else \"cpu\"\n",
        "#['RN50', 'RN101', 'RN50x4', 'RN50x16', 'ViT-B/32', 'ViT-B/16'] list of available models in CLIP\n",
        "model, preprocess = clip.load(\"ViT-B/16\", device=device)"
      ],
      "execution_count": null,
      "outputs": [
        {
          "output_type": "stream",
          "name": "stderr",
          "text": [
            "100%|███████████████████████████████████████| 335M/335M [00:07<00:00, 47.0MiB/s]\n"
          ]
        }
      ]
    },
    {
      "cell_type": "code",
      "metadata": {
        "id": "-s4o0PPq0D2L"
      },
      "source": [
        "#Preprocess images in range (0,2500) and extract the images features with choosen model.\n",
        "#Whole data is splited to smaller part to make it easier to process.\n",
        "dv_img = []\n",
        "with torch.no_grad():\n",
        "  for i in range(0,2500):\n",
        "    dv_img.append(preprocess(Image.open(nn[i])).unsqueeze(0))"
      ],
      "execution_count": null,
      "outputs": []
    },
    {
      "cell_type": "code",
      "metadata": {
        "id": "Mnf2hod80GKj"
      },
      "source": [
        "image_features = []\n",
        "with torch.no_grad():\n",
        "  for i in range(0,len(dv_img)):\n",
        "    image_features.append(model.encode_image(dv_img[i]))"
      ],
      "execution_count": null,
      "outputs": []
    },
    {
      "cell_type": "code",
      "metadata": {
        "id": "DtiiviY90Hca"
      },
      "source": [
        "output = open('/content/drive/MyDrive/image_features2500_ViTB32.pkl', 'wb')\n",
        "pickle.dump(image_features, output)\n",
        "output.close()"
      ],
      "execution_count": null,
      "outputs": []
    },
    {
      "cell_type": "code",
      "metadata": {
        "id": "PeK1Hb1C0KlU"
      },
      "source": [
        "dv_img = []\n",
        "with torch.no_grad():\n",
        "  for i in range(2500,5000):\n",
        "    dv_img.append(preprocess(Image.open(nn[i])).unsqueeze(0))"
      ],
      "execution_count": null,
      "outputs": []
    },
    {
      "cell_type": "code",
      "metadata": {
        "id": "LgDb2yXu0Mvb"
      },
      "source": [
        "image_features1 = []\n",
        "with torch.no_grad():\n",
        "  for i in range(0,len(dv_img)):\n",
        "    image_features1.append(model.encode_image(dv_img[i]))"
      ],
      "execution_count": null,
      "outputs": []
    },
    {
      "cell_type": "code",
      "metadata": {
        "id": "Tzzgwy2r0ONb"
      },
      "source": [
        "output = open('/content/drive/MyDrive/image_features5000_ViTB32.pkl', 'wb')\n",
        "pickle.dump(image_features1, output)\n",
        "output.close()"
      ],
      "execution_count": null,
      "outputs": []
    },
    {
      "cell_type": "code",
      "metadata": {
        "id": "ZfnAIdyI0O9S"
      },
      "source": [
        "dv_img1 = []\n",
        "with torch.no_grad():\n",
        "  for i in range(5000,7500):\n",
        "    dv_img1.append(preprocess(Image.open(nn[i])).unsqueeze(0))"
      ],
      "execution_count": null,
      "outputs": []
    },
    {
      "cell_type": "code",
      "metadata": {
        "id": "ncgjXkpc0wVH"
      },
      "source": [
        "image_features1 = []\n",
        "with torch.no_grad():\n",
        "  for i in range(0,len(dv_img1)):\n",
        "    image_features1.append(model.encode_image(dv_img1[i]))"
      ],
      "execution_count": null,
      "outputs": []
    },
    {
      "cell_type": "code",
      "metadata": {
        "id": "BvgUVdZ80zA4"
      },
      "source": [
        "output = open('/content/drive/MyDrive/image_features7500_ViTB32.pkl', 'wb')\n",
        "pickle.dump(image_features1, output)\n",
        "output.close()"
      ],
      "execution_count": null,
      "outputs": []
    },
    {
      "cell_type": "code",
      "metadata": {
        "id": "ls1T9KxU1Npr"
      },
      "source": [
        "dv_img1 = []\n",
        "with torch.no_grad():\n",
        "  for i in range(7500,10000):\n",
        "    dv_img1.append(preprocess(Image.open(nn[i])).unsqueeze(0))"
      ],
      "execution_count": null,
      "outputs": []
    },
    {
      "cell_type": "code",
      "metadata": {
        "id": "hgr2ztFg1RQk"
      },
      "source": [
        "image_features1 = []\n",
        "with torch.no_grad():\n",
        "  for i in range(0,len(dv_img1)):\n",
        "    image_features1.append(model.encode_image(dv_img1[i]))"
      ],
      "execution_count": null,
      "outputs": []
    },
    {
      "cell_type": "code",
      "metadata": {
        "id": "wFyi_Grm1ROy"
      },
      "source": [
        "output = open('/content/drive/MyDrive/image_features10000_ViTB32.pkl', 'wb')\n",
        "pickle.dump(image_features1, output)\n",
        "output.close()"
      ],
      "execution_count": null,
      "outputs": []
    },
    {
      "cell_type": "code",
      "metadata": {
        "id": "3fGbyP1j1RND"
      },
      "source": [
        "dv_img1 = []\n",
        "with torch.no_grad():\n",
        "  for i in range(10000,12500):\n",
        "    dv_img1.append(preprocess(Image.open(nn[i])).unsqueeze(0))"
      ],
      "execution_count": null,
      "outputs": []
    },
    {
      "cell_type": "code",
      "metadata": {
        "id": "bfitjWOu1RLC"
      },
      "source": [
        "image_features1 = []\n",
        "with torch.no_grad():\n",
        "  for i in range(0,len(dv_img1)):\n",
        "    image_features1.append(model.encode_image(dv_img1[i]))"
      ],
      "execution_count": null,
      "outputs": []
    },
    {
      "cell_type": "code",
      "metadata": {
        "id": "ZS2VrCSv1RJe"
      },
      "source": [
        "output = open('/content/drive/MyDrive/image_features12500_ViTB32.pkl', 'wb')\n",
        "pickle.dump(image_features1, output)\n",
        "output.close()"
      ],
      "execution_count": null,
      "outputs": []
    },
    {
      "cell_type": "code",
      "metadata": {
        "id": "HrZROSRZ1RHt"
      },
      "source": [
        "dv_img1 = []\n",
        "with torch.no_grad():\n",
        "  for i in range(12500,15000):\n",
        "    dv_img1.append(preprocess(Image.open(nn[i])).unsqueeze(0))"
      ],
      "execution_count": null,
      "outputs": []
    },
    {
      "cell_type": "code",
      "metadata": {
        "id": "7vJCID_b1RGD"
      },
      "source": [
        "image_features1 = []\n",
        "with torch.no_grad():\n",
        "  for i in range(0,len(dv_img1)):\n",
        "    image_features1.append(model.encode_image(dv_img1[i]))"
      ],
      "execution_count": null,
      "outputs": []
    },
    {
      "cell_type": "code",
      "metadata": {
        "id": "RgcJuDnb1REQ"
      },
      "source": [
        "output = open('/content/drive/MyDrive/image_features15000_ViTB32.pkl', 'wb')\n",
        "pickle.dump(image_features1, output)\n",
        "output.close()"
      ],
      "execution_count": null,
      "outputs": []
    },
    {
      "cell_type": "code",
      "metadata": {
        "id": "xZC-KinP1RCU"
      },
      "source": [
        "dv_img1 = []\n",
        "with torch.no_grad():\n",
        "  for i in range(15000,17500):\n",
        "    dv_img1.append(preprocess(Image.open(nn[i])).unsqueeze(0))"
      ],
      "execution_count": null,
      "outputs": []
    },
    {
      "cell_type": "code",
      "metadata": {
        "id": "RECR5u961RAy"
      },
      "source": [
        "image_features1 = []\n",
        "with torch.no_grad():\n",
        "  for i in range(0,len(dv_img1)):\n",
        "    image_features1.append(model.encode_image(dv_img1[i]))"
      ],
      "execution_count": null,
      "outputs": []
    },
    {
      "cell_type": "code",
      "metadata": {
        "id": "327tzEpf1Q-6"
      },
      "source": [
        "output = open('/content/drive/MyDrive/image_features17500_ViTB32.pkl', 'wb')\n",
        "pickle.dump(image_features1, output)\n",
        "output.close()"
      ],
      "execution_count": null,
      "outputs": []
    },
    {
      "cell_type": "code",
      "metadata": {
        "id": "5o-wmYw51Q9V"
      },
      "source": [
        "dv_img1 = []\n",
        "with torch.no_grad():\n",
        "  for i in range(17500,20000):\n",
        "    dv_img1.append(preprocess(Image.open(nn[i])).unsqueeze(0))"
      ],
      "execution_count": null,
      "outputs": []
    },
    {
      "cell_type": "code",
      "metadata": {
        "id": "eiJv-j0y1Q7S"
      },
      "source": [
        "image_features1 = []\n",
        "with torch.no_grad():\n",
        "  for i in range(0,len(dv_img1)):\n",
        "    image_features1.append(model.encode_image(dv_img1[i]))"
      ],
      "execution_count": null,
      "outputs": []
    },
    {
      "cell_type": "code",
      "metadata": {
        "id": "kgTjLC001Q5K"
      },
      "source": [
        "output = open('/content/drive/MyDrive/image_features20000_ViTB32.pkl', 'wb')\n",
        "pickle.dump(image_features1, output)\n",
        "output.close()"
      ],
      "execution_count": null,
      "outputs": []
    },
    {
      "cell_type": "code",
      "metadata": {
        "id": "xmXNxZEg1Q0i"
      },
      "source": [
        "dv_img1 = []\n",
        "with torch.no_grad():\n",
        "  for i in range(20000,22500):\n",
        "    dv_img1.append(preprocess(Image.open(nn[i])).unsqueeze(0))"
      ],
      "execution_count": null,
      "outputs": []
    },
    {
      "cell_type": "code",
      "metadata": {
        "id": "RpnOGFcI1Qyi"
      },
      "source": [
        "image_features1 = []\n",
        "with torch.no_grad():\n",
        "  for i in range(0,len(dv_img1)):\n",
        "    image_features1.append(model.encode_image(dv_img1[i]))"
      ],
      "execution_count": null,
      "outputs": []
    },
    {
      "cell_type": "code",
      "metadata": {
        "id": "TGqa_EbG1Qwb"
      },
      "source": [
        "output = open('/content/drive/MyDrive/image_features22500_ViTB32.pkl', 'wb')\n",
        "pickle.dump(image_features1, output)\n",
        "output.close()"
      ],
      "execution_count": null,
      "outputs": []
    },
    {
      "cell_type": "code",
      "metadata": {
        "id": "49eX-7y91Qr7"
      },
      "source": [
        "dv_img1 = []\n",
        "with torch.no_grad():\n",
        "  for i in range(22500,24996):\n",
        "    dv_img1.append(preprocess(Image.open(nn[i])).unsqueeze(0))"
      ],
      "execution_count": null,
      "outputs": []
    },
    {
      "cell_type": "code",
      "metadata": {
        "id": "YMQuV2uI2-jJ"
      },
      "source": [
        "image_features1 = []\n",
        "with torch.no_grad():\n",
        "  for i in range(0,len(dv_img1)):\n",
        "    image_features1.append(model.encode_image(dv_img1[i]))"
      ],
      "execution_count": null,
      "outputs": []
    },
    {
      "cell_type": "code",
      "metadata": {
        "id": "26jFAG451QkS"
      },
      "source": [
        "output = open('/content/drive/MyDrive/image_features25000_ViTB32.pkl', 'wb')\n",
        "pickle.dump(image_features1, output)\n",
        "output.close()"
      ],
      "execution_count": null,
      "outputs": []
    },
    {
      "cell_type": "code",
      "metadata": {
        "id": "7Jq18SZWjWAo"
      },
      "source": [
        "import torch\n",
        "import pickle\n",
        "from sklearn.metrics.pairwise import cosine_similarity\n",
        "import numpy as np\n",
        "import math\n",
        "import pandas as pd\n",
        "\n"
      ],
      "execution_count": null,
      "outputs": []
    },
    {
      "cell_type": "code",
      "metadata": {
        "id": "G-SjqNhgjdm5"
      },
      "source": [
        "import torch\n",
        "import clip\n",
        "from PIL import Image\n",
        "\n",
        "device = \"cuda\" if torch.cuda.is_available() else \"cpu\"\n",
        "model, preprocess = clip.load(\"ViT-B/32\", device=device)"
      ],
      "execution_count": null,
      "outputs": []
    },
    {
      "cell_type": "code",
      "metadata": {
        "id": "ZUmSJZanjg6l"
      },
      "source": [
        "#ViTB32\n",
        "#Load extracted features and count cosine similarity between text and image features\n",
        "image_features_0 = pickle.load( open( \"/content/drive/MyDrive/image_features2500_ViTB32.pkl\", \"rb\" ) )\n",
        "image_features_1 = pickle.load( open( \"/content/drive/MyDrive/image_features5000_ViTB32.pkl\", \"rb\" ) )\n",
        "image_features_2 = pickle.load( open( \"/content/drive/MyDrive/image_features7500_ViTB32.pkl\", \"rb\" ) )\n",
        "image_features_3 = pickle.load( open( \"/content/drive/MyDrive/image_features10000_ViTB32.pkl\", \"rb\" ) )\n",
        "image_features_4 = pickle.load( open( \"/content/drive/MyDrive/image_features12500_ViTB32.pkl\", \"rb\" ) )\n",
        "image_features_5 = pickle.load( open( \"/content/drive/MyDrive/image_features15000_ViTB32.pkl\", \"rb\" ) )\n",
        "image_features_6 = pickle.load( open( \"/content/drive/MyDrive/image_features17500_ViTB32.pkl\", \"rb\" ) )\n",
        "image_features_7 = pickle.load( open( \"/content/drive/MyDrive/image_features20000_ViTB32.pkl\", \"rb\" ) )\n",
        "image_features_8 = pickle.load( open( \"/content/drive/MyDrive/image_features22500_ViTB32.pkl\", \"rb\" ) )\n",
        "image_features_9 = pickle.load( open( \"/content/drive/MyDrive/image_features25000_ViTB32.pkl\", \"rb\" ) )\n",
        "image_features = []\n",
        "\n",
        "\n",
        "\n",
        "\n",
        "\n"
      ],
      "execution_count": null,
      "outputs": []
    },
    {
      "cell_type": "code",
      "metadata": {
        "id": "Sy4E5qwan3D0"
      },
      "source": [
        "for i in range (0,len(image_features_0)):\n",
        "    image_features.append(image_features_0[i])\n",
        "\n",
        "for i in range (0,len(image_features_1)):\n",
        "    image_features.append(image_features_1[i])\n",
        "\n",
        "for i in range (0,len(image_features_2)):\n",
        "    image_features.append(image_features_2[i])\n",
        "\n",
        "for i in range (0,len(image_features_3)):\n",
        "    image_features.append(image_features_3[i])\n",
        "\n",
        "for i in range (0,len(image_features_4)):\n",
        "    image_features.append(image_features_4[i])"
      ],
      "execution_count": null,
      "outputs": []
    },
    {
      "cell_type": "code",
      "metadata": {
        "id": "a2VgnZg9oLXh"
      },
      "source": [
        "\n",
        "for i in range (0,len(image_features_5)):\n",
        "    image_features.append(image_features_5[i])\n",
        "\n",
        "for i in range (0,len(image_features_6)):\n",
        "    image_features.append(image_features_6[i])\n",
        "\n",
        "for i in range (0,len(image_features_7)):\n",
        "    image_features.append(image_features_7[i])\n",
        "\n",
        "for i in range (0,len(image_features_8)):\n",
        "    image_features.append(image_features_8[i])\n",
        "\n",
        "for i in range (0,len(image_features_9)):\n",
        "    image_features.append(image_features_9[i])"
      ],
      "execution_count": null,
      "outputs": []
    },
    {
      "cell_type": "code",
      "metadata": {
        "id": "GZvccffsoXUB"
      },
      "source": [
        "text_features1 = pickle.load(open('/content/drive/MyDrive/Kopia text_features_ViT-B32_10.09.pkl', 'rb'))"
      ],
      "execution_count": null,
      "outputs": []
    },
    {
      "cell_type": "code",
      "metadata": {
        "id": "EJ_4GUZkoPEx"
      },
      "source": [
        "cos_sim_help =[]\n",
        "text_index = []\n",
        "image_index = []\n",
        "for i in range (0,200):\n",
        "#for i in range (0,5):\n",
        " for j in range (0,len(image_features)):\n",
        "#  for j in range (0,5):\n",
        "      cos_sim_help.append(cosine_similarity(text_features1[i], image_features[j])) \n",
        "      text_index.append(i)\n",
        "      image_index .append(nn[j])"
      ],
      "execution_count": null,
      "outputs": []
    },
    {
      "cell_type": "code",
      "metadata": {
        "id": "CMLO91G4oWsr"
      },
      "source": [
        "cos_sim_help1 = list(cos_sim_help)\n",
        "x = [text_index, image_index, cos_sim_help]\n",
        "df = pd.DataFrame(x)\n",
        "df1_transposed = df.transpose()\n",
        "#df1_transposed\n",
        "df1_transposed.columns =['text_index', 'image_name', 'cos_sim_help']\n",
        "df1_transposed = df1_transposed['cos_sim_help'].astype(float)\n",
        "#df1_transposed"
      ],
      "execution_count": null,
      "outputs": []
    },
    {
      "cell_type": "code",
      "metadata": {
        "id": "Gxu9p1POOGC0"
      },
      "source": [
        "df1_transposed = df1_transposed['cos_sim_help'].astype(float)"
      ],
      "execution_count": null,
      "outputs": []
    },
    {
      "cell_type": "code",
      "metadata": {
        "id": "0Kw8s1Rzoa5c"
      },
      "source": [
        "#Save partial results to file\n",
        "output = open('/content/drive/MyDrive/text_image_match_200_VITB32.pkl', 'wb')\n",
        "pickle.dump(df1_transposed, output)\n",
        "output.close()"
      ],
      "execution_count": null,
      "outputs": []
    },
    {
      "cell_type": "code",
      "metadata": {
        "id": "lM4EByRBO8xU"
      },
      "source": [
        "cos_sim_help =[]\n",
        "text_index = []\n",
        "image_index = []\n",
        "for i in range (200,400):\n",
        "#for i in range (0,5):\n",
        " for j in range (0,len(image_features)):\n",
        "#  for j in range (0,5):\n",
        "      cos_sim_help.append(cosine_similarity(text_features1[i], image_features[j])) \n",
        "      text_index.append(i)\n",
        "      image_index .append(nn[j])"
      ],
      "execution_count": null,
      "outputs": []
    },
    {
      "cell_type": "code",
      "metadata": {
        "id": "SbAAiCQiO_1U"
      },
      "source": [
        "cos_sim_help1 = list(cos_sim_help)\n",
        "x = [text_index, image_index, cos_sim_help]\n",
        "df = pd.DataFrame(x)\n",
        "df1_transposed = df.transpose()\n",
        "#df1_transposed\n",
        "df1_transposed.columns =['text_index', 'image_name', 'cos_sim_help']\n",
        "df1_transposed = df1_transposed['cos_sim_help'].astype(float)\n",
        "#df1_transposed"
      ],
      "execution_count": null,
      "outputs": []
    },
    {
      "cell_type": "code",
      "metadata": {
        "id": "KZNObALxPAVq"
      },
      "source": [
        "output = open('/content/drive/MyDrive/text_image_match_400_VITB32.pkl', 'wb')\n",
        "pickle.dump(df1_transposed, output)\n",
        "output.close()"
      ],
      "execution_count": null,
      "outputs": []
    },
    {
      "cell_type": "code",
      "metadata": {
        "id": "yucMXHisPMoq"
      },
      "source": [
        "cos_sim_help =[]\n",
        "text_index = []\n",
        "image_index = []\n",
        "for i in range (400,600):\n",
        "#for i in range (0,5):\n",
        " for j in range (0,len(image_features)):\n",
        "#  for j in range (0,5):\n",
        "      cos_sim_help.append(cosine_similarity(text_features1[i], image_features[j])) \n",
        "      text_index.append(i)\n",
        "      image_index .append(nn[j])"
      ],
      "execution_count": null,
      "outputs": []
    },
    {
      "cell_type": "code",
      "metadata": {
        "id": "dGY77VYjPMif"
      },
      "source": [
        "cos_sim_help1 = list(cos_sim_help)\n",
        "x = [text_index, image_index, cos_sim_help]\n",
        "df = pd.DataFrame(x)\n",
        "df1_transposed = df.transpose()\n",
        "#df1_transposed\n",
        "df1_transposed.columns =['text_index', 'image_name', 'cos_sim_help']\n",
        "df1_transposed = df1_transposed['cos_sim_help'].astype(float)\n",
        "#df1_transposed"
      ],
      "execution_count": null,
      "outputs": []
    },
    {
      "cell_type": "code",
      "metadata": {
        "id": "cG1ptcNTPSza"
      },
      "source": [
        "output = open('/content/drive/MyDrive/text_image_match_600_VITB32.pkl', 'wb')\n",
        "pickle.dump(df1_transposed, output)\n",
        "output.close()"
      ],
      "execution_count": null,
      "outputs": []
    },
    {
      "cell_type": "code",
      "metadata": {
        "id": "dO8z4NxOPMci"
      },
      "source": [
        "cos_sim_help =[]\n",
        "text_index = []\n",
        "image_index = []\n",
        "for i in range (600,800):\n",
        "#for i in range (0,5):\n",
        " for j in range (0,len(image_features)):\n",
        "#  for j in range (0,5):\n",
        "      cos_sim_help.append(cosine_similarity(text_features1[i], image_features[j])) \n",
        "      text_index.append(i)\n",
        "      image_index .append(nn[j])"
      ],
      "execution_count": null,
      "outputs": []
    },
    {
      "cell_type": "code",
      "metadata": {
        "id": "J7-ZGiMjPZFx"
      },
      "source": [
        "cos_sim_help1 = list(cos_sim_help)\n",
        "x = [text_index, image_index, cos_sim_help]\n",
        "df = pd.DataFrame(x)\n",
        "df1_transposed = df.transpose()\n",
        "#df1_transposed\n",
        "df1_transposed.columns =['text_index', 'image_name', 'cos_sim_help']\n",
        "df1_transposed = df1_transposed['cos_sim_help'].astype(float)\n",
        "#df1_transposed"
      ],
      "execution_count": null,
      "outputs": []
    },
    {
      "cell_type": "code",
      "metadata": {
        "id": "RnBrf4fWPaKN"
      },
      "source": [
        "output = open('/content/drive/MyDrive/text_image_match_800_VITB32.pkl', 'wb')\n",
        "pickle.dump(df1_transposed, output)\n",
        "output.close()"
      ],
      "execution_count": null,
      "outputs": []
    },
    {
      "cell_type": "code",
      "metadata": {
        "id": "vUYT_3B7PcpB"
      },
      "source": [
        "cos_sim_help =[]\n",
        "text_index = []\n",
        "image_index = []\n",
        "for i in range (800,1000):\n",
        "#for i in range (0,5):\n",
        " for j in range (0,len(image_features)):\n",
        "#  for j in range (0,5):\n",
        "      cos_sim_help.append(cosine_similarity(text_features1[i], image_features[j])) \n",
        "      text_index.append(i)\n",
        "      image_index .append(nn[j])"
      ],
      "execution_count": null,
      "outputs": []
    },
    {
      "cell_type": "code",
      "metadata": {
        "id": "B0u2IZYrPhYF"
      },
      "source": [
        "cos_sim_help1 = list(cos_sim_help)\n",
        "x = [text_index, image_index, cos_sim_help]\n",
        "df = pd.DataFrame(x)\n",
        "df1_transposed = df.transpose()\n",
        "#df1_transposed\n",
        "df1_transposed.columns =['text_index', 'image_name', 'cos_sim_help']\n",
        "df1_transposed = df1_transposed['cos_sim_help'].astype(float)\n",
        "#df1_transposed"
      ],
      "execution_count": null,
      "outputs": []
    },
    {
      "cell_type": "code",
      "metadata": {
        "id": "u4-B2LIDPhUB"
      },
      "source": [
        "output = open('/content/drive/MyDrive/text_image_match_1000_VITB32.pkl', 'wb')\n",
        "pickle.dump(df1_transposed, output)\n",
        "output.close()"
      ],
      "execution_count": null,
      "outputs": []
    },
    {
      "cell_type": "code",
      "metadata": {
        "id": "-J014Fe7Pl6h"
      },
      "source": [
        "cos_sim_help =[]\n",
        "text_index = []\n",
        "image_index = []\n",
        "for i in range (1000,1200):\n",
        "#for i in range (0,5):\n",
        " for j in range (0,len(image_features)):\n",
        "#  for j in range (0,5):\n",
        "      cos_sim_help.append(cosine_similarity(text_features1[i], image_features[j])) \n",
        "      text_index.append(i)\n",
        "      image_index .append(nn[j])"
      ],
      "execution_count": null,
      "outputs": []
    },
    {
      "cell_type": "code",
      "metadata": {
        "id": "fqhW4ybYQFtp"
      },
      "source": [
        "cos_sim_help1 = list(cos_sim_help)\n",
        "x = [text_index, image_index, cos_sim_help]\n",
        "df = pd.DataFrame(x)\n",
        "df1_transposed = df.transpose()\n",
        "#df1_transposed\n",
        "df1_transposed.columns =['text_index', 'image_name', 'cos_sim_help']\n",
        "df1_transposed = df1_transposed['cos_sim_help'].astype(float)\n",
        "#df1_transposed"
      ],
      "execution_count": null,
      "outputs": []
    },
    {
      "cell_type": "code",
      "metadata": {
        "id": "bJ-4f9x8QYsx"
      },
      "source": [
        "output = open('/content/drive/MyDrive/text_image_match_1200_VITB32.pkl', 'wb')\n",
        "pickle.dump(df1_transposed, output)\n",
        "output.close()"
      ],
      "execution_count": null,
      "outputs": []
    },
    {
      "cell_type": "code",
      "metadata": {
        "id": "zI7bdFNIPoLE"
      },
      "source": [
        "cos_sim_help =[]\n",
        "text_index = []\n",
        "image_index = []\n",
        "for i in range (1200,1400):\n",
        "#for i in range (0,5):\n",
        " for j in range (0,len(image_features)):\n",
        "#  for j in range (0,5):\n",
        "      cos_sim_help.append(cosine_similarity(text_features1[i], image_features[j])) \n",
        "      text_index.append(i)\n",
        "      image_index .append(nn[j])"
      ],
      "execution_count": null,
      "outputs": []
    },
    {
      "cell_type": "code",
      "metadata": {
        "id": "CskYaPd2QGF5"
      },
      "source": [
        "cos_sim_help1 = list(cos_sim_help)\n",
        "x = [text_index, image_index, cos_sim_help]\n",
        "df = pd.DataFrame(x)\n",
        "df1_transposed = df.transpose()\n",
        "#df1_transposed\n",
        "df1_transposed.columns =['text_index', 'image_name', 'cos_sim_help']\n",
        "df1_transposed = df1_transposed['cos_sim_help'].astype(float)\n",
        "#df1_transposed"
      ],
      "execution_count": null,
      "outputs": []
    },
    {
      "cell_type": "code",
      "metadata": {
        "id": "4KW54cNUQal5"
      },
      "source": [
        "output = open('/content/drive/MyDrive/text_image_match_1400_VITB32.pkl', 'wb')\n",
        "pickle.dump(df1_transposed, output)\n",
        "output.close()"
      ],
      "execution_count": null,
      "outputs": []
    },
    {
      "cell_type": "code",
      "metadata": {
        "id": "KFUmomlDPsQ6"
      },
      "source": [
        "cos_sim_help =[]\n",
        "text_index = []\n",
        "image_index = []\n",
        "for i in range (1400,1600):\n",
        "#for i in range (0,5):\n",
        " for j in range (0,len(image_features)):\n",
        "#  for j in range (0,5):\n",
        "      cos_sim_help.append(cosine_similarity(text_features1[i], image_features[j])) \n",
        "      text_index.append(i)\n",
        "      image_index .append(nn[j])"
      ],
      "execution_count": null,
      "outputs": []
    },
    {
      "cell_type": "code",
      "metadata": {
        "id": "DEt0ImUdQGk_"
      },
      "source": [
        "cos_sim_help1 = list(cos_sim_help)\n",
        "x = [text_index, image_index, cos_sim_help]\n",
        "df = pd.DataFrame(x)\n",
        "df1_transposed = df.transpose()\n",
        "#df1_transposed\n",
        "df1_transposed.columns =['text_index', 'image_name', 'cos_sim_help']\n",
        "df1_transposed = df1_transposed['cos_sim_help'].astype(float)\n",
        "#df1_transposed"
      ],
      "execution_count": null,
      "outputs": []
    },
    {
      "cell_type": "code",
      "metadata": {
        "id": "xnZvMurzQbyB"
      },
      "source": [
        "output = open('/content/drive/MyDrive/text_image_match_1600_VITB32.pkl', 'wb')\n",
        "pickle.dump(df1_transposed, output)\n",
        "output.close()"
      ],
      "execution_count": null,
      "outputs": []
    },
    {
      "cell_type": "code",
      "metadata": {
        "id": "SDPbAYtvPuzp"
      },
      "source": [
        "cos_sim_help =[]\n",
        "text_index = []\n",
        "image_index = []\n",
        "for i in range (1600,1800):\n",
        "#for i in range (0,5):\n",
        " for j in range (0,len(image_features)):\n",
        "#  for j in range (0,5):\n",
        "      cos_sim_help.append(cosine_similarity(text_features1[i], image_features[j])) \n",
        "      text_index.append(i)\n",
        "      image_index .append(nn[j])"
      ],
      "execution_count": null,
      "outputs": []
    },
    {
      "cell_type": "code",
      "metadata": {
        "id": "QlRSnFCZQHK5"
      },
      "source": [
        "cos_sim_help1 = list(cos_sim_help)\n",
        "x = [text_index, image_index, cos_sim_help]\n",
        "df = pd.DataFrame(x)\n",
        "df1_transposed = df.transpose()\n",
        "#df1_transposed\n",
        "df1_transposed.columns =['text_index', 'image_name', 'cos_sim_help']\n",
        "df1_transposed = df1_transposed['cos_sim_help'].astype(float)\n",
        "#df1_transposed"
      ],
      "execution_count": null,
      "outputs": []
    },
    {
      "cell_type": "code",
      "metadata": {
        "id": "AWCxw9O2QdNa"
      },
      "source": [
        "output = open('/content/drive/MyDrive/text_image_match_1800_VITB32.pkl', 'wb')\n",
        "pickle.dump(df1_transposed, output)\n",
        "output.close()"
      ],
      "execution_count": null,
      "outputs": []
    },
    {
      "cell_type": "code",
      "metadata": {
        "id": "ZzGsOj75PwdO"
      },
      "source": [
        "cos_sim_help =[]\n",
        "text_index = []\n",
        "image_index = []\n",
        "for i in range (1800,2000):\n",
        "#for i in range (0,5):\n",
        " for j in range (0,len(image_features)):\n",
        "#  for j in range (0,5):\n",
        "      cos_sim_help.append(cosine_similarity(text_features1[i], image_features[j])) \n",
        "      text_index.append(i)\n",
        "      image_index .append(nn[j])"
      ],
      "execution_count": null,
      "outputs": []
    },
    {
      "cell_type": "code",
      "metadata": {
        "id": "wjaLePPmQHmq"
      },
      "source": [
        "cos_sim_help1 = list(cos_sim_help)\n",
        "x = [text_index, image_index, cos_sim_help]\n",
        "df = pd.DataFrame(x)\n",
        "df1_transposed = df.transpose()\n",
        "#df1_transposed\n",
        "df1_transposed.columns =['text_index', 'image_name', 'cos_sim_help']\n",
        "df1_transposed = df1_transposed['cos_sim_help'].astype(float)\n",
        "#df1_transposed"
      ],
      "execution_count": null,
      "outputs": []
    },
    {
      "cell_type": "code",
      "metadata": {
        "id": "upSP9mAXQe2R"
      },
      "source": [
        "output = open('/content/drive/MyDrive/text_image_match_2000_VITB32.pkl', 'wb')\n",
        "pickle.dump(df1_transposed, output)\n",
        "output.close()"
      ],
      "execution_count": null,
      "outputs": []
    },
    {
      "cell_type": "code",
      "metadata": {
        "id": "5RYPrOWEPyYl"
      },
      "source": [
        "cos_sim_help =[]\n",
        "text_index = []\n",
        "image_index = []\n",
        "for i in range (2000,2177):\n",
        "#for i in range (0,5):\n",
        " for j in range (0,len(image_features)):\n",
        "#  for j in range (0,5):\n",
        "      cos_sim_help.append(cosine_similarity(text_features1[i], image_features[j])) \n",
        "      text_index.append(i)\n",
        "      image_index .append(nn[j])"
      ],
      "execution_count": null,
      "outputs": []
    },
    {
      "cell_type": "code",
      "metadata": {
        "id": "9v1Oav0LQIC-"
      },
      "source": [
        "cos_sim_help1 = list(cos_sim_help)\n",
        "x = [text_index, image_index, cos_sim_help]\n",
        "df = pd.DataFrame(x)\n",
        "df1_transposed = df.transpose()\n",
        "#df1_transposed\n",
        "df1_transposed.columns =['text_index', 'image_name', 'cos_sim_help']\n",
        "df1_transposed = df1_transposed['cos_sim_help'].astype(float)\n",
        "#df1_transposed"
      ],
      "execution_count": null,
      "outputs": []
    },
    {
      "cell_type": "code",
      "metadata": {
        "id": "EFbWUwD-QgVh"
      },
      "source": [
        "output = open('/content/drive/MyDrive/text_image_match_2200_VITB32.pkl', 'wb')\n",
        "pickle.dump(df1_transposed, output)\n",
        "output.close()"
      ],
      "execution_count": null,
      "outputs": []
    }
  ]
}