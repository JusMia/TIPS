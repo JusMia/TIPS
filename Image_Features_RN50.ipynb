{
  "nbformat": 4,
  "nbformat_minor": 0,
  "metadata": {
    "colab": {
      "name": "Image_Features_RN50",
      "provenance": []
    },
    "kernelspec": {
      "display_name": "Python 3",
      "name": "python3"
    },
    "language_info": {
      "name": "python"
    }
  },
  "cells": [
    {
      "cell_type": "code",
      "metadata": {
        "id": "x30XfGDjzdnA"
      },
      "source": [
        "!pip install pytorch=1.7.1 \n",
        "!pip install torchvision cudatoolkit=11.0\n",
        "!pip install ftfy regex tqdm\n",
        "!pip install git+https://github.com/openai/CLIP.git\n",
        "!pip install sentence_transformers"
      ],
      "execution_count": null,
      "outputs": []
    },
    {
      "cell_type": "code",
      "metadata": {
        "colab": {
          "base_uri": "https://localhost:8080/"
        },
        "id": "SSuePdxSi98u",
        "outputId": "c8809be5-5bc6-457b-c6fb-7840020397a1"
      },
      "source": [
        "from google.colab import drive\n",
        "drive.mount('/content/drive')"
      ],
      "execution_count": null,
      "outputs": [
        {
          "name": "stdout",
          "output_type": "stream",
          "text": [
            "Mounted at /content/drive\n"
          ]
        }
      ]
    },
    {
      "cell_type": "code",
      "metadata": {
        "id": "bWnaMtxWzkyT"
      },
      "source": [
        "from IPython.display import Image as IPImage\n",
        "import os\n",
        "import glob\n",
        "import torch\n",
        "import pickle\n",
        "import zipfile\n",
        "from tqdm.autonotebook import tqdm\n",
        "import sentence_transformers\n",
        "from sentence_transformers import SentenceTransformer, util\n",
        "import torch\n",
        "import clip\n",
        "from PIL import Image"
      ],
      "execution_count": null,
      "outputs": []
    },
    {
      "cell_type": "code",
      "metadata": {
        "id": "wRHKQKo2zwcD"
      },
      "source": [
        "# Next, we get about 25k images from Unsplash \n",
        "img_folder = 'photos/'\n",
        "if not os.path.exists(img_folder) or len(os.listdir(img_folder)) == 0:\n",
        "    os.makedirs(img_folder, exist_ok=True)\n",
        "    \n",
        "    photo_filename = 'unsplash-25k-photos.zip'\n",
        "    if not os.path.exists(photo_filename):   #Download dataset if does not exist\n",
        "        util.http_get('http://sbert.net/datasets/'+photo_filename, photo_filename)\n",
        "        \n",
        "    #Extract all images\n",
        "    with zipfile.ZipFile(photo_filename, 'r') as zf:\n",
        "        for member in tqdm(zf.infolist(), desc='Extracting'):\n",
        "            zf.extract(member, img_folder)\n",
        "        "
      ],
      "execution_count": null,
      "outputs": []
    },
    {
      "cell_type": "code",
      "metadata": {
        "id": "eYZvCvmJkTRG"
      },
      "source": [
        "import pandas as pd\n",
        "image_names = pd.read_excel('/content/drive/MyDrive/Kopia image_list_Vit32_14.09.xlsx')"
      ],
      "execution_count": null,
      "outputs": []
    },
    {
      "cell_type": "code",
      "metadata": {
        "id": "gkVv6stvlU3n"
      },
      "source": [
        "image_names = image_names['link']"
      ],
      "execution_count": null,
      "outputs": []
    },
    {
      "cell_type": "code",
      "metadata": {
        "id": "LF-u6UTwnGWO"
      },
      "source": [
        "nn = image_names"
      ],
      "execution_count": null,
      "outputs": []
    },
    {
      "cell_type": "code",
      "metadata": {
        "colab": {
          "base_uri": "https://localhost:8080/"
        },
        "id": "YdDtbuH3z0yz",
        "outputId": "6f735d5d-5a9c-430d-c7ea-5d66f3c2d4f6"
      },
      "source": [
        "device = \"cuda\" if torch.cuda.is_available() else \"cpu\"\n",
        "#['RN50', 'RN101', 'RN50x4', 'RN50x16', 'ViT-B/32', 'ViT-B/16'] list of available models in CLIP\n",
        "model, preprocess = clip.load(\"RN50\", device=device)"
      ],
      "execution_count": null,
      "outputs": [
        {
          "name": "stderr",
          "output_type": "stream",
          "text": [
            "100%|███████████████████████████████████████| 244M/244M [01:45<00:00, 2.43MiB/s]\n"
          ]
        }
      ]
    },
    {
      "cell_type": "code",
      "metadata": {
        "id": "-s4o0PPq0D2L"
      },
      "source": [
        "#Preprocess images in range (0,2500) and extract the images features with choosen model.\n",
        "#Whole data is splited to smaller part to make it easier to process.\n",
        "\n",
        "dv_img = []\n",
        "with torch.no_grad():\n",
        "  for i in range(0,2500):\n",
        "    dv_img.append(preprocess(Image.open(nn[i])).unsqueeze(0))"
      ],
      "execution_count": null,
      "outputs": []
    },
    {
      "cell_type": "code",
      "metadata": {
        "id": "Mnf2hod80GKj"
      },
      "source": [
        "\n",
        "image_features = []\n",
        "with torch.no_grad():\n",
        "  for i in range(0,len(dv_img)):\n",
        "    image_features.append(model.encode_image(dv_img[i]))"
      ],
      "execution_count": null,
      "outputs": []
    },
    {
      "cell_type": "code",
      "metadata": {
        "id": "DtiiviY90Hca"
      },
      "source": [
        "output = open('/content/drive/MyDrive/image_features2500_RN50.pkl', 'wb')\n",
        "pickle.dump(image_features, output)\n",
        "output.close()"
      ],
      "execution_count": null,
      "outputs": []
    },
    {
      "cell_type": "code",
      "metadata": {
        "id": "PeK1Hb1C0KlU"
      },
      "source": [
        "dv_img = []\n",
        "with torch.no_grad():\n",
        "  for i in range(2500,5000):\n",
        "    dv_img.append(preprocess(Image.open(nn[i])).unsqueeze(0))"
      ],
      "execution_count": null,
      "outputs": []
    },
    {
      "cell_type": "code",
      "metadata": {
        "id": "LgDb2yXu0Mvb"
      },
      "source": [
        "image_features1 = []\n",
        "with torch.no_grad():\n",
        "  for i in range(0,len(dv_img)):\n",
        "    image_features1.append(model.encode_image(dv_img[i]))"
      ],
      "execution_count": null,
      "outputs": []
    },
    {
      "cell_type": "code",
      "metadata": {
        "id": "Tzzgwy2r0ONb"
      },
      "source": [
        "output = open('/content/drive/MyDrive/image_features5000_RN50.pkl', 'wb')\n",
        "pickle.dump(image_features1, output)\n",
        "output.close()"
      ],
      "execution_count": null,
      "outputs": []
    },
    {
      "cell_type": "code",
      "metadata": {
        "id": "ZfnAIdyI0O9S"
      },
      "source": [
        "dv_img1 = []\n",
        "with torch.no_grad():\n",
        "  for i in range(5000,7500):\n",
        "    dv_img1.append(preprocess(Image.open(nn[i])).unsqueeze(0))"
      ],
      "execution_count": null,
      "outputs": []
    },
    {
      "cell_type": "code",
      "metadata": {
        "id": "ncgjXkpc0wVH"
      },
      "source": [
        "image_features1 = []\n",
        "with torch.no_grad():\n",
        "  for i in range(0,len(dv_img1)):\n",
        "    image_features1.append(model.encode_image(dv_img1[i]))"
      ],
      "execution_count": null,
      "outputs": []
    },
    {
      "cell_type": "code",
      "metadata": {
        "id": "BvgUVdZ80zA4"
      },
      "source": [
        "output = open('/content/drive/MyDrive/image_features7500_RN50.pkl', 'wb')\n",
        "pickle.dump(image_features1, output)\n",
        "output.close()"
      ],
      "execution_count": null,
      "outputs": []
    },
    {
      "cell_type": "code",
      "metadata": {
        "id": "ls1T9KxU1Npr"
      },
      "source": [
        "dv_img1 = []\n",
        "with torch.no_grad():\n",
        "  for i in range(7500,10000):\n",
        "    dv_img1.append(preprocess(Image.open(nn[i])).unsqueeze(0))"
      ],
      "execution_count": null,
      "outputs": []
    },
    {
      "cell_type": "code",
      "metadata": {
        "id": "hgr2ztFg1RQk"
      },
      "source": [
        "image_features1 = []\n",
        "with torch.no_grad():\n",
        "  for i in range(0,len(dv_img1)):\n",
        "    image_features1.append(model.encode_image(dv_img1[i]))"
      ],
      "execution_count": null,
      "outputs": []
    },
    {
      "cell_type": "code",
      "metadata": {
        "id": "wFyi_Grm1ROy"
      },
      "source": [
        "output = open('/content/drive/MyDrive/image_features10000_RN50.pkl', 'wb')\n",
        "pickle.dump(image_features1, output)\n",
        "output.close()"
      ],
      "execution_count": null,
      "outputs": []
    },
    {
      "cell_type": "code",
      "metadata": {
        "id": "3fGbyP1j1RND"
      },
      "source": [
        "dv_img1 = []\n",
        "with torch.no_grad():\n",
        "  for i in range(10000,12500):\n",
        "    dv_img1.append(preprocess(Image.open(nn[i])).unsqueeze(0))"
      ],
      "execution_count": null,
      "outputs": []
    },
    {
      "cell_type": "code",
      "metadata": {
        "id": "bfitjWOu1RLC"
      },
      "source": [
        "image_features1 = []\n",
        "with torch.no_grad():\n",
        "  for i in range(0,len(dv_img1)):\n",
        "    image_features1.append(model.encode_image(dv_img1[i]))"
      ],
      "execution_count": null,
      "outputs": []
    },
    {
      "cell_type": "code",
      "metadata": {
        "id": "ZS2VrCSv1RJe"
      },
      "source": [
        "output = open('/content/drive/MyDrive/image_features12500_RN50.pkl', 'wb')\n",
        "pickle.dump(image_features1, output)\n",
        "output.close()"
      ],
      "execution_count": null,
      "outputs": []
    },
    {
      "cell_type": "code",
      "metadata": {
        "id": "HrZROSRZ1RHt"
      },
      "source": [
        "dv_img1 = []\n",
        "with torch.no_grad():\n",
        "  for i in range(12500,15000):\n",
        "    dv_img1.append(preprocess(Image.open(nn[i])).unsqueeze(0))"
      ],
      "execution_count": null,
      "outputs": []
    },
    {
      "cell_type": "code",
      "metadata": {
        "id": "7vJCID_b1RGD"
      },
      "source": [
        "image_features1 = []\n",
        "with torch.no_grad():\n",
        "  for i in range(0,len(dv_img1)):\n",
        "    image_features1.append(model.encode_image(dv_img1[i]))"
      ],
      "execution_count": null,
      "outputs": []
    },
    {
      "cell_type": "code",
      "metadata": {
        "id": "RgcJuDnb1REQ"
      },
      "source": [
        "output = open('/content/drive/MyDrive/image_features15000_RN50.pkl', 'wb')\n",
        "pickle.dump(image_features1, output)\n",
        "output.close()"
      ],
      "execution_count": null,
      "outputs": []
    },
    {
      "cell_type": "code",
      "metadata": {
        "id": "xZC-KinP1RCU"
      },
      "source": [
        "dv_img1 = []\n",
        "with torch.no_grad():\n",
        "  for i in range(15000,17500):\n",
        "    dv_img1.append(preprocess(Image.open(nn[i])).unsqueeze(0))"
      ],
      "execution_count": null,
      "outputs": []
    },
    {
      "cell_type": "code",
      "metadata": {
        "id": "RECR5u961RAy"
      },
      "source": [
        "image_features1 = []\n",
        "with torch.no_grad():\n",
        "  for i in range(0,len(dv_img1)):\n",
        "    image_features1.append(model.encode_image(dv_img1[i]))"
      ],
      "execution_count": null,
      "outputs": []
    },
    {
      "cell_type": "code",
      "metadata": {
        "id": "327tzEpf1Q-6"
      },
      "source": [
        "output = open('/content/drive/MyDrive/image_features17500_RN50.pkl', 'wb')\n",
        "pickle.dump(image_features1, output)\n",
        "output.close()"
      ],
      "execution_count": null,
      "outputs": []
    },
    {
      "cell_type": "code",
      "metadata": {
        "id": "5o-wmYw51Q9V"
      },
      "source": [
        "dv_img1 = []\n",
        "with torch.no_grad():\n",
        "  for i in range(17500,20000):\n",
        "    dv_img1.append(preprocess(Image.open(nn[i])).unsqueeze(0))"
      ],
      "execution_count": null,
      "outputs": []
    },
    {
      "cell_type": "code",
      "metadata": {
        "id": "eiJv-j0y1Q7S"
      },
      "source": [
        "image_features1 = []\n",
        "with torch.no_grad():\n",
        "  for i in range(0,len(dv_img1)):\n",
        "    image_features1.append(model.encode_image(dv_img1[i]))"
      ],
      "execution_count": null,
      "outputs": []
    },
    {
      "cell_type": "code",
      "metadata": {
        "id": "kgTjLC001Q5K"
      },
      "source": [
        "output = open('/content/drive/MyDrive/image_features20000_RN50.pkl', 'wb')\n",
        "pickle.dump(image_features1, output)\n",
        "output.close()"
      ],
      "execution_count": null,
      "outputs": []
    },
    {
      "cell_type": "code",
      "metadata": {
        "id": "xmXNxZEg1Q0i"
      },
      "source": [
        "dv_img1 = []\n",
        "with torch.no_grad():\n",
        "  for i in range(20000,22500):\n",
        "    dv_img1.append(preprocess(Image.open(nn[i])).unsqueeze(0))"
      ],
      "execution_count": null,
      "outputs": []
    },
    {
      "cell_type": "code",
      "metadata": {
        "id": "RpnOGFcI1Qyi"
      },
      "source": [
        "image_features1 = []\n",
        "with torch.no_grad():\n",
        "  for i in range(0,len(dv_img1)):\n",
        "    image_features1.append(model.encode_image(dv_img1[i]))"
      ],
      "execution_count": null,
      "outputs": []
    },
    {
      "cell_type": "code",
      "metadata": {
        "id": "TGqa_EbG1Qwb"
      },
      "source": [
        "output = open('/content/drive/MyDrive/image_features22500_RN50.pkl', 'wb')\n",
        "pickle.dump(image_features1, output)\n",
        "output.close()"
      ],
      "execution_count": null,
      "outputs": []
    },
    {
      "cell_type": "code",
      "metadata": {
        "id": "49eX-7y91Qr7"
      },
      "source": [
        "dv_img1 = []\n",
        "with torch.no_grad():\n",
        "  for i in range(22500,24996):\n",
        "    dv_img1.append(preprocess(Image.open(nn[i])).unsqueeze(0))"
      ],
      "execution_count": null,
      "outputs": []
    },
    {
      "cell_type": "code",
      "metadata": {
        "id": "YMQuV2uI2-jJ"
      },
      "source": [
        "image_features1 = []\n",
        "with torch.no_grad():\n",
        "  for i in range(0,len(dv_img1)):\n",
        "    image_features1.append(model.encode_image(dv_img1[i]))"
      ],
      "execution_count": null,
      "outputs": []
    },
    {
      "cell_type": "code",
      "metadata": {
        "id": "26jFAG451QkS"
      },
      "source": [
        "output = open('/content/drive/MyDrive/image_features25000_RN50.pkl', 'wb')\n",
        "pickle.dump(image_features1, output)\n",
        "output.close()"
      ],
      "execution_count": null,
      "outputs": []
    },
    {
      "cell_type": "code",
      "metadata": {
        "id": "7Jq18SZWjWAo"
      },
      "source": [
        "import torch\n",
        "import pickle\n",
        "from sklearn.metrics.pairwise import cosine_similarity\n",
        "import numpy as np\n",
        "import math\n",
        "import pandas as pd\n",
        "\n"
      ],
      "execution_count": null,
      "outputs": []
    },
    {
      "cell_type": "code",
      "metadata": {
        "id": "G-SjqNhgjdm5"
      },
      "source": [
        "import torch\n",
        "import clip\n",
        "from PIL import Image\n",
        "\n",
        "device = \"cuda\" if torch.cuda.is_available() else \"cpu\"\n",
        "model, preprocess = clip.load(\"RN50\", device=device)"
      ],
      "execution_count": null,
      "outputs": []
    },
    {
      "cell_type": "code",
      "metadata": {
        "id": "ZUmSJZanjg6l"
      },
      "source": [
        "#RN50\n",
        "#Load extracted features and count cosine similarity between text and image features\n",
        "image_features_0 = pickle.load( open( \"/content/drive/MyDrive/image_features2500_RN50.pkl\", \"rb\" ) )\n",
        "image_features_1 = pickle.load( open( \"/content/drive/MyDrive/image_features5000_RN50.pkl\", \"rb\" ) )\n",
        "image_features_2 = pickle.load( open( \"/content/drive/MyDrive/image_features7500_RN50.pkl\", \"rb\" ) )\n",
        "image_features_3 = pickle.load( open( \"/content/drive/MyDrive/image_features10000_RN50.pkl\", \"rb\" ) )\n",
        "image_features_4 = pickle.load( open( \"/content/drive/MyDrive/image_features12500_RN50.pkl\", \"rb\" ) )\n",
        "image_features_5 = pickle.load( open( \"/content/drive/MyDrive/image_features15000_RN50.pkl\", \"rb\" ) )\n",
        "image_features_6 = pickle.load( open( \"/content/drive/MyDrive/image_features17500_RN50.pkl\", \"rb\" ) )\n",
        "image_features_7 = pickle.load( open( \"/content/drive/MyDrive/image_features20000_RN50.pkl\", \"rb\" ) )\n",
        "image_features_8 = pickle.load( open( \"/content/drive/MyDrive/image_features22500_RN50.pkl\", \"rb\" ) )\n",
        "image_features_9 = pickle.load( open( \"/content/drive/MyDrive/image_features25000_RN50.pkl\", \"rb\" ) )\n",
        "image_features = []\n",
        "\n",
        "\n",
        "\n"
      ],
      "execution_count": null,
      "outputs": []
    },
    {
      "cell_type": "code",
      "metadata": {
        "id": "Sy4E5qwan3D0"
      },
      "source": [
        "for i in range (0,len(image_features_0)):\n",
        "    image_features.append(image_features_0[i])\n",
        "\n",
        "for i in range (0,len(image_features_1)):\n",
        "    image_features.append(image_features_1[i])\n",
        "\n",
        "for i in range (0,len(image_features_2)):\n",
        "    image_features.append(image_features_2[i])\n",
        "\n",
        "for i in range (0,len(image_features_3)):\n",
        "    image_features.append(image_features_3[i])\n",
        "\n",
        "for i in range (0,len(image_features_4)):\n",
        "    image_features.append(image_features_4[i])"
      ],
      "execution_count": null,
      "outputs": []
    },
    {
      "cell_type": "code",
      "metadata": {
        "id": "a2VgnZg9oLXh"
      },
      "source": [
        "\n",
        "for i in range (0,len(image_features_5)):\n",
        "    image_features.append(image_features_5[i])\n",
        "\n",
        "for i in range (0,len(image_features_6)):\n",
        "    image_features.append(image_features_6[i])\n",
        "\n",
        "for i in range (0,len(image_features_7)):\n",
        "    image_features.append(image_features_7[i])\n",
        "\n",
        "for i in range (0,len(image_features_8)):\n",
        "    image_features.append(image_features_8[i])\n",
        "\n",
        "for i in range (0,len(image_features_9)):\n",
        "    image_features.append(image_features_9[i])"
      ],
      "execution_count": null,
      "outputs": []
    },
    {
      "cell_type": "code",
      "metadata": {
        "id": "GZvccffsoXUB"
      },
      "source": [
        "text_features1 = pickle.load(open('/content/drive/MyDrive/Kopia text_features_RN50_10.09.pkl', 'rb'))"
      ],
      "execution_count": null,
      "outputs": []
    },
    {
      "cell_type": "code",
      "metadata": {
        "id": "EJ_4GUZkoPEx"
      },
      "source": [
        "cos_sim_help =[]\n",
        "text_index = []\n",
        "image_index = []\n",
        "for i in range (0,200):\n",
        "#for i in range (0,5):\n",
        " for j in range (0,len(image_features)):\n",
        "#  for j in range (0,5):\n",
        "      cos_sim_help.append(cosine_similarity(text_features1[i], image_features[j])) \n",
        "      text_index.append(i)\n",
        "      image_index .append(nn[j])"
      ],
      "execution_count": null,
      "outputs": []
    },
    {
      "cell_type": "code",
      "metadata": {
        "id": "0SU8Dk_rOPei"
      },
      "source": [
        "cos_sim_help1 = list(cos_sim_help)\n",
        "x = [text_index, image_index, cos_sim_help]\n",
        "df = pd.DataFrame(x)\n",
        "df1_transposed = df.transpose()\n",
        "#df1_transposed\n",
        "df1_transposed.columns =['text_index', 'image_name', 'cos_sim_help']\n",
        "df1_transposed = df1_transposed['cos_sim_help'].astype(float)\n",
        "#df1_transposed"
      ],
      "execution_count": null,
      "outputs": []
    },
    {
      "cell_type": "code",
      "metadata": {
        "id": "0Kw8s1Rzoa5c"
      },
      "source": [
        "#Save partial results to file\n",
        "output = open('/content/drive/MyDrive/text_image_match_200_RN50.pkl', 'wb')\n",
        "pickle.dump(df1_transposed, output)\n",
        "output.close()"
      ],
      "execution_count": null,
      "outputs": []
    },
    {
      "cell_type": "code",
      "metadata": {
        "id": "wAttKUq2N0Uc"
      },
      "source": [
        "cos_sim_help =[]\n",
        "text_index = []\n",
        "image_index = []\n",
        "for i in range (200,400):\n",
        "#for i in range (0,5):\n",
        " for j in range (0,len(image_features)):\n",
        "#  for j in range (0,5):\n",
        "      cos_sim_help.append(cosine_similarity(text_features1[i], image_features[j])) \n",
        "      text_index.append(i)\n",
        "      image_index .append(nn[j])"
      ],
      "execution_count": null,
      "outputs": []
    },
    {
      "cell_type": "code",
      "metadata": {
        "id": "Tr43Aja9OQ8x"
      },
      "source": [
        "cos_sim_help1 = list(cos_sim_help)\n",
        "x = [text_index, image_index, cos_sim_help]\n",
        "df = pd.DataFrame(x)\n",
        "df1_transposed = df.transpose()\n",
        "#df1_transposed\n",
        "df1_transposed.columns =['text_index', 'image_name', 'cos_sim_help']\n",
        "df1_transposed = df1_transposed['cos_sim_help'].astype(float)\n",
        "#df1_transposed"
      ],
      "execution_count": null,
      "outputs": []
    },
    {
      "cell_type": "code",
      "metadata": {
        "id": "SH3SmKDzOnqR"
      },
      "source": [
        "output = open('/content/drive/MyDrive/text_image_match_400_RN50.pkl', 'wb')\n",
        "pickle.dump(df1_transposed, output)\n",
        "output.close()"
      ],
      "execution_count": null,
      "outputs": []
    },
    {
      "cell_type": "code",
      "metadata": {
        "id": "5_17zEJGN08a"
      },
      "source": [
        "cos_sim_help =[]\n",
        "text_index = []\n",
        "image_index = []\n",
        "for i in range (400,600):\n",
        "#for i in range (0,5):\n",
        " for j in range (0,len(image_features)):\n",
        "#  for j in range (0,5):\n",
        "      cos_sim_help.append(cosine_similarity(text_features1[i], image_features[j])) \n",
        "      text_index.append(i)\n",
        "      image_index .append(nn[j])"
      ],
      "execution_count": null,
      "outputs": []
    },
    {
      "cell_type": "code",
      "metadata": {
        "id": "X_gXMYwDORn5"
      },
      "source": [
        "cos_sim_help1 = list(cos_sim_help)\n",
        "x = [text_index, image_index, cos_sim_help]\n",
        "df = pd.DataFrame(x)\n",
        "df1_transposed = df.transpose()\n",
        "#df1_transposed\n",
        "df1_transposed.columns =['text_index', 'image_name', 'cos_sim_help']\n",
        "df1_transposed = df1_transposed['cos_sim_help'].astype(float)\n",
        "#df1_transposed"
      ],
      "execution_count": null,
      "outputs": []
    },
    {
      "cell_type": "code",
      "metadata": {
        "id": "B7f2AP1nOo4K"
      },
      "source": [
        "output = open('/content/drive/MyDrive/text_image_match_600_RN50.pkl', 'wb')\n",
        "pickle.dump(df1_transposed, output)\n",
        "output.close()"
      ],
      "execution_count": null,
      "outputs": []
    },
    {
      "cell_type": "code",
      "metadata": {
        "id": "1Fh9NydWN1Yy"
      },
      "source": [
        "cos_sim_help =[]\n",
        "text_index = []\n",
        "image_index = []\n",
        "for i in range (600,800):\n",
        "#for i in range (0,5):\n",
        " for j in range (0,len(image_features)):\n",
        "#  for j in range (0,5):\n",
        "      cos_sim_help.append(cosine_similarity(text_features1[i], image_features[j])) \n",
        "      text_index.append(i)\n",
        "      image_index .append(nn[j])"
      ],
      "execution_count": null,
      "outputs": []
    },
    {
      "cell_type": "code",
      "metadata": {
        "id": "26z3UdfHOSJx"
      },
      "source": [
        "cos_sim_help1 = list(cos_sim_help)\n",
        "x = [text_index, image_index, cos_sim_help]\n",
        "df = pd.DataFrame(x)\n",
        "df1_transposed = df.transpose()\n",
        "#df1_transposed\n",
        "df1_transposed.columns =['text_index', 'image_name', 'cos_sim_help']\n",
        "df1_transposed = df1_transposed['cos_sim_help'].astype(float)\n",
        "#df1_transposed"
      ],
      "execution_count": null,
      "outputs": []
    },
    {
      "cell_type": "code",
      "metadata": {
        "id": "snQ5J4F_OqVs"
      },
      "source": [
        "output = open('/content/drive/MyDrive/text_image_match_800_RN50.pkl', 'wb')\n",
        "pickle.dump(df1_transposed, output)\n",
        "output.close()"
      ],
      "execution_count": null,
      "outputs": []
    },
    {
      "cell_type": "code",
      "metadata": {
        "id": "hAVdew46N17y"
      },
      "source": [
        "cos_sim_help =[]\n",
        "text_index = []\n",
        "image_index = []\n",
        "for i in range (800,1000):\n",
        "#for i in range (0,5):\n",
        " for j in range (0,len(image_features)):\n",
        "#  for j in range (0,5):\n",
        "      cos_sim_help.append(cosine_similarity(text_features1[i], image_features[j])) \n",
        "      text_index.append(i)\n",
        "      image_index .append(nn[j])"
      ],
      "execution_count": null,
      "outputs": []
    },
    {
      "cell_type": "code",
      "metadata": {
        "id": "5maZHUPsOSqB"
      },
      "source": [
        "cos_sim_help1 = list(cos_sim_help)\n",
        "x = [text_index, image_index, cos_sim_help]\n",
        "df = pd.DataFrame(x)\n",
        "df1_transposed = df.transpose()\n",
        "#df1_transposed\n",
        "df1_transposed.columns =['text_index', 'image_name', 'cos_sim_help']\n",
        "df1_transposed = df1_transposed['cos_sim_help'].astype(float)\n",
        "#df1_transposed"
      ],
      "execution_count": null,
      "outputs": []
    },
    {
      "cell_type": "code",
      "metadata": {
        "id": "_nxfVcHAOr1R"
      },
      "source": [
        "output = open('/content/drive/MyDrive/text_image_match_1000_RN50.pkl', 'wb')\n",
        "pickle.dump(df1_transposed, output)\n",
        "output.close()"
      ],
      "execution_count": null,
      "outputs": []
    },
    {
      "cell_type": "code",
      "metadata": {
        "id": "FI87ikFzN-WR"
      },
      "source": [
        "cos_sim_help =[]\n",
        "text_index = []\n",
        "image_index = []\n",
        "for i in range (1000,1200):\n",
        "#for i in range (0,5):\n",
        " for j in range (0,len(image_features)):\n",
        "#  for j in range (0,5):\n",
        "      cos_sim_help.append(cosine_similarity(text_features1[i], image_features[j])) \n",
        "      text_index.append(i)\n",
        "      image_index .append(nn[j])"
      ],
      "execution_count": null,
      "outputs": []
    },
    {
      "cell_type": "code",
      "metadata": {
        "id": "7eufIwL0OTN5"
      },
      "source": [
        "cos_sim_help1 = list(cos_sim_help)\n",
        "x = [text_index, image_index, cos_sim_help]\n",
        "df = pd.DataFrame(x)\n",
        "df1_transposed = df.transpose()\n",
        "#df1_transposed\n",
        "df1_transposed.columns =['text_index', 'image_name', 'cos_sim_help']\n",
        "df1_transposed = df1_transposed['cos_sim_help'].astype(float)\n",
        "#df1_transposed"
      ],
      "execution_count": null,
      "outputs": []
    },
    {
      "cell_type": "code",
      "metadata": {
        "id": "2Xa2xQpWOtdT"
      },
      "source": [
        "output = open('/content/drive/MyDrive/text_image_match_1200_RN50.pkl', 'wb')\n",
        "pickle.dump(df1_transposed, output)\n",
        "output.close()"
      ],
      "execution_count": null,
      "outputs": []
    },
    {
      "cell_type": "code",
      "metadata": {
        "id": "ZU9Fs8ngOASZ"
      },
      "source": [
        "cos_sim_help =[]\n",
        "text_index = []\n",
        "image_index = []\n",
        "for i in range (1200,1400):\n",
        "#for i in range (0,5):\n",
        " for j in range (0,len(image_features)):\n",
        "#  for j in range (0,5):\n",
        "      cos_sim_help.append(cosine_similarity(text_features1[i], image_features[j])) \n",
        "      text_index.append(i)\n",
        "      image_index .append(nn[j])"
      ],
      "execution_count": null,
      "outputs": []
    },
    {
      "cell_type": "code",
      "metadata": {
        "id": "FyJ0jguFOTth"
      },
      "source": [
        "cos_sim_help1 = list(cos_sim_help)\n",
        "x = [text_index, image_index, cos_sim_help]\n",
        "df = pd.DataFrame(x)\n",
        "df1_transposed = df.transpose()\n",
        "#df1_transposed\n",
        "df1_transposed.columns =['text_index', 'image_name', 'cos_sim_help']\n",
        "df1_transposed = df1_transposed['cos_sim_help'].astype(float)\n",
        "#df1_transposed"
      ],
      "execution_count": null,
      "outputs": []
    },
    {
      "cell_type": "code",
      "metadata": {
        "id": "6DtOa4ISOujD"
      },
      "source": [
        "output = open('/content/drive/MyDrive/text_image_match_1400_RN50.pkl', 'wb')\n",
        "pickle.dump(df1_transposed, output)\n",
        "output.close()"
      ],
      "execution_count": null,
      "outputs": []
    },
    {
      "cell_type": "code",
      "metadata": {
        "id": "aWIKhnUJOA05"
      },
      "source": [
        "cos_sim_help =[]\n",
        "text_index = []\n",
        "image_index = []\n",
        "for i in range (1400,1600):\n",
        "#for i in range (0,5):\n",
        " for j in range (0,len(image_features)):\n",
        "#  for j in range (0,5):\n",
        "      cos_sim_help.append(cosine_similarity(text_features1[i], image_features[j])) \n",
        "      text_index.append(i)\n",
        "      image_index .append(nn[j])"
      ],
      "execution_count": null,
      "outputs": []
    },
    {
      "cell_type": "code",
      "metadata": {
        "id": "cW5HSAhPOiOS"
      },
      "source": [
        "cos_sim_help1 = list(cos_sim_help)\n",
        "x = [text_index, image_index, cos_sim_help]\n",
        "df = pd.DataFrame(x)\n",
        "df1_transposed = df.transpose()\n",
        "#df1_transposed\n",
        "df1_transposed.columns =['text_index', 'image_name', 'cos_sim_help']\n",
        "df1_transposed = df1_transposed['cos_sim_help'].astype(float)\n",
        "#df1_transposed"
      ],
      "execution_count": null,
      "outputs": []
    },
    {
      "cell_type": "code",
      "metadata": {
        "id": "1ST-DMWdOv48"
      },
      "source": [
        "output = open('/content/drive/MyDrive/text_image_match_1600_RN50.pkl', 'wb')\n",
        "pickle.dump(df1_transposed, output)\n",
        "output.close()"
      ],
      "execution_count": null,
      "outputs": []
    },
    {
      "cell_type": "code",
      "metadata": {
        "colab": {
          "background_save": true
        },
        "id": "cNXgYW6bOBYR"
      },
      "source": [
        "cos_sim_help =[]\n",
        "text_index = []\n",
        "image_index = []\n",
        "for i in range (1600,1800):\n",
        "#for i in range (0,5):\n",
        " for j in range (0,len(image_features)):\n",
        "#  for j in range (0,5):\n",
        "      cos_sim_help.append(cosine_similarity(text_features1[i], image_features[j])) \n",
        "      text_index.append(i)\n",
        "      image_index .append(nn[j])"
      ],
      "execution_count": null,
      "outputs": []
    },
    {
      "cell_type": "code",
      "metadata": {
        "colab": {
          "background_save": true
        },
        "id": "h8A1I_4oOhkU"
      },
      "source": [
        "cos_sim_help1 = list(cos_sim_help)\n",
        "x = [text_index, image_index, cos_sim_help]\n",
        "df = pd.DataFrame(x)\n",
        "df1_transposed = df.transpose()\n",
        "#df1_transposed\n",
        "df1_transposed.columns =['text_index', 'image_name', 'cos_sim_help']\n",
        "df1_transposed = df1_transposed['cos_sim_help'].astype(float)\n",
        "#df1_transposed"
      ],
      "execution_count": null,
      "outputs": []
    },
    {
      "cell_type": "code",
      "metadata": {
        "colab": {
          "background_save": true
        },
        "id": "DFfO2_LDOw_x"
      },
      "source": [
        "output = open('/content/drive/MyDrive/text_image_match_1800_RN50.pkl', 'wb')\n",
        "pickle.dump(df1_transposed, output)\n",
        "output.close()"
      ],
      "execution_count": null,
      "outputs": []
    },
    {
      "cell_type": "code",
      "metadata": {
        "colab": {
          "background_save": true
        },
        "id": "8iC7SPzSOBxh"
      },
      "source": [
        "cos_sim_help =[]\n",
        "text_index = []\n",
        "image_index = []\n",
        "for i in range (1800,2000):\n",
        "#for i in range (0,5):\n",
        " for j in range (0,len(image_features)):\n",
        "#  for j in range (0,5):\n",
        "      cos_sim_help.append(cosine_similarity(text_features1[i], image_features[j])) \n",
        "      text_index.append(i)\n",
        "      image_index .append(nn[j])"
      ],
      "execution_count": null,
      "outputs": []
    },
    {
      "cell_type": "code",
      "metadata": {
        "colab": {
          "background_save": true
        },
        "id": "2DHE9-LhOkAi"
      },
      "source": [
        "cos_sim_help1 = list(cos_sim_help)\n",
        "x = [text_index, image_index, cos_sim_help]\n",
        "df = pd.DataFrame(x)\n",
        "df1_transposed = df.transpose()\n",
        "#df1_transposed\n",
        "df1_transposed.columns =['text_index', 'image_name', 'cos_sim_help']\n",
        "df1_transposed = df1_transposed['cos_sim_help'].astype(float)\n",
        "#df1_transposed"
      ],
      "execution_count": null,
      "outputs": []
    },
    {
      "cell_type": "code",
      "metadata": {
        "colab": {
          "background_save": true
        },
        "id": "JJfZzcopOyL5"
      },
      "source": [
        "output = open('/content/drive/MyDrive/text_image_match_2000_RN50.pkl', 'wb')\n",
        "pickle.dump(df1_transposed, output)\n",
        "output.close()"
      ],
      "execution_count": null,
      "outputs": []
    },
    {
      "cell_type": "code",
      "metadata": {
        "colab": {
          "background_save": true
        },
        "id": "0BKMlvFZOG9B"
      },
      "source": [
        "cos_sim_help =[]\n",
        "text_index = []\n",
        "image_index = []\n",
        "for i in range (2000,2177):\n",
        "#for i in range (0,5):\n",
        " for j in range (0,len(image_features)):\n",
        "#  for j in range (0,5):\n",
        "      cos_sim_help.append(cosine_similarity(text_features1[i], image_features[j])) \n",
        "      text_index.append(i)\n",
        "      image_index .append(nn[j])"
      ],
      "execution_count": null,
      "outputs": []
    },
    {
      "cell_type": "code",
      "metadata": {
        "colab": {
          "background_save": true
        },
        "id": "NEvrn7eOOkeJ"
      },
      "source": [
        "cos_sim_help1 = list(cos_sim_help)\n",
        "x = [text_index, image_index, cos_sim_help]\n",
        "df = pd.DataFrame(x)\n",
        "df1_transposed = df.transpose()\n",
        "#df1_transposed\n",
        "df1_transposed.columns =['text_index', 'image_name', 'cos_sim_help']\n",
        "df1_transposed = df1_transposed['cos_sim_help'].astype(float)\n",
        "#df1_transposed"
      ],
      "execution_count": null,
      "outputs": []
    },
    {
      "cell_type": "code",
      "metadata": {
        "id": "jpdMOhZHOz7p"
      },
      "source": [
        "output = open('/content/drive/MyDrive/text_image_match_2200_RN50.pkl', 'wb')\n",
        "pickle.dump(df1_transposed, output)\n",
        "output.close()"
      ],
      "execution_count": null,
      "outputs": []
    }
  ]
}