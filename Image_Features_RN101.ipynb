{
  "nbformat": 4,
  "nbformat_minor": 0,
  "metadata": {
    "colab": {
      "name": "Image_Features_RN101",
      "provenance": []
    },
    "kernelspec": {
      "display_name": "Python 3",
      "name": "python3"
    },
    "language_info": {
      "name": "python"
    }
  },
  "cells": [
    {
      "cell_type": "code",
      "metadata": {
        "id": "x30XfGDjzdnA"
      },
      "source": [
        "!pip install pytorch=1.7.1 \n",
        "!pip install torchvision cudatoolkit=11.0\n",
        "!pip install ftfy regex tqdm\n",
        "!pip install git+https://github.com/openai/CLIP.git\n",
        "!pip install sentence_transformers"
      ],
      "execution_count": null,
      "outputs": []
    },
    {
      "cell_type": "code",
      "metadata": {
        "id": "SSuePdxSi98u"
      },
      "source": [
        "from google.colab import drive\n",
        "drive.mount('/content/drive')"
      ],
      "execution_count": null,
      "outputs": []
    },
    {
      "cell_type": "code",
      "metadata": {
        "id": "bWnaMtxWzkyT"
      },
      "source": [
        "from IPython.display import Image as IPImage\n",
        "import os\n",
        "import glob\n",
        "import torch\n",
        "import pickle\n",
        "import zipfile\n",
        "from tqdm.autonotebook import tqdm\n",
        "import sentence_transformers\n",
        "from sentence_transformers import SentenceTransformer, util\n",
        "import torch\n",
        "import clip\n",
        "from PIL import Image"
      ],
      "execution_count": null,
      "outputs": []
    },
    {
      "cell_type": "code",
      "metadata": {
        "id": "wRHKQKo2zwcD"
      },
      "source": [
        "# Next, we get about 25k images from Unsplash \n",
        "img_folder = 'photos/'\n",
        "if not os.path.exists(img_folder) or len(os.listdir(img_folder)) == 0:\n",
        "    os.makedirs(img_folder, exist_ok=True)\n",
        "    \n",
        "    photo_filename = 'unsplash-25k-photos.zip'\n",
        "    if not os.path.exists(photo_filename):   #Download dataset if does not exist\n",
        "        util.http_get('http://sbert.net/datasets/'+photo_filename, photo_filename)\n",
        "        \n",
        "    #Extract all images\n",
        "    with zipfile.ZipFile(photo_filename, 'r') as zf:\n",
        "        for member in tqdm(zf.infolist(), desc='Extracting'):\n",
        "            zf.extract(member, img_folder)\n",
        "        "
      ],
      "execution_count": null,
      "outputs": []
    },
    {
      "cell_type": "code",
      "metadata": {
        "id": "eYZvCvmJkTRG"
      },
      "source": [
        "import pandas as pd\n",
        "image_names = pd.read_excel('/content/drive/MyDrive/Kopia image_list_Vit32_14.09.xlsx')"
      ],
      "execution_count": null,
      "outputs": []
    },
    {
      "cell_type": "code",
      "metadata": {
        "id": "gkVv6stvlU3n"
      },
      "source": [
        "image_names = image_names['link']"
      ],
      "execution_count": null,
      "outputs": []
    },
    {
      "cell_type": "code",
      "metadata": {
        "id": "LF-u6UTwnGWO"
      },
      "source": [
        "nn = image_names"
      ],
      "execution_count": null,
      "outputs": []
    },
    {
      "cell_type": "code",
      "metadata": {
        "colab": {
          "base_uri": "https://localhost:8080/"
        },
        "id": "YdDtbuH3z0yz",
        "outputId": "83c73747-dd68-4c71-891e-4ccb90f13262"
      },
      "source": [
        "device = \"cuda\" if torch.cuda.is_available() else \"cpu\"\n",
        "#['RN50', 'RN101', 'RN50x4', 'RN50x16', 'ViT-B/32', 'ViT-B/16'] list of available models in CLIP\n",
        "model, preprocess = clip.load(\"RN101\", device=device)"
      ],
      "execution_count": null,
      "outputs": [
        {
          "name": "stderr",
          "output_type": "stream",
          "text": [
            "100%|███████████████████████████████████████| 278M/278M [00:11<00:00, 24.8MiB/s]\n"
          ]
        }
      ]
    },
    {
      "cell_type": "code",
      "metadata": {
        "id": "-s4o0PPq0D2L"
      },
      "source": [
        "dv_img = []\n",
        "with torch.no_grad():\n",
        "  for i in range(0,2500):\n",
        "    dv_img.append(preprocess(Image.open(nn[i])).unsqueeze(0))"
      ],
      "execution_count": null,
      "outputs": []
    },
    {
      "cell_type": "code",
      "metadata": {
        "id": "Mnf2hod80GKj"
      },
      "source": [
        "#Preprocess images in range (0,2500) and extract the images features with choosen model.\n",
        "#Whole data is splited to smaller part to make it easier to process.\n",
        "image_features = []\n",
        "with torch.no_grad():\n",
        "  for i in range(0,len(dv_img)):\n",
        "    image_features.append(model.encode_image(dv_img[i]))"
      ],
      "execution_count": null,
      "outputs": []
    },
    {
      "cell_type": "code",
      "metadata": {
        "id": "DtiiviY90Hca"
      },
      "source": [
        "output = open('/content/drive/MyDrive/image_features2500_RN101.pkl', 'wb')\n",
        "pickle.dump(image_features, output)\n",
        "output.close()"
      ],
      "execution_count": null,
      "outputs": []
    },
    {
      "cell_type": "code",
      "metadata": {
        "id": "PeK1Hb1C0KlU"
      },
      "source": [
        "dv_img = []\n",
        "with torch.no_grad():\n",
        "  for i in range(2500,5000):\n",
        "    dv_img.append(preprocess(Image.open(nn[i])).unsqueeze(0))"
      ],
      "execution_count": null,
      "outputs": []
    },
    {
      "cell_type": "code",
      "metadata": {
        "id": "LgDb2yXu0Mvb"
      },
      "source": [
        "image_features1 = []\n",
        "with torch.no_grad():\n",
        "  for i in range(0,len(dv_img)):\n",
        "    image_features1.append(model.encode_image(dv_img[i]))"
      ],
      "execution_count": null,
      "outputs": []
    },
    {
      "cell_type": "code",
      "metadata": {
        "id": "Tzzgwy2r0ONb"
      },
      "source": [
        "output = open('/content/drive/MyDrive/image_features5000_RN101.pkl', 'wb')\n",
        "pickle.dump(image_features1, output)\n",
        "output.close()"
      ],
      "execution_count": null,
      "outputs": []
    },
    {
      "cell_type": "code",
      "metadata": {
        "id": "ZfnAIdyI0O9S"
      },
      "source": [
        "dv_img1 = []\n",
        "with torch.no_grad():\n",
        "  for i in range(5000,7500):\n",
        "    dv_img1.append(preprocess(Image.open(nn[i])).unsqueeze(0))"
      ],
      "execution_count": null,
      "outputs": []
    },
    {
      "cell_type": "code",
      "metadata": {
        "id": "ncgjXkpc0wVH"
      },
      "source": [
        "image_features1 = []\n",
        "with torch.no_grad():\n",
        "  for i in range(0,len(dv_img1)):\n",
        "    image_features1.append(model.encode_image(dv_img1[i]))"
      ],
      "execution_count": null,
      "outputs": []
    },
    {
      "cell_type": "code",
      "metadata": {
        "id": "BvgUVdZ80zA4"
      },
      "source": [
        "output = open('/content/drive/MyDrive/image_features7500_RN101.pkl', 'wb')\n",
        "pickle.dump(image_features1, output)\n",
        "output.close()"
      ],
      "execution_count": null,
      "outputs": []
    },
    {
      "cell_type": "code",
      "metadata": {
        "id": "ls1T9KxU1Npr"
      },
      "source": [
        "dv_img1 = []\n",
        "with torch.no_grad():\n",
        "  for i in range(7500,10000):\n",
        "    dv_img1.append(preprocess(Image.open(nn[i])).unsqueeze(0))"
      ],
      "execution_count": null,
      "outputs": []
    },
    {
      "cell_type": "code",
      "metadata": {
        "id": "hgr2ztFg1RQk"
      },
      "source": [
        "image_features1 = []\n",
        "with torch.no_grad():\n",
        "  for i in range(0,len(dv_img1)):\n",
        "    image_features1.append(model.encode_image(dv_img1[i]))"
      ],
      "execution_count": null,
      "outputs": []
    },
    {
      "cell_type": "code",
      "metadata": {
        "id": "wFyi_Grm1ROy"
      },
      "source": [
        "output = open('/content/drive/MyDrive/image_features10000_RN101.pkl', 'wb')\n",
        "pickle.dump(image_features1, output)\n",
        "output.close()"
      ],
      "execution_count": null,
      "outputs": []
    },
    {
      "cell_type": "code",
      "metadata": {
        "id": "3fGbyP1j1RND"
      },
      "source": [
        "dv_img1 = []\n",
        "with torch.no_grad():\n",
        "  for i in range(10000,12500):\n",
        "    dv_img1.append(preprocess(Image.open(nn[i])).unsqueeze(0))"
      ],
      "execution_count": null,
      "outputs": []
    },
    {
      "cell_type": "code",
      "metadata": {
        "id": "bfitjWOu1RLC"
      },
      "source": [
        "image_features1 = []\n",
        "with torch.no_grad():\n",
        "  for i in range(0,len(dv_img1)):\n",
        "    image_features1.append(model.encode_image(dv_img1[i]))"
      ],
      "execution_count": null,
      "outputs": []
    },
    {
      "cell_type": "code",
      "metadata": {
        "id": "ZS2VrCSv1RJe"
      },
      "source": [
        "output = open('/content/drive/MyDrive/image_features12500_RN101.pkl', 'wb')\n",
        "pickle.dump(image_features1, output)\n",
        "output.close()"
      ],
      "execution_count": null,
      "outputs": []
    },
    {
      "cell_type": "code",
      "metadata": {
        "id": "HrZROSRZ1RHt"
      },
      "source": [
        "dv_img1 = []\n",
        "with torch.no_grad():\n",
        "  for i in range(12500,15000):\n",
        "    dv_img1.append(preprocess(Image.open(nn[i])).unsqueeze(0))"
      ],
      "execution_count": null,
      "outputs": []
    },
    {
      "cell_type": "code",
      "metadata": {
        "id": "7vJCID_b1RGD"
      },
      "source": [
        "image_features1 = []\n",
        "with torch.no_grad():\n",
        "  for i in range(0,len(dv_img1)):\n",
        "    image_features1.append(model.encode_image(dv_img1[i]))"
      ],
      "execution_count": null,
      "outputs": []
    },
    {
      "cell_type": "code",
      "metadata": {
        "id": "RgcJuDnb1REQ"
      },
      "source": [
        "output = open('/content/drive/MyDrive/image_features15000_RN101.pkl', 'wb')\n",
        "pickle.dump(image_features1, output)\n",
        "output.close()"
      ],
      "execution_count": null,
      "outputs": []
    },
    {
      "cell_type": "code",
      "metadata": {
        "id": "xZC-KinP1RCU"
      },
      "source": [
        "dv_img1 = []\n",
        "with torch.no_grad():\n",
        "  for i in range(15000,17500):\n",
        "    dv_img1.append(preprocess(Image.open(nn[i])).unsqueeze(0))"
      ],
      "execution_count": null,
      "outputs": []
    },
    {
      "cell_type": "code",
      "metadata": {
        "id": "RECR5u961RAy"
      },
      "source": [
        "image_features1 = []\n",
        "with torch.no_grad():\n",
        "  for i in range(0,len(dv_img1)):\n",
        "    image_features1.append(model.encode_image(dv_img1[i]))"
      ],
      "execution_count": null,
      "outputs": []
    },
    {
      "cell_type": "code",
      "metadata": {
        "id": "327tzEpf1Q-6"
      },
      "source": [
        "output = open('/content/drive/MyDrive/image_features17500_RN101.pkl', 'wb')\n",
        "pickle.dump(image_features1, output)\n",
        "output.close()"
      ],
      "execution_count": null,
      "outputs": []
    },
    {
      "cell_type": "code",
      "metadata": {
        "id": "5o-wmYw51Q9V"
      },
      "source": [
        "dv_img1 = []\n",
        "with torch.no_grad():\n",
        "  for i in range(17500,20000):\n",
        "    dv_img1.append(preprocess(Image.open(nn[i])).unsqueeze(0))"
      ],
      "execution_count": null,
      "outputs": []
    },
    {
      "cell_type": "code",
      "metadata": {
        "id": "eiJv-j0y1Q7S"
      },
      "source": [
        "image_features1 = []\n",
        "with torch.no_grad():\n",
        "  for i in range(0,len(dv_img1)):\n",
        "    image_features1.append(model.encode_image(dv_img1[i]))"
      ],
      "execution_count": null,
      "outputs": []
    },
    {
      "cell_type": "code",
      "metadata": {
        "id": "kgTjLC001Q5K"
      },
      "source": [
        "output = open('/content/drive/MyDrive/image_features20000_RN101.pkl', 'wb')\n",
        "pickle.dump(image_features1, output)\n",
        "output.close()"
      ],
      "execution_count": null,
      "outputs": []
    },
    {
      "cell_type": "code",
      "metadata": {
        "id": "xmXNxZEg1Q0i"
      },
      "source": [
        "dv_img1 = []\n",
        "with torch.no_grad():\n",
        "  for i in range(20000,22500):\n",
        "    dv_img1.append(preprocess(Image.open(nn[i])).unsqueeze(0))"
      ],
      "execution_count": null,
      "outputs": []
    },
    {
      "cell_type": "code",
      "metadata": {
        "id": "RpnOGFcI1Qyi"
      },
      "source": [
        "image_features1 = []\n",
        "with torch.no_grad():\n",
        "  for i in range(0,len(dv_img1)):\n",
        "    image_features1.append(model.encode_image(dv_img1[i]))"
      ],
      "execution_count": null,
      "outputs": []
    },
    {
      "cell_type": "code",
      "metadata": {
        "id": "TGqa_EbG1Qwb"
      },
      "source": [
        "output = open('/content/drive/MyDrive/image_features22500_RN101.pkl', 'wb')\n",
        "pickle.dump(image_features1, output)\n",
        "output.close()"
      ],
      "execution_count": null,
      "outputs": []
    },
    {
      "cell_type": "code",
      "metadata": {
        "id": "49eX-7y91Qr7"
      },
      "source": [
        "dv_img1 = []\n",
        "with torch.no_grad():\n",
        "  for i in range(22500,24996):\n",
        "    dv_img1.append(preprocess(Image.open(nn[i])).unsqueeze(0))"
      ],
      "execution_count": null,
      "outputs": []
    },
    {
      "cell_type": "code",
      "metadata": {
        "id": "YMQuV2uI2-jJ"
      },
      "source": [
        "image_features1 = []\n",
        "with torch.no_grad():\n",
        "  for i in range(0,len(dv_img1)):\n",
        "    image_features1.append(model.encode_image(dv_img1[i]))"
      ],
      "execution_count": null,
      "outputs": []
    },
    {
      "cell_type": "code",
      "metadata": {
        "id": "26jFAG451QkS"
      },
      "source": [
        "output = open('/content/drive/MyDrive/image_features25000_RN101.pkl', 'wb')\n",
        "pickle.dump(image_features1, output)\n",
        "output.close()"
      ],
      "execution_count": null,
      "outputs": []
    },
    {
      "cell_type": "code",
      "metadata": {
        "id": "7Jq18SZWjWAo"
      },
      "source": [
        "import torch\n",
        "import pickle\n",
        "from sklearn.metrics.pairwise import cosine_similarity\n",
        "import numpy as np\n",
        "import math\n",
        "import pandas as pd\n",
        "\n"
      ],
      "execution_count": null,
      "outputs": []
    },
    {
      "cell_type": "code",
      "metadata": {
        "colab": {
          "base_uri": "https://localhost:8080/"
        },
        "id": "G-SjqNhgjdm5",
        "outputId": "be709947-29f2-461c-f831-d0edf963cf6a"
      },
      "source": [
        "import torch\n",
        "import clip\n",
        "from PIL import Image\n",
        "\n",
        "device = \"cuda\" if torch.cuda.is_available() else \"cpu\"\n",
        "model, preprocess = clip.load(\"RN101\", device=device)"
      ],
      "execution_count": null,
      "outputs": [
        {
          "name": "stderr",
          "output_type": "stream",
          "text": [
            "100%|████████████████████████████████████████| 338M/338M [00:03<00:00, 107MiB/s]\n"
          ]
        }
      ]
    },
    {
      "cell_type": "code",
      "metadata": {
        "id": "ZUmSJZanjg6l"
      },
      "source": [
        "#RN101\n",
        "#Load extracted features and count cosine similarity between text and image features\n",
        "image_features_0 = pickle.load( open( \"/content/drive/MyDrive/image_features2500_RN101.pkl\", \"rb\" ) )\n",
        "image_features_1 = pickle.load( open( \"/content/drive/MyDrive/image_features5000_RN101.pkl\", \"rb\" ) )\n",
        "image_features_2 = pickle.load( open( \"/content/drive/MyDrive/image_features7500_RN101.pkl\", \"rb\" ) )\n",
        "image_features_3 = pickle.load( open( \"/content/drive/MyDrive/image_features10000_RN101.pkl\", \"rb\" ) )\n",
        "image_features_4 = pickle.load( open( \"/content/drive/MyDrive/image_features12500_RN101.pkl\", \"rb\" ) )\n",
        "image_features_5 = pickle.load( open( \"/content/drive/MyDrive/image_features15000_RN101.pkl\", \"rb\" ) )\n",
        "image_features_6 = pickle.load( open( \"/content/drive/MyDrive/image_features17500_RN101.pkl\", \"rb\" ) )\n",
        "image_features_7 = pickle.load( open( \"/content/drive/MyDrive/image_features20000_RN101.pkl\", \"rb\" ) )\n",
        "image_features_8 = pickle.load( open( \"/content/drive/MyDrive/image_features22500_RN101.pkl\", \"rb\" ) )\n",
        "image_features_9 = pickle.load( open( \"/content/drive/MyDrive/image_features25000_RN101.pkl\", \"rb\" ) )\n",
        "image_features = []\n",
        "\n",
        "\n",
        "\n",
        "\n"
      ],
      "execution_count": null,
      "outputs": []
    },
    {
      "cell_type": "code",
      "metadata": {
        "id": "Sy4E5qwan3D0"
      },
      "source": [
        "for i in range (0,len(image_features_0)):\n",
        "    image_features.append(image_features_0[i])\n",
        "\n",
        "for i in range (0,len(image_features_1)):\n",
        "    image_features.append(image_features_1[i])\n",
        "\n",
        "for i in range (0,len(image_features_2)):\n",
        "    image_features.append(image_features_2[i])\n",
        "\n",
        "for i in range (0,len(image_features_3)):\n",
        "    image_features.append(image_features_3[i])\n",
        "\n",
        "for i in range (0,len(image_features_4)):\n",
        "    image_features.append(image_features_4[i])"
      ],
      "execution_count": null,
      "outputs": []
    },
    {
      "cell_type": "code",
      "metadata": {
        "id": "a2VgnZg9oLXh"
      },
      "source": [
        "\n",
        "for i in range (0,len(image_features_5)):\n",
        "    image_features.append(image_features_5[i])\n",
        "\n",
        "for i in range (0,len(image_features_6)):\n",
        "    image_features.append(image_features_6[i])\n",
        "\n",
        "for i in range (0,len(image_features_7)):\n",
        "    image_features.append(image_features_7[i])\n",
        "\n",
        "for i in range (0,len(image_features_8)):\n",
        "    image_features.append(image_features_8[i])\n",
        "\n",
        "for i in range (0,len(image_features_9)):\n",
        "    image_features.append(image_features_9[i])"
      ],
      "execution_count": null,
      "outputs": []
    },
    {
      "cell_type": "code",
      "metadata": {
        "id": "GZvccffsoXUB"
      },
      "source": [
        "text_features1 = pickle.load(open('/content/drive/MyDrive/Kopia text_features_RN101_10.09.pkl', 'rb'))"
      ],
      "execution_count": null,
      "outputs": []
    },
    {
      "cell_type": "code",
      "metadata": {
        "id": "EJ_4GUZkoPEx"
      },
      "source": [
        "cos_sim_help =[]\n",
        "text_index = []\n",
        "image_index = []\n",
        "for i in range (0,200):\n",
        "#for i in range (0,5):\n",
        " for j in range (0,len(image_features)):\n",
        "#  for j in range (0,5):\n",
        "      cos_sim_help.append(cosine_similarity(text_features1[i], image_features[j])) \n",
        "      text_index.append(i)\n",
        "      image_index.append(nn[j])"
      ],
      "execution_count": null,
      "outputs": []
    },
    {
      "cell_type": "code",
      "metadata": {
        "id": "CMLO91G4oWsr"
      },
      "source": [
        "cos_sim_help1 = list(cos_sim_help)\n",
        "x = [text_index, image_index, cos_sim_help]\n",
        "df = pd.DataFrame(x)\n",
        "#df = df.astype(float)\n",
        "df1_transposed = df.transpose()\n",
        "#df1_transposed\n",
        "df1_transposed.columns =['text_index', 'image_name', 'cos_sim_help']\n",
        "df1_transposed = df1_transposed['cos_sim_help'].astype(float)\n",
        "#df1_transposed['cos_sim_help'] = df1_transposed['cos_sim_help'].astype(float)\n",
        "#df1_transposed"
      ],
      "execution_count": null,
      "outputs": []
    },
    {
      "cell_type": "code",
      "metadata": {
        "id": "Gbntuwhh17tk"
      },
      "source": [
        "df1_transposed"
      ],
      "execution_count": null,
      "outputs": []
    },
    {
      "cell_type": "code",
      "metadata": {
        "id": "0Kw8s1Rzoa5c"
      },
      "source": [
        "#Save partial results to file\n",
        "output = open('/content/drive/MyDrive/text_image_match_200_RN101.pkl', 'wb')\n",
        "pickle.dump(df1_transposed, output)\n",
        "output.close()"
      ],
      "execution_count": null,
      "outputs": []
    },
    {
      "cell_type": "code",
      "metadata": {
        "id": "E7J0LWiqPiGq"
      },
      "source": [
        "cos_sim_help =[]\n",
        "text_index = []\n",
        "image_index = []\n",
        "for i in range (200,400):\n",
        "#for i in range (0,5):\n",
        " for j in range (0,len(image_features)):\n",
        "#  for j in range (0,5):\n",
        "      cos_sim_help.append(cosine_similarity(text_features1[i], image_features[j])) \n",
        "      text_index.append(i)\n",
        "      image_index .append(nn[j])"
      ],
      "execution_count": null,
      "outputs": []
    },
    {
      "cell_type": "code",
      "metadata": {
        "id": "cgot-0e8P3WC"
      },
      "source": [
        "cos_sim_help1 = list(cos_sim_help)\n",
        "x = [text_index, image_index, cos_sim_help]\n",
        "df = pd.DataFrame(x)\n",
        "df1_transposed = df.transpose()\n",
        "#df1_transposed\n",
        "df1_transposed.columns =['text_index', 'image_name', 'cos_sim_help']\n",
        "df1_transposed = df1_transposed['cos_sim_help'].astype(float)\n",
        "#df1_transposed"
      ],
      "execution_count": null,
      "outputs": []
    },
    {
      "cell_type": "code",
      "metadata": {
        "id": "Gaio9OHvP5dX"
      },
      "source": [
        "output = open('/content/drive/MyDrive/text_image_match_400_RN101.pkl', 'wb')\n",
        "pickle.dump(df1_transposed, output)\n",
        "output.close()"
      ],
      "execution_count": null,
      "outputs": []
    },
    {
      "cell_type": "code",
      "metadata": {
        "id": "5npmo2gdPk7B"
      },
      "source": [
        "cos_sim_help =[]\n",
        "text_index = []\n",
        "image_index = []\n",
        "for i in range (400,600):\n",
        "#for i in range (0,5):\n",
        " for j in range (0,len(image_features)):\n",
        "#  for j in range (0,5):\n",
        "      cos_sim_help.append(cosine_similarity(text_features1[i], image_features[j])) \n",
        "      text_index.append(i)\n",
        "      image_index .append(nn[j])"
      ],
      "execution_count": null,
      "outputs": []
    },
    {
      "cell_type": "code",
      "metadata": {
        "id": "AqdVEAQoP2yy"
      },
      "source": [
        "cos_sim_help1 = list(cos_sim_help)\n",
        "x = [text_index, image_index, cos_sim_help]\n",
        "df = pd.DataFrame(x)\n",
        "df1_transposed = df.transpose()\n",
        "#df1_transposed\n",
        "df1_transposed.columns =['text_index', 'image_name', 'cos_sim_help']\n",
        "df1_transposed = df1_transposed['cos_sim_help'].astype(float)\n",
        "#df1_transposed"
      ],
      "execution_count": null,
      "outputs": []
    },
    {
      "cell_type": "code",
      "metadata": {
        "id": "PhgWtZNqP6er"
      },
      "source": [
        "output = open('/content/drive/MyDrive/text_image_match_600_RN101.pkl', 'wb')\n",
        "pickle.dump(df1_transposed, output)\n",
        "output.close()"
      ],
      "execution_count": null,
      "outputs": []
    },
    {
      "cell_type": "code",
      "metadata": {
        "id": "dM5O9SDBPmJC"
      },
      "source": [
        "cos_sim_help =[]\n",
        "text_index = []\n",
        "image_index = []\n",
        "for i in range (600,800):\n",
        "#for i in range (0,5):\n",
        " for j in range (0,len(image_features)):\n",
        "#  for j in range (0,5):\n",
        "      cos_sim_help.append(cosine_similarity(text_features1[i], image_features[j])) \n",
        "      text_index.append(i)\n",
        "      image_index .append(nn[j])"
      ],
      "execution_count": null,
      "outputs": []
    },
    {
      "cell_type": "code",
      "metadata": {
        "id": "8oFVkY_-P2JL"
      },
      "source": [
        "cos_sim_help1 = list(cos_sim_help)\n",
        "x = [text_index, image_index, cos_sim_help]\n",
        "df = pd.DataFrame(x)\n",
        "df1_transposed = df.transpose()\n",
        "#df1_transposed\n",
        "df1_transposed.columns =['text_index', 'image_name', 'cos_sim_help']\n",
        "df1_transposed = df1_transposed['cos_sim_help'].astype(float)\n",
        "#df1_transposed"
      ],
      "execution_count": null,
      "outputs": []
    },
    {
      "cell_type": "code",
      "metadata": {
        "id": "2OpWzbJDP8Uf"
      },
      "source": [
        "output = open('/content/drive/MyDrive/text_image_match_800_RN101.pkl', 'wb')\n",
        "pickle.dump(df1_transposed, output)\n",
        "output.close()"
      ],
      "execution_count": null,
      "outputs": []
    },
    {
      "cell_type": "code",
      "metadata": {
        "id": "Sjc502J3PnqN"
      },
      "source": [
        "cos_sim_help =[]\n",
        "text_index = []\n",
        "image_index = []\n",
        "for i in range (800,1000):\n",
        "#for i in range (0,5):\n",
        " for j in range (0,len(image_features)):\n",
        "#  for j in range (0,5):\n",
        "      cos_sim_help.append(cosine_similarity(text_features1[i], image_features[j])) \n",
        "      text_index.append(i)\n",
        "      image_index .append(nn[j])"
      ],
      "execution_count": null,
      "outputs": []
    },
    {
      "cell_type": "code",
      "metadata": {
        "id": "9IpE5n1hP1fK"
      },
      "source": [
        "cos_sim_help1 = list(cos_sim_help)\n",
        "x = [text_index, image_index, cos_sim_help]\n",
        "df = pd.DataFrame(x)\n",
        "df1_transposed = df.transpose()\n",
        "#df1_transposed\n",
        "df1_transposed.columns =['text_index', 'image_name', 'cos_sim_help']\n",
        "df1_transposed = df1_transposed['cos_sim_help'].astype(float)\n",
        "#df1_transposed"
      ],
      "execution_count": null,
      "outputs": []
    },
    {
      "cell_type": "code",
      "metadata": {
        "id": "5rTYq4B5P9qH"
      },
      "source": [
        "output = open('/content/drive/MyDrive/text_image_match_1000_RN101.pkl', 'wb')\n",
        "pickle.dump(df1_transposed, output)\n",
        "output.close()"
      ],
      "execution_count": null,
      "outputs": []
    },
    {
      "cell_type": "code",
      "metadata": {
        "id": "ID9Z4Oo5Po2x"
      },
      "source": [
        "cos_sim_help =[]\n",
        "text_index = []\n",
        "image_index = []\n",
        "for i in range (1000,1200):\n",
        "#for i in range (0,5):\n",
        " for j in range (0,len(image_features)):\n",
        "#  for j in range (0,5):\n",
        "      cos_sim_help.append(cosine_similarity(text_features1[i], image_features[j])) \n",
        "      text_index.append(i)\n",
        "      image_index .append(nn[j])"
      ],
      "execution_count": null,
      "outputs": []
    },
    {
      "cell_type": "code",
      "metadata": {
        "id": "fmkyWdd0P05i"
      },
      "source": [
        "cos_sim_help1 = list(cos_sim_help)\n",
        "x = [text_index, image_index, cos_sim_help]\n",
        "df = pd.DataFrame(x)\n",
        "df1_transposed = df.transpose()\n",
        "#df1_transposed\n",
        "df1_transposed.columns =['text_index', 'image_name', 'cos_sim_help']\n",
        "df1_transposed = df1_transposed['cos_sim_help'].astype(float)\n",
        "#df1_transposed"
      ],
      "execution_count": null,
      "outputs": []
    },
    {
      "cell_type": "code",
      "metadata": {
        "id": "AgUOfjIGP_J6"
      },
      "source": [
        "output = open('/content/drive/MyDrive/text_image_match_1200_RN101.pkl', 'wb')\n",
        "pickle.dump(df1_transposed, output)\n",
        "output.close()"
      ],
      "execution_count": null,
      "outputs": []
    },
    {
      "cell_type": "code",
      "metadata": {
        "id": "UhRNt4_IPqiS"
      },
      "source": [
        "cos_sim_help =[]\n",
        "text_index = []\n",
        "image_index = []\n",
        "for i in range (1200,1400):\n",
        "#for i in range (0,5):\n",
        " for j in range (0,len(image_features)):\n",
        "#  for j in range (0,5):\n",
        "      cos_sim_help.append(cosine_similarity(text_features1[i], image_features[j])) \n",
        "      text_index.append(i)\n",
        "      image_index .append(nn[j])"
      ],
      "execution_count": null,
      "outputs": []
    },
    {
      "cell_type": "code",
      "metadata": {
        "colab": {
          "background_save": true
        },
        "id": "I4PijRs-P0Ta"
      },
      "source": [
        "cos_sim_help1 = list(cos_sim_help)\n",
        "x = [text_index, image_index, cos_sim_help]\n",
        "df = pd.DataFrame(x)\n",
        "df1_transposed = df.transpose()\n",
        "#df1_transposed\n",
        "df1_transposed.columns =['text_index', 'image_name', 'cos_sim_help']\n",
        "df1_transposed = df1_transposed['cos_sim_help'].astype(float)\n",
        "#df1_transposed"
      ],
      "execution_count": null,
      "outputs": []
    },
    {
      "cell_type": "code",
      "metadata": {
        "colab": {
          "background_save": true
        },
        "id": "hfDo6QNgQAXd"
      },
      "source": [
        "output = open('/content/drive/MyDrive/text_image_match_1400_RN101.pkl', 'wb')\n",
        "pickle.dump(df1_transposed, output)\n",
        "output.close()"
      ],
      "execution_count": null,
      "outputs": []
    },
    {
      "cell_type": "code",
      "metadata": {
        "colab": {
          "background_save": true
        },
        "id": "Fx1ffQZBPr_S"
      },
      "source": [
        "cos_sim_help =[]\n",
        "text_index = []\n",
        "image_index = []\n",
        "for i in range (1400,1600):\n",
        "#for i in range (0,5):\n",
        " for j in range (0,len(image_features)):\n",
        "#  for j in range (0,5):\n",
        "      cos_sim_help.append(cosine_similarity(text_features1[i], image_features[j])) \n",
        "      text_index.append(i)\n",
        "      image_index .append(nn[j])"
      ],
      "execution_count": null,
      "outputs": []
    },
    {
      "cell_type": "code",
      "metadata": {
        "colab": {
          "background_save": true
        },
        "id": "-3dApUmMPzmO"
      },
      "source": [
        "cos_sim_help1 = list(cos_sim_help)\n",
        "x = [text_index, image_index, cos_sim_help]\n",
        "df = pd.DataFrame(x)\n",
        "df1_transposed = df.transpose()\n",
        "#df1_transposed\n",
        "df1_transposed.columns =['text_index', 'image_name', 'cos_sim_help']\n",
        "df1_transposed = df1_transposed['cos_sim_help'].astype(float)\n",
        "#df1_transposed"
      ],
      "execution_count": null,
      "outputs": []
    },
    {
      "cell_type": "code",
      "metadata": {
        "colab": {
          "background_save": true
        },
        "id": "jZ1SMUmDQBd-"
      },
      "source": [
        "output = open('/content/drive/MyDrive/text_image_match_1600_RN101.pkl', 'wb')\n",
        "pickle.dump(df1_transposed, output)\n",
        "output.close()"
      ],
      "execution_count": null,
      "outputs": []
    },
    {
      "cell_type": "code",
      "metadata": {
        "colab": {
          "background_save": true
        },
        "id": "qBdQnOAyPthR"
      },
      "source": [
        "cos_sim_help =[]\n",
        "text_index = []\n",
        "image_index = []\n",
        "for i in range (1600,1800):\n",
        "#for i in range (0,5):\n",
        " for j in range (0,len(image_features)):\n",
        "#  for j in range (0,5):\n",
        "      cos_sim_help.append(cosine_similarity(text_features1[i], image_features[j])) \n",
        "      text_index.append(i)\n",
        "      image_index .append(nn[j])"
      ],
      "execution_count": null,
      "outputs": []
    },
    {
      "cell_type": "code",
      "metadata": {
        "colab": {
          "background_save": true
        },
        "id": "NWKahbfKPzBZ"
      },
      "source": [
        "cos_sim_help1 = list(cos_sim_help)\n",
        "x = [text_index, image_index, cos_sim_help]\n",
        "df = pd.DataFrame(x)\n",
        "df1_transposed = df.transpose()\n",
        "#df1_transposed\n",
        "df1_transposed.columns =['text_index', 'image_name', 'cos_sim_help']\n",
        "df1_transposed = df1_transposed['cos_sim_help'].astype(float)\n",
        "#df1_transposed"
      ],
      "execution_count": null,
      "outputs": []
    },
    {
      "cell_type": "code",
      "metadata": {
        "colab": {
          "background_save": true
        },
        "id": "-Q8G1a1GQCtF"
      },
      "source": [
        "output = open('/content/drive/MyDrive/text_image_match_1800_RN101.pkl', 'wb')\n",
        "pickle.dump(df1_transposed, output)\n",
        "output.close()"
      ],
      "execution_count": null,
      "outputs": []
    },
    {
      "cell_type": "code",
      "metadata": {
        "colab": {
          "background_save": true
        },
        "id": "W9YaLIaePvL2"
      },
      "source": [
        "cos_sim_help =[]\n",
        "text_index = []\n",
        "image_index = []\n",
        "for i in range (1800,2000):\n",
        "#for i in range (0,5):\n",
        " for j in range (0,len(image_features)):\n",
        "#  for j in range (0,5):\n",
        "      cos_sim_help.append(cosine_similarity(text_features1[i], image_features[j])) \n",
        "      text_index.append(i)\n",
        "      image_index .append(nn[j])"
      ],
      "execution_count": null,
      "outputs": []
    },
    {
      "cell_type": "code",
      "metadata": {
        "colab": {
          "background_save": true
        },
        "id": "dXEApRoAPyla"
      },
      "source": [
        "cos_sim_help1 = list(cos_sim_help)\n",
        "x = [text_index, image_index, cos_sim_help]\n",
        "df = pd.DataFrame(x)\n",
        "df1_transposed = df.transpose()\n",
        "#df1_transposed\n",
        "df1_transposed.columns =['text_index', 'image_name', 'cos_sim_help']\n",
        "df1_transposed = df1_transposed['cos_sim_help'].astype(float)\n",
        "#df1_transposed"
      ],
      "execution_count": null,
      "outputs": []
    },
    {
      "cell_type": "code",
      "metadata": {
        "colab": {
          "background_save": true
        },
        "id": "NDF4y8I8QD-j"
      },
      "source": [
        "output = open('/content/drive/MyDrive/text_image_match_2000_RN101.pkl', 'wb')\n",
        "pickle.dump(df1_transposed, output)\n",
        "output.close()"
      ],
      "execution_count": null,
      "outputs": []
    },
    {
      "cell_type": "code",
      "metadata": {
        "colab": {
          "background_save": true
        },
        "id": "IVs42ZjtPwq5"
      },
      "source": [
        "cos_sim_help =[]\n",
        "text_index = []\n",
        "image_index = []\n",
        "for i in range (2000,2177):\n",
        "#for i in range (0,5):\n",
        " for j in range (0,len(image_features)):\n",
        "#  for j in range (0,5):\n",
        "      cos_sim_help.append(cosine_similarity(text_features1[i], image_features[j])) \n",
        "      text_index.append(i)\n",
        "      image_index .append(nn[j])"
      ],
      "execution_count": null,
      "outputs": []
    },
    {
      "cell_type": "code",
      "metadata": {
        "colab": {
          "background_save": true
        },
        "id": "ESfmRcqSPyBi"
      },
      "source": [
        "cos_sim_help1 = list(cos_sim_help)\n",
        "x = [text_index, image_index, cos_sim_help]\n",
        "df = pd.DataFrame(x)\n",
        "df1_transposed = df.transpose()\n",
        "#df1_transposed\n",
        "df1_transposed.columns =['text_index', 'image_name', 'cos_sim_help']\n",
        "df1_transposed = df1_transposed['cos_sim_help'].astype(float)\n",
        "#df1_transposed"
      ],
      "execution_count": null,
      "outputs": []
    },
    {
      "cell_type": "code",
      "metadata": {
        "id": "xnHfJ_i9QFh9"
      },
      "source": [
        "output = open('/content/drive/MyDrive/text_image_match_2200_RN101.pkl', 'wb')\n",
        "pickle.dump(df1_transposed, output)\n",
        "output.close()"
      ],
      "execution_count": null,
      "outputs": []
    }
  ]
}