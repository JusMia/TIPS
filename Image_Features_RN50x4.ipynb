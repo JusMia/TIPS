{
  "nbformat": 4,
  "nbformat_minor": 0,
  "metadata": {
    "colab": {
      "name": "Image_Features_RN50x4",
      "provenance": []
    },
    "kernelspec": {
      "name": "python3",
      "display_name": "Python 3"
    },
    "language_info": {
      "name": "python"
    },
    "widgets": {
      "application/vnd.jupyter.widget-state+json": {
        "2d19954697a34341a7ffe38891c620b8": {
          "model_module": "@jupyter-widgets/controls",
          "model_name": "HBoxModel",
          "model_module_version": "1.5.0",
          "state": {
            "_view_name": "HBoxView",
            "_dom_classes": [],
            "_model_name": "HBoxModel",
            "_view_module": "@jupyter-widgets/controls",
            "_model_module_version": "1.5.0",
            "_view_count": null,
            "_view_module_version": "1.5.0",
            "box_style": "",
            "layout": "IPY_MODEL_f51e09a070db4f829bc4a4e57a02790e",
            "_model_module": "@jupyter-widgets/controls",
            "children": [
              "IPY_MODEL_d034d37c9773451faa057163faaefb65",
              "IPY_MODEL_ca7a30364b5f4319aae907f46ef31952",
              "IPY_MODEL_eabb72b941864fe7b28bb2b258bf17ad"
            ]
          }
        },
        "f51e09a070db4f829bc4a4e57a02790e": {
          "model_module": "@jupyter-widgets/base",
          "model_name": "LayoutModel",
          "model_module_version": "1.2.0",
          "state": {
            "_view_name": "LayoutView",
            "grid_template_rows": null,
            "right": null,
            "justify_content": null,
            "_view_module": "@jupyter-widgets/base",
            "overflow": null,
            "_model_module_version": "1.2.0",
            "_view_count": null,
            "flex_flow": null,
            "width": null,
            "min_width": null,
            "border": null,
            "align_items": null,
            "bottom": null,
            "_model_module": "@jupyter-widgets/base",
            "top": null,
            "grid_column": null,
            "overflow_y": null,
            "overflow_x": null,
            "grid_auto_flow": null,
            "grid_area": null,
            "grid_template_columns": null,
            "flex": null,
            "_model_name": "LayoutModel",
            "justify_items": null,
            "grid_row": null,
            "max_height": null,
            "align_content": null,
            "visibility": null,
            "align_self": null,
            "height": null,
            "min_height": null,
            "padding": null,
            "grid_auto_rows": null,
            "grid_gap": null,
            "max_width": null,
            "order": null,
            "_view_module_version": "1.2.0",
            "grid_template_areas": null,
            "object_position": null,
            "object_fit": null,
            "grid_auto_columns": null,
            "margin": null,
            "display": null,
            "left": null
          }
        },
        "d034d37c9773451faa057163faaefb65": {
          "model_module": "@jupyter-widgets/controls",
          "model_name": "HTMLModel",
          "model_module_version": "1.5.0",
          "state": {
            "_view_name": "HTMLView",
            "style": "IPY_MODEL_fa7f89e2621b40c9a1c2b5ce2d609713",
            "_dom_classes": [],
            "description": "",
            "_model_name": "HTMLModel",
            "placeholder": "​",
            "_view_module": "@jupyter-widgets/controls",
            "_model_module_version": "1.5.0",
            "value": "100%",
            "_view_count": null,
            "_view_module_version": "1.5.0",
            "description_tooltip": null,
            "_model_module": "@jupyter-widgets/controls",
            "layout": "IPY_MODEL_cdbd3f3c95dc4768998f4295e9bbcbf7"
          }
        },
        "ca7a30364b5f4319aae907f46ef31952": {
          "model_module": "@jupyter-widgets/controls",
          "model_name": "FloatProgressModel",
          "model_module_version": "1.5.0",
          "state": {
            "_view_name": "ProgressView",
            "style": "IPY_MODEL_86dc3e77fbc3483c9e9d5b5998019cc0",
            "_dom_classes": [],
            "description": "",
            "_model_name": "FloatProgressModel",
            "bar_style": "success",
            "max": 1922426838,
            "_view_module": "@jupyter-widgets/controls",
            "_model_module_version": "1.5.0",
            "value": 1922426838,
            "_view_count": null,
            "_view_module_version": "1.5.0",
            "orientation": "horizontal",
            "min": 0,
            "description_tooltip": null,
            "_model_module": "@jupyter-widgets/controls",
            "layout": "IPY_MODEL_70166f04559e4e0fa3a1f54b5340223c"
          }
        },
        "eabb72b941864fe7b28bb2b258bf17ad": {
          "model_module": "@jupyter-widgets/controls",
          "model_name": "HTMLModel",
          "model_module_version": "1.5.0",
          "state": {
            "_view_name": "HTMLView",
            "style": "IPY_MODEL_b180c71cddcb4d70a2eff422a8b5c34f",
            "_dom_classes": [],
            "description": "",
            "_model_name": "HTMLModel",
            "placeholder": "​",
            "_view_module": "@jupyter-widgets/controls",
            "_model_module_version": "1.5.0",
            "value": " 1.92G/1.92G [01:02&lt;00:00, 32.2MB/s]",
            "_view_count": null,
            "_view_module_version": "1.5.0",
            "description_tooltip": null,
            "_model_module": "@jupyter-widgets/controls",
            "layout": "IPY_MODEL_cea11e6eb95e4ea4a56d66c88942e0f8"
          }
        },
        "fa7f89e2621b40c9a1c2b5ce2d609713": {
          "model_module": "@jupyter-widgets/controls",
          "model_name": "DescriptionStyleModel",
          "model_module_version": "1.5.0",
          "state": {
            "_view_name": "StyleView",
            "_model_name": "DescriptionStyleModel",
            "description_width": "",
            "_view_module": "@jupyter-widgets/base",
            "_model_module_version": "1.5.0",
            "_view_count": null,
            "_view_module_version": "1.2.0",
            "_model_module": "@jupyter-widgets/controls"
          }
        },
        "cdbd3f3c95dc4768998f4295e9bbcbf7": {
          "model_module": "@jupyter-widgets/base",
          "model_name": "LayoutModel",
          "model_module_version": "1.2.0",
          "state": {
            "_view_name": "LayoutView",
            "grid_template_rows": null,
            "right": null,
            "justify_content": null,
            "_view_module": "@jupyter-widgets/base",
            "overflow": null,
            "_model_module_version": "1.2.0",
            "_view_count": null,
            "flex_flow": null,
            "width": null,
            "min_width": null,
            "border": null,
            "align_items": null,
            "bottom": null,
            "_model_module": "@jupyter-widgets/base",
            "top": null,
            "grid_column": null,
            "overflow_y": null,
            "overflow_x": null,
            "grid_auto_flow": null,
            "grid_area": null,
            "grid_template_columns": null,
            "flex": null,
            "_model_name": "LayoutModel",
            "justify_items": null,
            "grid_row": null,
            "max_height": null,
            "align_content": null,
            "visibility": null,
            "align_self": null,
            "height": null,
            "min_height": null,
            "padding": null,
            "grid_auto_rows": null,
            "grid_gap": null,
            "max_width": null,
            "order": null,
            "_view_module_version": "1.2.0",
            "grid_template_areas": null,
            "object_position": null,
            "object_fit": null,
            "grid_auto_columns": null,
            "margin": null,
            "display": null,
            "left": null
          }
        },
        "86dc3e77fbc3483c9e9d5b5998019cc0": {
          "model_module": "@jupyter-widgets/controls",
          "model_name": "ProgressStyleModel",
          "model_module_version": "1.5.0",
          "state": {
            "_view_name": "StyleView",
            "_model_name": "ProgressStyleModel",
            "description_width": "",
            "_view_module": "@jupyter-widgets/base",
            "_model_module_version": "1.5.0",
            "_view_count": null,
            "_view_module_version": "1.2.0",
            "bar_color": null,
            "_model_module": "@jupyter-widgets/controls"
          }
        },
        "70166f04559e4e0fa3a1f54b5340223c": {
          "model_module": "@jupyter-widgets/base",
          "model_name": "LayoutModel",
          "model_module_version": "1.2.0",
          "state": {
            "_view_name": "LayoutView",
            "grid_template_rows": null,
            "right": null,
            "justify_content": null,
            "_view_module": "@jupyter-widgets/base",
            "overflow": null,
            "_model_module_version": "1.2.0",
            "_view_count": null,
            "flex_flow": null,
            "width": null,
            "min_width": null,
            "border": null,
            "align_items": null,
            "bottom": null,
            "_model_module": "@jupyter-widgets/base",
            "top": null,
            "grid_column": null,
            "overflow_y": null,
            "overflow_x": null,
            "grid_auto_flow": null,
            "grid_area": null,
            "grid_template_columns": null,
            "flex": null,
            "_model_name": "LayoutModel",
            "justify_items": null,
            "grid_row": null,
            "max_height": null,
            "align_content": null,
            "visibility": null,
            "align_self": null,
            "height": null,
            "min_height": null,
            "padding": null,
            "grid_auto_rows": null,
            "grid_gap": null,
            "max_width": null,
            "order": null,
            "_view_module_version": "1.2.0",
            "grid_template_areas": null,
            "object_position": null,
            "object_fit": null,
            "grid_auto_columns": null,
            "margin": null,
            "display": null,
            "left": null
          }
        },
        "b180c71cddcb4d70a2eff422a8b5c34f": {
          "model_module": "@jupyter-widgets/controls",
          "model_name": "DescriptionStyleModel",
          "model_module_version": "1.5.0",
          "state": {
            "_view_name": "StyleView",
            "_model_name": "DescriptionStyleModel",
            "description_width": "",
            "_view_module": "@jupyter-widgets/base",
            "_model_module_version": "1.5.0",
            "_view_count": null,
            "_view_module_version": "1.2.0",
            "_model_module": "@jupyter-widgets/controls"
          }
        },
        "cea11e6eb95e4ea4a56d66c88942e0f8": {
          "model_module": "@jupyter-widgets/base",
          "model_name": "LayoutModel",
          "model_module_version": "1.2.0",
          "state": {
            "_view_name": "LayoutView",
            "grid_template_rows": null,
            "right": null,
            "justify_content": null,
            "_view_module": "@jupyter-widgets/base",
            "overflow": null,
            "_model_module_version": "1.2.0",
            "_view_count": null,
            "flex_flow": null,
            "width": null,
            "min_width": null,
            "border": null,
            "align_items": null,
            "bottom": null,
            "_model_module": "@jupyter-widgets/base",
            "top": null,
            "grid_column": null,
            "overflow_y": null,
            "overflow_x": null,
            "grid_auto_flow": null,
            "grid_area": null,
            "grid_template_columns": null,
            "flex": null,
            "_model_name": "LayoutModel",
            "justify_items": null,
            "grid_row": null,
            "max_height": null,
            "align_content": null,
            "visibility": null,
            "align_self": null,
            "height": null,
            "min_height": null,
            "padding": null,
            "grid_auto_rows": null,
            "grid_gap": null,
            "max_width": null,
            "order": null,
            "_view_module_version": "1.2.0",
            "grid_template_areas": null,
            "object_position": null,
            "object_fit": null,
            "grid_auto_columns": null,
            "margin": null,
            "display": null,
            "left": null
          }
        },
        "7674763f771b4b049451c68891ab8b5a": {
          "model_module": "@jupyter-widgets/controls",
          "model_name": "HBoxModel",
          "model_module_version": "1.5.0",
          "state": {
            "_view_name": "HBoxView",
            "_dom_classes": [],
            "_model_name": "HBoxModel",
            "_view_module": "@jupyter-widgets/controls",
            "_model_module_version": "1.5.0",
            "_view_count": null,
            "_view_module_version": "1.5.0",
            "box_style": "",
            "layout": "IPY_MODEL_1606bf44590d422a991e057adc4fbce3",
            "_model_module": "@jupyter-widgets/controls",
            "children": [
              "IPY_MODEL_0ad91a0d87fd468196040f0ed7443681",
              "IPY_MODEL_c4f2c73149654a05b22b1a18492bd63c",
              "IPY_MODEL_3b76aee000704f3996e5efa00dc83ea7"
            ]
          }
        },
        "1606bf44590d422a991e057adc4fbce3": {
          "model_module": "@jupyter-widgets/base",
          "model_name": "LayoutModel",
          "model_module_version": "1.2.0",
          "state": {
            "_view_name": "LayoutView",
            "grid_template_rows": null,
            "right": null,
            "justify_content": null,
            "_view_module": "@jupyter-widgets/base",
            "overflow": null,
            "_model_module_version": "1.2.0",
            "_view_count": null,
            "flex_flow": null,
            "width": null,
            "min_width": null,
            "border": null,
            "align_items": null,
            "bottom": null,
            "_model_module": "@jupyter-widgets/base",
            "top": null,
            "grid_column": null,
            "overflow_y": null,
            "overflow_x": null,
            "grid_auto_flow": null,
            "grid_area": null,
            "grid_template_columns": null,
            "flex": null,
            "_model_name": "LayoutModel",
            "justify_items": null,
            "grid_row": null,
            "max_height": null,
            "align_content": null,
            "visibility": null,
            "align_self": null,
            "height": null,
            "min_height": null,
            "padding": null,
            "grid_auto_rows": null,
            "grid_gap": null,
            "max_width": null,
            "order": null,
            "_view_module_version": "1.2.0",
            "grid_template_areas": null,
            "object_position": null,
            "object_fit": null,
            "grid_auto_columns": null,
            "margin": null,
            "display": null,
            "left": null
          }
        },
        "0ad91a0d87fd468196040f0ed7443681": {
          "model_module": "@jupyter-widgets/controls",
          "model_name": "HTMLModel",
          "model_module_version": "1.5.0",
          "state": {
            "_view_name": "HTMLView",
            "style": "IPY_MODEL_97716b8993574112b29fbbc900b2644c",
            "_dom_classes": [],
            "description": "",
            "_model_name": "HTMLModel",
            "placeholder": "​",
            "_view_module": "@jupyter-widgets/controls",
            "_model_module_version": "1.5.0",
            "value": "Extracting: 100%",
            "_view_count": null,
            "_view_module_version": "1.5.0",
            "description_tooltip": null,
            "_model_module": "@jupyter-widgets/controls",
            "layout": "IPY_MODEL_364f62d1803c434886ab187c2de81a2c"
          }
        },
        "c4f2c73149654a05b22b1a18492bd63c": {
          "model_module": "@jupyter-widgets/controls",
          "model_name": "FloatProgressModel",
          "model_module_version": "1.5.0",
          "state": {
            "_view_name": "ProgressView",
            "style": "IPY_MODEL_39a7ecc0f15249d38140d9c549aac24b",
            "_dom_classes": [],
            "description": "",
            "_model_name": "FloatProgressModel",
            "bar_style": "success",
            "max": 24996,
            "_view_module": "@jupyter-widgets/controls",
            "_model_module_version": "1.5.0",
            "value": 24996,
            "_view_count": null,
            "_view_module_version": "1.5.0",
            "orientation": "horizontal",
            "min": 0,
            "description_tooltip": null,
            "_model_module": "@jupyter-widgets/controls",
            "layout": "IPY_MODEL_82785aceca104bf89ded7a710fca5864"
          }
        },
        "3b76aee000704f3996e5efa00dc83ea7": {
          "model_module": "@jupyter-widgets/controls",
          "model_name": "HTMLModel",
          "model_module_version": "1.5.0",
          "state": {
            "_view_name": "HTMLView",
            "style": "IPY_MODEL_ae089d79a29e486492551c41fcdf2922",
            "_dom_classes": [],
            "description": "",
            "_model_name": "HTMLModel",
            "placeholder": "​",
            "_view_module": "@jupyter-widgets/controls",
            "_model_module_version": "1.5.0",
            "value": " 24996/24996 [00:19&lt;00:00, 1395.78it/s]",
            "_view_count": null,
            "_view_module_version": "1.5.0",
            "description_tooltip": null,
            "_model_module": "@jupyter-widgets/controls",
            "layout": "IPY_MODEL_a4dee1adeced44eead108ce8bf332390"
          }
        },
        "97716b8993574112b29fbbc900b2644c": {
          "model_module": "@jupyter-widgets/controls",
          "model_name": "DescriptionStyleModel",
          "model_module_version": "1.5.0",
          "state": {
            "_view_name": "StyleView",
            "_model_name": "DescriptionStyleModel",
            "description_width": "",
            "_view_module": "@jupyter-widgets/base",
            "_model_module_version": "1.5.0",
            "_view_count": null,
            "_view_module_version": "1.2.0",
            "_model_module": "@jupyter-widgets/controls"
          }
        },
        "364f62d1803c434886ab187c2de81a2c": {
          "model_module": "@jupyter-widgets/base",
          "model_name": "LayoutModel",
          "model_module_version": "1.2.0",
          "state": {
            "_view_name": "LayoutView",
            "grid_template_rows": null,
            "right": null,
            "justify_content": null,
            "_view_module": "@jupyter-widgets/base",
            "overflow": null,
            "_model_module_version": "1.2.0",
            "_view_count": null,
            "flex_flow": null,
            "width": null,
            "min_width": null,
            "border": null,
            "align_items": null,
            "bottom": null,
            "_model_module": "@jupyter-widgets/base",
            "top": null,
            "grid_column": null,
            "overflow_y": null,
            "overflow_x": null,
            "grid_auto_flow": null,
            "grid_area": null,
            "grid_template_columns": null,
            "flex": null,
            "_model_name": "LayoutModel",
            "justify_items": null,
            "grid_row": null,
            "max_height": null,
            "align_content": null,
            "visibility": null,
            "align_self": null,
            "height": null,
            "min_height": null,
            "padding": null,
            "grid_auto_rows": null,
            "grid_gap": null,
            "max_width": null,
            "order": null,
            "_view_module_version": "1.2.0",
            "grid_template_areas": null,
            "object_position": null,
            "object_fit": null,
            "grid_auto_columns": null,
            "margin": null,
            "display": null,
            "left": null
          }
        },
        "39a7ecc0f15249d38140d9c549aac24b": {
          "model_module": "@jupyter-widgets/controls",
          "model_name": "ProgressStyleModel",
          "model_module_version": "1.5.0",
          "state": {
            "_view_name": "StyleView",
            "_model_name": "ProgressStyleModel",
            "description_width": "",
            "_view_module": "@jupyter-widgets/base",
            "_model_module_version": "1.5.0",
            "_view_count": null,
            "_view_module_version": "1.2.0",
            "bar_color": null,
            "_model_module": "@jupyter-widgets/controls"
          }
        },
        "82785aceca104bf89ded7a710fca5864": {
          "model_module": "@jupyter-widgets/base",
          "model_name": "LayoutModel",
          "model_module_version": "1.2.0",
          "state": {
            "_view_name": "LayoutView",
            "grid_template_rows": null,
            "right": null,
            "justify_content": null,
            "_view_module": "@jupyter-widgets/base",
            "overflow": null,
            "_model_module_version": "1.2.0",
            "_view_count": null,
            "flex_flow": null,
            "width": null,
            "min_width": null,
            "border": null,
            "align_items": null,
            "bottom": null,
            "_model_module": "@jupyter-widgets/base",
            "top": null,
            "grid_column": null,
            "overflow_y": null,
            "overflow_x": null,
            "grid_auto_flow": null,
            "grid_area": null,
            "grid_template_columns": null,
            "flex": null,
            "_model_name": "LayoutModel",
            "justify_items": null,
            "grid_row": null,
            "max_height": null,
            "align_content": null,
            "visibility": null,
            "align_self": null,
            "height": null,
            "min_height": null,
            "padding": null,
            "grid_auto_rows": null,
            "grid_gap": null,
            "max_width": null,
            "order": null,
            "_view_module_version": "1.2.0",
            "grid_template_areas": null,
            "object_position": null,
            "object_fit": null,
            "grid_auto_columns": null,
            "margin": null,
            "display": null,
            "left": null
          }
        },
        "ae089d79a29e486492551c41fcdf2922": {
          "model_module": "@jupyter-widgets/controls",
          "model_name": "DescriptionStyleModel",
          "model_module_version": "1.5.0",
          "state": {
            "_view_name": "StyleView",
            "_model_name": "DescriptionStyleModel",
            "description_width": "",
            "_view_module": "@jupyter-widgets/base",
            "_model_module_version": "1.5.0",
            "_view_count": null,
            "_view_module_version": "1.2.0",
            "_model_module": "@jupyter-widgets/controls"
          }
        },
        "a4dee1adeced44eead108ce8bf332390": {
          "model_module": "@jupyter-widgets/base",
          "model_name": "LayoutModel",
          "model_module_version": "1.2.0",
          "state": {
            "_view_name": "LayoutView",
            "grid_template_rows": null,
            "right": null,
            "justify_content": null,
            "_view_module": "@jupyter-widgets/base",
            "overflow": null,
            "_model_module_version": "1.2.0",
            "_view_count": null,
            "flex_flow": null,
            "width": null,
            "min_width": null,
            "border": null,
            "align_items": null,
            "bottom": null,
            "_model_module": "@jupyter-widgets/base",
            "top": null,
            "grid_column": null,
            "overflow_y": null,
            "overflow_x": null,
            "grid_auto_flow": null,
            "grid_area": null,
            "grid_template_columns": null,
            "flex": null,
            "_model_name": "LayoutModel",
            "justify_items": null,
            "grid_row": null,
            "max_height": null,
            "align_content": null,
            "visibility": null,
            "align_self": null,
            "height": null,
            "min_height": null,
            "padding": null,
            "grid_auto_rows": null,
            "grid_gap": null,
            "max_width": null,
            "order": null,
            "_view_module_version": "1.2.0",
            "grid_template_areas": null,
            "object_position": null,
            "object_fit": null,
            "grid_auto_columns": null,
            "margin": null,
            "display": null,
            "left": null
          }
        }
      }
    }
  },
  "cells": [
    {
      "cell_type": "code",
      "metadata": {
        "id": "x30XfGDjzdnA"
      },
      "source": [
        "!pip install pytorch=1.7.1 \n",
        "!pip install torchvision cudatoolkit=11.0\n",
        "!pip install ftfy regex tqdm\n",
        "!pip install git+https://github.com/openai/CLIP.git\n",
        "!pip install sentence_transformers"
      ],
      "execution_count": null,
      "outputs": []
    },
    {
      "cell_type": "code",
      "metadata": {
        "id": "SSuePdxSi98u"
      },
      "source": [
        "from google.colab import drive\n",
        "drive.mount('/content/drive')"
      ],
      "execution_count": null,
      "outputs": []
    },
    {
      "cell_type": "code",
      "metadata": {
        "id": "bWnaMtxWzkyT"
      },
      "source": [
        "from IPython.display import Image as IPImage\n",
        "import os\n",
        "import glob\n",
        "import torch\n",
        "import pickle\n",
        "import zipfile\n",
        "from tqdm.autonotebook import tqdm\n",
        "import sentence_transformers\n",
        "from sentence_transformers import SentenceTransformer, util\n",
        "import torch\n",
        "import clip\n",
        "from PIL import Image"
      ],
      "execution_count": null,
      "outputs": []
    },
    {
      "cell_type": "code",
      "metadata": {
        "id": "wRHKQKo2zwcD",
        "colab": {
          "base_uri": "https://localhost:8080/",
          "height": 81,
          "referenced_widgets": [
            "2d19954697a34341a7ffe38891c620b8",
            "f51e09a070db4f829bc4a4e57a02790e",
            "d034d37c9773451faa057163faaefb65",
            "ca7a30364b5f4319aae907f46ef31952",
            "eabb72b941864fe7b28bb2b258bf17ad",
            "fa7f89e2621b40c9a1c2b5ce2d609713",
            "cdbd3f3c95dc4768998f4295e9bbcbf7",
            "86dc3e77fbc3483c9e9d5b5998019cc0",
            "70166f04559e4e0fa3a1f54b5340223c",
            "b180c71cddcb4d70a2eff422a8b5c34f",
            "cea11e6eb95e4ea4a56d66c88942e0f8",
            "7674763f771b4b049451c68891ab8b5a",
            "1606bf44590d422a991e057adc4fbce3",
            "0ad91a0d87fd468196040f0ed7443681",
            "c4f2c73149654a05b22b1a18492bd63c",
            "3b76aee000704f3996e5efa00dc83ea7",
            "97716b8993574112b29fbbc900b2644c",
            "364f62d1803c434886ab187c2de81a2c",
            "39a7ecc0f15249d38140d9c549aac24b",
            "82785aceca104bf89ded7a710fca5864",
            "ae089d79a29e486492551c41fcdf2922",
            "a4dee1adeced44eead108ce8bf332390"
          ]
        },
        "outputId": "02133579-94f4-46d8-c7a6-397c425de8e3"
      },
      "source": [
        "# Next, we get about 25k images from Unsplash \n",
        "img_folder = 'photos/'\n",
        "if not os.path.exists(img_folder) or len(os.listdir(img_folder)) == 0:\n",
        "    os.makedirs(img_folder, exist_ok=True)\n",
        "    \n",
        "    photo_filename = 'unsplash-25k-photos.zip'\n",
        "    if not os.path.exists(photo_filename):   #Download dataset if does not exist\n",
        "        util.http_get('http://sbert.net/datasets/'+photo_filename, photo_filename)\n",
        "        \n",
        "    #Extract all images\n",
        "    with zipfile.ZipFile(photo_filename, 'r') as zf:\n",
        "        for member in tqdm(zf.infolist(), desc='Extracting'):\n",
        "            zf.extract(member, img_folder)\n",
        "        "
      ],
      "execution_count": null,
      "outputs": [
        {
          "output_type": "display_data",
          "data": {
            "application/vnd.jupyter.widget-view+json": {
              "model_id": "2d19954697a34341a7ffe38891c620b8",
              "version_minor": 0,
              "version_major": 2
            },
            "text/plain": [
              "  0%|          | 0.00/1.92G [00:00<?, ?B/s]"
            ]
          },
          "metadata": {}
        },
        {
          "output_type": "display_data",
          "data": {
            "application/vnd.jupyter.widget-view+json": {
              "model_id": "7674763f771b4b049451c68891ab8b5a",
              "version_minor": 0,
              "version_major": 2
            },
            "text/plain": [
              "Extracting:   0%|          | 0/24996 [00:00<?, ?it/s]"
            ]
          },
          "metadata": {}
        }
      ]
    },
    {
      "cell_type": "code",
      "metadata": {
        "id": "eYZvCvmJkTRG"
      },
      "source": [
        "import pandas as pd\n",
        "image_names = pd.read_excel('/content/drive/MyDrive/image_list_Vit32.xlsx')"
      ],
      "execution_count": null,
      "outputs": []
    },
    {
      "cell_type": "code",
      "metadata": {
        "id": "zfREzIVcFvFi"
      },
      "source": [
        "image_names"
      ],
      "execution_count": null,
      "outputs": []
    },
    {
      "cell_type": "code",
      "metadata": {
        "id": "gkVv6stvlU3n"
      },
      "source": [
        "image_names = image_names['link']"
      ],
      "execution_count": null,
      "outputs": []
    },
    {
      "cell_type": "code",
      "metadata": {
        "id": "LF-u6UTwnGWO"
      },
      "source": [
        "nn = image_names"
      ],
      "execution_count": null,
      "outputs": []
    },
    {
      "cell_type": "code",
      "metadata": {
        "id": "YdDtbuH3z0yz",
        "colab": {
          "base_uri": "https://localhost:8080/"
        },
        "outputId": "dd6cd66c-ab0b-4835-fb88-594459fa351c"
      },
      "source": [
        "device = \"cuda\" if torch.cuda.is_available() else \"cpu\"\n",
        "#['RN50', 'RN101', 'RN50x4', 'RN50x16', 'ViT-B/32', 'ViT-B/16']list of available models in CLIP\n",
        "model, preprocess = clip.load(\"RN50x4\", device=device)"
      ],
      "execution_count": null,
      "outputs": [
        {
          "output_type": "stream",
          "name": "stderr",
          "text": [
            "100%|███████████████████████████████████████| 402M/402M [00:32<00:00, 13.0MiB/s]\n"
          ]
        }
      ]
    },
    {
      "cell_type": "code",
      "metadata": {
        "id": "-s4o0PPq0D2L"
      },
      "source": [
        "#Preprocess images in range (0,2500) and extract the images features with choosen model.\n",
        "#Whole data is splited to smaller part to make it easier to process.\n",
        "dv_img = []\n",
        "with torch.no_grad():\n",
        "  for i in range(0,2500):\n",
        "    dv_img.append(preprocess(Image.open(nn[i])).unsqueeze(0))"
      ],
      "execution_count": null,
      "outputs": []
    },
    {
      "cell_type": "code",
      "metadata": {
        "id": "Mnf2hod80GKj"
      },
      "source": [
        "image_features = []\n",
        "with torch.no_grad():\n",
        "  for i in range(0,len(dv_img)):\n",
        "    image_features.append(model.encode_image(dv_img[i]))"
      ],
      "execution_count": null,
      "outputs": []
    },
    {
      "cell_type": "code",
      "metadata": {
        "id": "DtiiviY90Hca"
      },
      "source": [
        "output = open('/content/drive/MyDrive/image_features2500_RN50x4.pkl', 'wb')\n",
        "pickle.dump(image_features, output)\n",
        "output.close()"
      ],
      "execution_count": null,
      "outputs": []
    },
    {
      "cell_type": "code",
      "metadata": {
        "id": "PeK1Hb1C0KlU"
      },
      "source": [
        "dv_img = []\n",
        "with torch.no_grad():\n",
        "  for i in range(2500,5000):\n",
        "    dv_img.append(preprocess(Image.open(nn[i])).unsqueeze(0))"
      ],
      "execution_count": null,
      "outputs": []
    },
    {
      "cell_type": "code",
      "metadata": {
        "id": "LgDb2yXu0Mvb"
      },
      "source": [
        "image_features1 = []\n",
        "with torch.no_grad():\n",
        "  for i in range(0,len(dv_img)):\n",
        "    image_features1.append(model.encode_image(dv_img[i]))"
      ],
      "execution_count": null,
      "outputs": []
    },
    {
      "cell_type": "code",
      "metadata": {
        "id": "Tzzgwy2r0ONb"
      },
      "source": [
        "output = open('/content/drive/MyDrive/image_features5000_RN50x4.pkl', 'wb')\n",
        "pickle.dump(image_features1, output)\n",
        "output.close()"
      ],
      "execution_count": null,
      "outputs": []
    },
    {
      "cell_type": "code",
      "metadata": {
        "id": "ZfnAIdyI0O9S"
      },
      "source": [
        "dv_img1 = []\n",
        "with torch.no_grad():\n",
        "  for i in range(5000,7500):\n",
        "    dv_img1.append(preprocess(Image.open(nn[i])).unsqueeze(0))"
      ],
      "execution_count": null,
      "outputs": []
    },
    {
      "cell_type": "code",
      "metadata": {
        "id": "ncgjXkpc0wVH"
      },
      "source": [
        "image_features1 = []\n",
        "with torch.no_grad():\n",
        "  for i in range(0,len(dv_img1)):\n",
        "    image_features1.append(model.encode_image(dv_img1[i]))"
      ],
      "execution_count": null,
      "outputs": []
    },
    {
      "cell_type": "code",
      "metadata": {
        "id": "BvgUVdZ80zA4"
      },
      "source": [
        "output = open('/content/drive/MyDrive/image_features7500_RN50x4.pkl', 'wb')\n",
        "pickle.dump(image_features1, output)\n",
        "output.close()"
      ],
      "execution_count": null,
      "outputs": []
    },
    {
      "cell_type": "code",
      "metadata": {
        "id": "ls1T9KxU1Npr"
      },
      "source": [
        "dv_img1 = []\n",
        "with torch.no_grad():\n",
        "  for i in range(7500,10000):\n",
        "    dv_img1.append(preprocess(Image.open(nn[i])).unsqueeze(0))"
      ],
      "execution_count": null,
      "outputs": []
    },
    {
      "cell_type": "code",
      "metadata": {
        "id": "hgr2ztFg1RQk"
      },
      "source": [
        "image_features1 = []\n",
        "with torch.no_grad():\n",
        "  for i in range(0,len(dv_img1)):\n",
        "    image_features1.append(model.encode_image(dv_img1[i]))"
      ],
      "execution_count": null,
      "outputs": []
    },
    {
      "cell_type": "code",
      "metadata": {
        "id": "wFyi_Grm1ROy"
      },
      "source": [
        "output = open('/content/drive/MyDrive/image_features10000_RN50x4.pkl', 'wb')\n",
        "pickle.dump(image_features1, output)\n",
        "output.close()"
      ],
      "execution_count": null,
      "outputs": []
    },
    {
      "cell_type": "code",
      "metadata": {
        "id": "3fGbyP1j1RND"
      },
      "source": [
        "dv_img1 = []\n",
        "with torch.no_grad():\n",
        "  for i in range(10000,12500):\n",
        "    dv_img1.append(preprocess(Image.open(nn[i])).unsqueeze(0))"
      ],
      "execution_count": null,
      "outputs": []
    },
    {
      "cell_type": "code",
      "metadata": {
        "id": "bfitjWOu1RLC"
      },
      "source": [
        "image_features1 = []\n",
        "with torch.no_grad():\n",
        "  for i in range(0,len(dv_img1)):\n",
        "    image_features1.append(model.encode_image(dv_img1[i]))"
      ],
      "execution_count": null,
      "outputs": []
    },
    {
      "cell_type": "code",
      "metadata": {
        "id": "ZS2VrCSv1RJe"
      },
      "source": [
        "output = open('/content/drive/MyDrive/image_features12500_RN50x4.pkl', 'wb')\n",
        "pickle.dump(image_features1, output)\n",
        "output.close()"
      ],
      "execution_count": null,
      "outputs": []
    },
    {
      "cell_type": "code",
      "metadata": {
        "id": "HrZROSRZ1RHt"
      },
      "source": [
        "dv_img1 = []\n",
        "with torch.no_grad():\n",
        "  for i in range(12500,15000):\n",
        "    dv_img1.append(preprocess(Image.open(nn[i])).unsqueeze(0))"
      ],
      "execution_count": null,
      "outputs": []
    },
    {
      "cell_type": "code",
      "metadata": {
        "id": "7vJCID_b1RGD"
      },
      "source": [
        "image_features1 = []\n",
        "with torch.no_grad():\n",
        "  for i in range(0,len(dv_img1)):\n",
        "    image_features1.append(model.encode_image(dv_img1[i]))"
      ],
      "execution_count": null,
      "outputs": []
    },
    {
      "cell_type": "code",
      "metadata": {
        "id": "RgcJuDnb1REQ"
      },
      "source": [
        "output = open('/content/drive/MyDrive/image_features15000_RN50x4.pkl', 'wb')\n",
        "pickle.dump(image_features1, output)\n",
        "output.close()"
      ],
      "execution_count": null,
      "outputs": []
    },
    {
      "cell_type": "code",
      "metadata": {
        "id": "xZC-KinP1RCU"
      },
      "source": [
        "dv_img1 = []\n",
        "with torch.no_grad():\n",
        "  for i in range(15000,17500):\n",
        "    dv_img1.append(preprocess(Image.open(nn[i])).unsqueeze(0))"
      ],
      "execution_count": null,
      "outputs": []
    },
    {
      "cell_type": "code",
      "metadata": {
        "id": "RECR5u961RAy"
      },
      "source": [
        "image_features1 = []\n",
        "with torch.no_grad():\n",
        "  for i in range(0,len(dv_img1)):\n",
        "    image_features1.append(model.encode_image(dv_img1[i]))"
      ],
      "execution_count": null,
      "outputs": []
    },
    {
      "cell_type": "code",
      "metadata": {
        "id": "327tzEpf1Q-6"
      },
      "source": [
        "output = open('/content/drive/MyDrive/image_features17500_RN50x4.pkl', 'wb')\n",
        "pickle.dump(image_features1, output)\n",
        "output.close()"
      ],
      "execution_count": null,
      "outputs": []
    },
    {
      "cell_type": "code",
      "metadata": {
        "id": "5o-wmYw51Q9V"
      },
      "source": [
        "dv_img1 = []\n",
        "with torch.no_grad():\n",
        "  for i in range(17500,20000):\n",
        "    dv_img1.append(preprocess(Image.open(nn[i])).unsqueeze(0))"
      ],
      "execution_count": null,
      "outputs": []
    },
    {
      "cell_type": "code",
      "metadata": {
        "id": "eiJv-j0y1Q7S"
      },
      "source": [
        "image_features1 = []\n",
        "with torch.no_grad():\n",
        "  for i in range(0,len(dv_img1)):\n",
        "    image_features1.append(model.encode_image(dv_img1[i]))"
      ],
      "execution_count": null,
      "outputs": []
    },
    {
      "cell_type": "code",
      "metadata": {
        "id": "kgTjLC001Q5K"
      },
      "source": [
        "output = open('/content/drive/MyDrive/image_features20000_RN50x4.pkl', 'wb')\n",
        "pickle.dump(image_features1, output)\n",
        "output.close()"
      ],
      "execution_count": null,
      "outputs": []
    },
    {
      "cell_type": "code",
      "metadata": {
        "id": "xmXNxZEg1Q0i"
      },
      "source": [
        "dv_img1 = []\n",
        "with torch.no_grad():\n",
        "  for i in range(20000,22500):\n",
        "    dv_img1.append(preprocess(Image.open(nn[i])).unsqueeze(0))"
      ],
      "execution_count": null,
      "outputs": []
    },
    {
      "cell_type": "code",
      "metadata": {
        "id": "RpnOGFcI1Qyi"
      },
      "source": [
        "image_features1 = []\n",
        "with torch.no_grad():\n",
        "  for i in range(0,len(dv_img1)):\n",
        "    image_features1.append(model.encode_image(dv_img1[i]))"
      ],
      "execution_count": null,
      "outputs": []
    },
    {
      "cell_type": "code",
      "metadata": {
        "id": "TGqa_EbG1Qwb"
      },
      "source": [
        "output = open('/content/drive/MyDrive/image_features22500_RN50x4.pkl', 'wb')\n",
        "pickle.dump(image_features1, output)\n",
        "output.close()"
      ],
      "execution_count": null,
      "outputs": []
    },
    {
      "cell_type": "code",
      "metadata": {
        "id": "49eX-7y91Qr7"
      },
      "source": [
        "dv_img1 = []\n",
        "with torch.no_grad():\n",
        "  for i in range(22500,24996):\n",
        "    dv_img1.append(preprocess(Image.open(nn[i])).unsqueeze(0))"
      ],
      "execution_count": null,
      "outputs": []
    },
    {
      "cell_type": "code",
      "metadata": {
        "id": "YMQuV2uI2-jJ"
      },
      "source": [
        "image_features1 = []\n",
        "with torch.no_grad():\n",
        "  for i in range(0,len(dv_img1)):\n",
        "    image_features1.append(model.encode_image(dv_img1[i]))"
      ],
      "execution_count": null,
      "outputs": []
    },
    {
      "cell_type": "code",
      "metadata": {
        "id": "26jFAG451QkS"
      },
      "source": [
        "output = open('/content/drive/MyDrive/image_features25000_RN50x4.pkl', 'wb')\n",
        "pickle.dump(image_features1, output)\n",
        "output.close()"
      ],
      "execution_count": null,
      "outputs": []
    },
    {
      "cell_type": "code",
      "metadata": {
        "id": "G-SjqNhgjdm5",
        "colab": {
          "base_uri": "https://localhost:8080/"
        },
        "outputId": "713fc3c4-018a-4191-fd04-542242b70c6f"
      },
      "source": [
        "import torch\n",
        "import clip\n",
        "from PIL import Image\n",
        "\n",
        "device = \"cuda\" if torch.cuda.is_available() else \"cpu\"\n",
        "model, preprocess = clip.load(\"ViT-B/32\", device=device)"
      ],
      "execution_count": null,
      "outputs": [
        {
          "output_type": "stream",
          "name": "stderr",
          "text": [
            "100%|███████████████████████████████████████| 338M/338M [00:08<00:00, 41.5MiB/s]\n"
          ]
        }
      ]
    },
    {
      "cell_type": "code",
      "metadata": {
        "id": "7Jq18SZWjWAo"
      },
      "source": [
        "import torch\n",
        "import pickle\n",
        "from sklearn.metrics.pairwise import cosine_similarity\n",
        "import numpy as np\n",
        "import math\n",
        "import pandas as pd\n",
        "\n"
      ],
      "execution_count": null,
      "outputs": []
    },
    {
      "cell_type": "code",
      "metadata": {
        "id": "ZUmSJZanjg6l"
      },
      "source": [
        "#RN50x4\n",
        "#Load extracted features and count cosine similarity between text and image features\n",
        "image_features_0 = pickle.load( open( \"/content/drive/MyDrive/image_features2500_RN50x4.pkl\", \"rb\" ) )\n",
        "image_features_1 = pickle.load( open( \"/content/drive/MyDrive/image_features5000_RN50x4.pkl\", \"rb\" ) )\n",
        "image_features_2 = pickle.load( open( \"/content/drive/MyDrive/image_features7500_RN50x4.pkl\", \"rb\" ) )\n",
        "image_features_3 = pickle.load( open( \"/content/drive/MyDrive/image_features10000_RN50x4.pkl\", \"rb\" ) )\n",
        "image_features_4 = pickle.load( open( \"/content/drive/MyDrive/image_features12500_RN50x4.pkl\", \"rb\" ) )\n",
        "image_features_5 = pickle.load( open( \"/content/drive/MyDrive/image_features15000_RN50x4.pkl\", \"rb\" ) )\n",
        "image_features_6 = pickle.load( open( \"/content/drive/MyDrive/image_features17500_RN50x4.pkl\", \"rb\" ) )\n",
        "image_features_7 = pickle.load( open( \"/content/drive/MyDrive/image_features20000_RN50x4.pkl\", \"rb\" ) )\n",
        "image_features_8 = pickle.load( open( \"/content/drive/MyDrive/image_features22500_RN50x4.pkl\", \"rb\" ) )\n",
        "image_features_9 = pickle.load( open( \"/content/drive/MyDrive/image_features25000_RN50x4.pkl\", \"rb\" ) )\n",
        "image_features = []"
      ],
      "execution_count": null,
      "outputs": []
    },
    {
      "cell_type": "code",
      "metadata": {
        "id": "Sy4E5qwan3D0"
      },
      "source": [
        "for i in range (0,len(image_features_0)):\n",
        "    image_features.append(image_features_0[i])\n",
        "\n",
        "for i in range (0,len(image_features_1)):\n",
        "    image_features.append(image_features_1[i])\n",
        "\n",
        "for i in range (0,len(image_features_2)):\n",
        "    image_features.append(image_features_2[i])\n",
        "\n",
        "for i in range (0,len(image_features_3)):\n",
        "    image_features.append(image_features_3[i])\n",
        "\n",
        "for i in range (0,len(image_features_4)):\n",
        "    image_features.append(image_features_4[i])"
      ],
      "execution_count": null,
      "outputs": []
    },
    {
      "cell_type": "code",
      "metadata": {
        "id": "a2VgnZg9oLXh"
      },
      "source": [
        "\n",
        "for i in range (0,len(image_features_5)):\n",
        "    image_features.append(image_features_5[i])\n",
        "\n",
        "for i in range (0,len(image_features_6)):\n",
        "    image_features.append(image_features_6[i])\n",
        "\n",
        "for i in range (0,len(image_features_7)):\n",
        "    image_features.append(image_features_7[i])\n",
        "\n",
        "for i in range (0,len(image_features_8)):\n",
        "    image_features.append(image_features_8[i])\n",
        "\n",
        "for i in range (0,len(image_features_9)):\n",
        "    image_features.append(image_features_9[i])"
      ],
      "execution_count": null,
      "outputs": []
    },
    {
      "cell_type": "code",
      "metadata": {
        "id": "GZvccffsoXUB"
      },
      "source": [
        "text_features1 = pickle.load(open('/content/drive/MyDrive/text_features_RN50x4_10.09.pkl', 'rb'))"
      ],
      "execution_count": null,
      "outputs": []
    },
    {
      "cell_type": "code",
      "metadata": {
        "id": "EJ_4GUZkoPEx"
      },
      "source": [
        "cos_sim_help =[]\n",
        "text_index = []\n",
        "image_index = []\n",
        "for i in range (0,100):\n",
        "#for i in range (0,5):\n",
        " for j in range (0,len(image_features)):\n",
        "#  for j in range (0,5):\n",
        "      cos_sim_help.append(cosine_similarity(text_features1[i], image_features[j])) \n",
        "      text_index.append(i)\n",
        "      image_index .append(nn[j])"
      ],
      "execution_count": null,
      "outputs": []
    },
    {
      "cell_type": "code",
      "metadata": {
        "id": "CMLO91G4oWsr"
      },
      "source": [
        "cos_sim_help1 = list(cos_sim_help)\n",
        "x = [text_index, image_index, cos_sim_help]\n",
        "df = pd.DataFrame(x)\n",
        "df1_transposed = df.transpose()\n",
        "#df1_transposed\n",
        "df1_transposed.columns =['text_index', 'image_name', 'cos_sim_help']\n",
        "df1_transposed = df1_transposed['cos_sim_help'].astype(float)\n",
        "#df1_transposed"
      ],
      "execution_count": null,
      "outputs": []
    },
    {
      "cell_type": "code",
      "metadata": {
        "id": "PITGSaB7RKzK"
      },
      "source": [
        "cos_sim_help =[]\n",
        "text_index = []\n",
        "image_index = []\n",
        "for i in range (100,200):\n",
        "#for i in range (0,5):\n",
        " for j in range (0,len(image_features)):\n",
        "#  for j in range (0,5):\n",
        "      cos_sim_help.append(cosine_similarity(text_features1[i], image_features[j])) \n",
        "      text_index.append(i)\n",
        "      image_index.append(nn[j])"
      ],
      "execution_count": null,
      "outputs": []
    },
    {
      "cell_type": "code",
      "metadata": {
        "id": "aK1c2RuHRN2J"
      },
      "source": [
        "cos_sim_help1 = list(cos_sim_help)\n",
        "x = [text_index, image_index, cos_sim_help]\n",
        "df = pd.DataFrame(x)\n",
        "df2_transposed = df.transpose()\n",
        "#df1_transposed\n",
        "df2_transposed.columns =['text_index', 'image_name', 'cos_sim_help']\n",
        "df2_transposed = df2_transposed['cos_sim_help'].astype(float)\n",
        "#df1_transposed"
      ],
      "execution_count": null,
      "outputs": []
    },
    {
      "cell_type": "code",
      "metadata": {
        "id": "TOvSHzrrby8v"
      },
      "source": [
        "z = [df1_transposed,df2_transposed]\n",
        "df3_transposed = pd.concat(z)"
      ],
      "execution_count": null,
      "outputs": []
    },
    {
      "cell_type": "code",
      "metadata": {
        "id": "0Kw8s1Rzoa5c"
      },
      "source": [
        "#Save partial results to file\n",
        "output = open('/content/drive/MyDrive/text_image_match_200_RN50x4.pkl', 'wb')\n",
        "pickle.dump(df3_transposed, output)\n",
        "output.close()"
      ],
      "execution_count": null,
      "outputs": []
    },
    {
      "cell_type": "code",
      "metadata": {
        "id": "U7crdg-NR2JB"
      },
      "source": [
        "cos_sim_help =[]\n",
        "text_index = []\n",
        "image_index = []\n",
        "for i in range (200,300):\n",
        "#for i in range (0,5):\n",
        " for j in range (0,len(image_features)):\n",
        "#  for j in range (0,5):\n",
        "      cos_sim_help.append(cosine_similarity(text_features1[i], image_features[j])) \n",
        "      text_index.append(i)\n",
        "      image_index.append(nn[j])"
      ],
      "execution_count": null,
      "outputs": []
    },
    {
      "cell_type": "code",
      "metadata": {
        "id": "nHdxa97DR8a5"
      },
      "source": [
        "cos_sim_help1 = list(cos_sim_help)\n",
        "x = [text_index, image_index, cos_sim_help]\n",
        "df = pd.DataFrame(x)\n",
        "df1_transposed = df.transpose()\n",
        "#df1_transposed\n",
        "df1_transposed.columns =['text_index', 'image_name', 'cos_sim_help']\n",
        "df1_transposed = df1_transposed['cos_sim_help'].astype(float)\n",
        "#df1_transposed"
      ],
      "execution_count": null,
      "outputs": []
    },
    {
      "cell_type": "code",
      "metadata": {
        "id": "PR7wmtN4RE65"
      },
      "source": [
        "cos_sim_help =[]\n",
        "text_index = []\n",
        "image_index = []\n",
        "for i in range (300,400):\n",
        "#for i in range (0,5):\n",
        " for j in range (0,len(image_features)):\n",
        "#  for j in range (0,5):\n",
        "      cos_sim_help.append(cosine_similarity(text_features1[i], image_features[j])) \n",
        "      text_index.append(i)\n",
        "      image_index .append(nn[j])"
      ],
      "execution_count": null,
      "outputs": []
    },
    {
      "cell_type": "code",
      "metadata": {
        "id": "SbAAiCQiO_1U"
      },
      "source": [
        "cos_sim_help1 = list(cos_sim_help)\n",
        "x = [text_index, image_index, cos_sim_help]\n",
        "df = pd.DataFrame(x)\n",
        "df2_transposed = df.transpose()\n",
        "#df1_transposed\n",
        "df2_transposed.columns =['text_index', 'image_name', 'cos_sim_help']\n",
        "df2_transposed = df2_transposed['cos_sim_help'].astype(float)\n",
        "#df1_transposed"
      ],
      "execution_count": null,
      "outputs": []
    },
    {
      "cell_type": "code",
      "metadata": {
        "id": "ACRFAKP4SMH7"
      },
      "source": [
        "z = [df1_transposed,df2_transposed]\n",
        "df3_transposed = pd.concat(z)"
      ],
      "execution_count": null,
      "outputs": []
    },
    {
      "cell_type": "code",
      "metadata": {
        "id": "KZNObALxPAVq"
      },
      "source": [
        "output = open('/content/drive/MyDrive/text_image_match_400_RN50x4.pkl', 'wb')\n",
        "pickle.dump(df3_transposed, output)\n",
        "output.close()"
      ],
      "execution_count": null,
      "outputs": []
    },
    {
      "cell_type": "code",
      "metadata": {
        "id": "yucMXHisPMoq"
      },
      "source": [
        "cos_sim_help =[]\n",
        "text_index = []\n",
        "image_index = []\n",
        "for i in range (400,500):\n",
        "#for i in range (0,5):\n",
        " for j in range (0,len(image_features)):\n",
        "#  for j in range (0,5):\n",
        "      cos_sim_help.append(cosine_similarity(text_features1[i], image_features[j])) \n",
        "      text_index.append(i)\n",
        "      image_index .append(nn[j])"
      ],
      "execution_count": null,
      "outputs": []
    },
    {
      "cell_type": "code",
      "metadata": {
        "id": "dGY77VYjPMif"
      },
      "source": [
        "cos_sim_help1 = list(cos_sim_help)\n",
        "x = [text_index, image_index, cos_sim_help]\n",
        "df = pd.DataFrame(x)\n",
        "df1_transposed = df.transpose()\n",
        "#df1_transposed\n",
        "df1_transposed.columns =['text_index', 'image_name', 'cos_sim_help']\n",
        "df1_transposed = df1_transposed['cos_sim_help'].astype(float)\n",
        "#df1_transposed"
      ],
      "execution_count": null,
      "outputs": []
    },
    {
      "cell_type": "code",
      "metadata": {
        "id": "TCmAeDnfgDaL"
      },
      "source": [
        "cos_sim_help =[]\n",
        "text_index = []\n",
        "image_index = []\n",
        "for i in range (500,600):\n",
        "#for i in range (0,5):\n",
        " for j in range (0,len(image_features)):\n",
        "#  for j in range (0,5):\n",
        "      cos_sim_help.append(cosine_similarity(text_features1[i], image_features[j])) \n",
        "      text_index.append(i)\n",
        "      image_index .append(nn[j])"
      ],
      "execution_count": null,
      "outputs": []
    },
    {
      "cell_type": "code",
      "metadata": {
        "id": "td770EeFgMkm"
      },
      "source": [
        "cos_sim_help1 = list(cos_sim_help)\n",
        "x = [text_index, image_index, cos_sim_help]\n",
        "df = pd.DataFrame(x)\n",
        "df2_transposed = df.transpose()\n",
        "#df1_transposed\n",
        "df2_transposed.columns =['text_index', 'image_name', 'cos_sim_help']\n",
        "df2_transposed = df2_transposed['cos_sim_help'].astype(float)\n",
        "#df1_transposed"
      ],
      "execution_count": null,
      "outputs": []
    },
    {
      "cell_type": "code",
      "metadata": {
        "id": "-VxAkiMjgDHL"
      },
      "source": [
        "z = [df1_transposed,df2_transposed]\n",
        "df3_transposed = pd.concat(z)"
      ],
      "execution_count": null,
      "outputs": []
    },
    {
      "cell_type": "code",
      "metadata": {
        "id": "cG1ptcNTPSza"
      },
      "source": [
        "output = open('/content/drive/MyDrive/text_image_match_600_RN50x4.pkl', 'wb')\n",
        "pickle.dump(df3_transposed, output)\n",
        "output.close()"
      ],
      "execution_count": null,
      "outputs": []
    },
    {
      "cell_type": "code",
      "metadata": {
        "id": "dO8z4NxOPMci"
      },
      "source": [
        "cos_sim_help =[]\n",
        "text_index = []\n",
        "image_index = []\n",
        "for i in range (600,700):\n",
        "#for i in range (0,5):\n",
        " for j in range (0,len(image_features)):\n",
        "#  for j in range (0,5):\n",
        "      cos_sim_help.append(cosine_similarity(text_features1[i], image_features[j])) \n",
        "      text_index.append(i)\n",
        "      image_index .append(nn[j])"
      ],
      "execution_count": null,
      "outputs": []
    },
    {
      "cell_type": "code",
      "metadata": {
        "id": "xK8QyfYChzGI"
      },
      "source": [
        "cos_sim_help1 = list(cos_sim_help)\n",
        "x = [text_index, image_index, cos_sim_help]\n",
        "df = pd.DataFrame(x)\n",
        "df1_transposed = df.transpose()\n",
        "#df1_transposed\n",
        "df1_transposed.columns =['text_index', 'image_name', 'cos_sim_help']\n",
        "df1_transposed = df1_transposed['cos_sim_help'].astype(float)\n",
        "#df1_transposed"
      ],
      "execution_count": null,
      "outputs": []
    },
    {
      "cell_type": "code",
      "metadata": {
        "id": "aWRucui6gfnD"
      },
      "source": [
        "cos_sim_help =[]\n",
        "text_index = []\n",
        "image_index = []\n",
        "for i in range (700,800):\n",
        "#for i in range (0,5):\n",
        " for j in range (0,len(image_features)):\n",
        "#  for j in range (0,5):\n",
        "      cos_sim_help.append(cosine_similarity(text_features1[i], image_features[j])) \n",
        "      text_index.append(i)\n",
        "      image_index .append(nn[j])"
      ],
      "execution_count": null,
      "outputs": []
    },
    {
      "cell_type": "code",
      "metadata": {
        "id": "nABdYqXiiCAI"
      },
      "source": [
        "cos_sim_help1 = list(cos_sim_help)\n",
        "x = [text_index, image_index, cos_sim_help]\n",
        "df = pd.DataFrame(x)\n",
        "df2_transposed = df.transpose()\n",
        "#df1_transposed\n",
        "df2_transposed.columns =['text_index', 'image_name', 'cos_sim_help']\n",
        "df2_transposed = df2_transposed['cos_sim_help'].astype(float)\n",
        "#df1_transposed"
      ],
      "execution_count": null,
      "outputs": []
    },
    {
      "cell_type": "code",
      "metadata": {
        "id": "gX6ZZVxdiRkA"
      },
      "source": [
        "z = [df1_transposed,df2_transposed]\n",
        "df3_transposed = pd.concat(z)"
      ],
      "execution_count": null,
      "outputs": []
    },
    {
      "cell_type": "code",
      "metadata": {
        "id": "RnBrf4fWPaKN"
      },
      "source": [
        "output = open('/content/drive/MyDrive/text_image_match_800_RN50x4.pkl', 'wb')\n",
        "pickle.dump(df3_transposed, output)\n",
        "output.close()"
      ],
      "execution_count": null,
      "outputs": []
    },
    {
      "cell_type": "code",
      "metadata": {
        "id": "iZrIZgfXghGD"
      },
      "source": [
        "cos_sim_help =[]\n",
        "text_index = []\n",
        "image_index = []\n",
        "for i in range (800,900):\n",
        "#for i in range (0,5):\n",
        " for j in range (0,len(image_features)):\n",
        "#  for j in range (0,5):\n",
        "      cos_sim_help.append(cosine_similarity(text_features1[i], image_features[j])) \n",
        "      text_index.append(i)\n",
        "      image_index .append(nn[j])"
      ],
      "execution_count": null,
      "outputs": []
    },
    {
      "cell_type": "code",
      "metadata": {
        "id": "JUlSzCR-hiAm"
      },
      "source": [
        "cos_sim_help1 = list(cos_sim_help)\n",
        "x = [text_index, image_index, cos_sim_help]\n",
        "df = pd.DataFrame(x)\n",
        "df1_transposed = df.transpose()\n",
        "#df1_transposed\n",
        "df1_transposed.columns =['text_index', 'image_name', 'cos_sim_help']\n",
        "df1_transposed = df1_transposed['cos_sim_help'].astype(float)\n",
        "#df1_transposed"
      ],
      "execution_count": null,
      "outputs": []
    },
    {
      "cell_type": "code",
      "metadata": {
        "id": "bkRLOwc8gjRG"
      },
      "source": [
        "cos_sim_help =[]\n",
        "text_index = []\n",
        "image_index = []\n",
        "for i in range (900,1000):\n",
        "#for i in range (0,5):\n",
        " for j in range (0,len(image_features)):\n",
        "#  for j in range (0,5):\n",
        "      cos_sim_help.append(cosine_similarity(text_features1[i], image_features[j])) \n",
        "      text_index.append(i)\n",
        "      image_index .append(nn[j])"
      ],
      "execution_count": null,
      "outputs": []
    },
    {
      "cell_type": "code",
      "metadata": {
        "id": "ppwDcPzTiDKu"
      },
      "source": [
        "cos_sim_help1 = list(cos_sim_help)\n",
        "x = [text_index, image_index, cos_sim_help]\n",
        "df = pd.DataFrame(x)\n",
        "df2_transposed = df.transpose()\n",
        "#df1_transposed\n",
        "df2_transposed.columns =['text_index', 'image_name', 'cos_sim_help']\n",
        "df2_transposed = df2_transposed['cos_sim_help'].astype(float)\n",
        "#df1_transposed"
      ],
      "execution_count": null,
      "outputs": []
    },
    {
      "cell_type": "code",
      "metadata": {
        "id": "JQ7vorbQiSce"
      },
      "source": [
        "z = [df1_transposed,df2_transposed]\n",
        "df3_transposed = pd.concat(z)"
      ],
      "execution_count": null,
      "outputs": []
    },
    {
      "cell_type": "code",
      "metadata": {
        "id": "u4-B2LIDPhUB"
      },
      "source": [
        "output = open('/content/drive/MyDrive/text_image_match_1000_RN50x4.pkl', 'wb')\n",
        "pickle.dump(df3_transposed, output)\n",
        "output.close()"
      ],
      "execution_count": null,
      "outputs": []
    },
    {
      "cell_type": "code",
      "metadata": {
        "id": "FQYH0GHuglch"
      },
      "source": [
        "cos_sim_help =[]\n",
        "text_index = []\n",
        "image_index = []\n",
        "for i in range (1000,1100):\n",
        "#for i in range (0,5):\n",
        " for j in range (0,len(image_features)):\n",
        "#  for j in range (0,5):\n",
        "      cos_sim_help.append(cosine_similarity(text_features1[i], image_features[j])) \n",
        "      text_index.append(i)\n",
        "      image_index .append(nn[j])"
      ],
      "execution_count": null,
      "outputs": []
    },
    {
      "cell_type": "code",
      "metadata": {
        "id": "2oLVAYAGh1Mv"
      },
      "source": [
        "cos_sim_help1 = list(cos_sim_help)\n",
        "x = [text_index, image_index, cos_sim_help]\n",
        "df = pd.DataFrame(x)\n",
        "df1_transposed = df.transpose()\n",
        "#df1_transposed\n",
        "df1_transposed.columns =['text_index', 'image_name', 'cos_sim_help']\n",
        "df1_transposed = df1_transposed['cos_sim_help'].astype(float)\n",
        "#df1_transposed"
      ],
      "execution_count": null,
      "outputs": []
    },
    {
      "cell_type": "code",
      "metadata": {
        "id": "CyBGt3tTgnux"
      },
      "source": [
        "cos_sim_help =[]\n",
        "text_index = []\n",
        "image_index = []\n",
        "for i in range (1100,1200):\n",
        "#for i in range (0,5):\n",
        " for j in range (0,len(image_features)):\n",
        "#  for j in range (0,5):\n",
        "      cos_sim_help.append(cosine_similarity(text_features1[i], image_features[j])) \n",
        "      text_index.append(i)\n",
        "      image_index .append(nn[j])"
      ],
      "execution_count": null,
      "outputs": []
    },
    {
      "cell_type": "code",
      "metadata": {
        "id": "P1wJwe9TiD97"
      },
      "source": [
        "cos_sim_help1 = list(cos_sim_help)\n",
        "x = [text_index, image_index, cos_sim_help]\n",
        "df = pd.DataFrame(x)\n",
        "df2_transposed = df.transpose()\n",
        "#df1_transposed\n",
        "df2_transposed.columns =['text_index', 'image_name', 'cos_sim_help']\n",
        "df2_transposed = df2_transposed['cos_sim_help'].astype(float)\n",
        "#df1_transposed"
      ],
      "execution_count": null,
      "outputs": []
    },
    {
      "cell_type": "code",
      "metadata": {
        "id": "ZuajQ82UiTSG"
      },
      "source": [
        "z = [df1_transposed,df2_transposed]\n",
        "df3_transposed = pd.concat(z)"
      ],
      "execution_count": null,
      "outputs": []
    },
    {
      "cell_type": "code",
      "metadata": {
        "id": "bJ-4f9x8QYsx"
      },
      "source": [
        "output = open('/content/drive/MyDrive/text_image_match_1200_RN50x4.pkl', 'wb')\n",
        "pickle.dump(df3_transposed, output)\n",
        "output.close()"
      ],
      "execution_count": null,
      "outputs": []
    },
    {
      "cell_type": "code",
      "metadata": {
        "id": "VRauxnskgpeO"
      },
      "source": [
        "cos_sim_help =[]\n",
        "text_index = []\n",
        "image_index = []\n",
        "for i in range (1200,1300):\n",
        "#for i in range (0,5):\n",
        " for j in range (0,len(image_features)):\n",
        "#  for j in range (0,5):\n",
        "      cos_sim_help.append(cosine_similarity(text_features1[i], image_features[j])) \n",
        "      text_index.append(i)\n",
        "      image_index .append(nn[j])"
      ],
      "execution_count": null,
      "outputs": []
    },
    {
      "cell_type": "code",
      "metadata": {
        "id": "vFWVKpoah2Hm"
      },
      "source": [
        "cos_sim_help1 = list(cos_sim_help)\n",
        "x = [text_index, image_index, cos_sim_help]\n",
        "df = pd.DataFrame(x)\n",
        "df1_transposed = df.transpose()\n",
        "#df1_transposed\n",
        "df1_transposed.columns =['text_index', 'image_name', 'cos_sim_help']\n",
        "df1_transposed = df1_transposed['cos_sim_help'].astype(float)\n",
        "#df1_transposed"
      ],
      "execution_count": null,
      "outputs": []
    },
    {
      "cell_type": "code",
      "metadata": {
        "id": "ncxUXuAsgqR2"
      },
      "source": [
        "cos_sim_help =[]\n",
        "text_index = []\n",
        "image_index = []\n",
        "for i in range (1300,1400):\n",
        "#for i in range (0,5):\n",
        " for j in range (0,len(image_features)):\n",
        "#  for j in range (0,5):\n",
        "      cos_sim_help.append(cosine_similarity(text_features1[i], image_features[j])) \n",
        "      text_index.append(i)\n",
        "      image_index .append(nn[j])"
      ],
      "execution_count": null,
      "outputs": []
    },
    {
      "cell_type": "code",
      "metadata": {
        "id": "Aj6j7H0SiGCZ"
      },
      "source": [
        "cos_sim_help1 = list(cos_sim_help)\n",
        "x = [text_index, image_index, cos_sim_help]\n",
        "df = pd.DataFrame(x)\n",
        "df2_transposed = df.transpose()\n",
        "#df1_transposed\n",
        "df2_transposed.columns =['text_index', 'image_name', 'cos_sim_help']\n",
        "df2_transposed = df2_transposed['cos_sim_help'].astype(float)\n",
        "#df1_transposed"
      ],
      "execution_count": null,
      "outputs": []
    },
    {
      "cell_type": "code",
      "metadata": {
        "id": "C6IrlkvUiUH7"
      },
      "source": [
        "z = [df1_transposed,df2_transposed]\n",
        "df3_transposed = pd.concat(z)"
      ],
      "execution_count": null,
      "outputs": []
    },
    {
      "cell_type": "code",
      "metadata": {
        "id": "4KW54cNUQal5"
      },
      "source": [
        "output = open('/content/drive/MyDrive/text_image_match_1400_RN50x4.pkl', 'wb')\n",
        "pickle.dump(df3_transposed, output)\n",
        "output.close()"
      ],
      "execution_count": null,
      "outputs": []
    },
    {
      "cell_type": "code",
      "metadata": {
        "id": "2mUla83Egrr3"
      },
      "source": [
        "cos_sim_help =[]\n",
        "text_index = []\n",
        "image_index = []\n",
        "for i in range (1400,1500):\n",
        "#for i in range (0,5):\n",
        " for j in range (0,len(image_features)):\n",
        "#  for j in range (0,5):\n",
        "      cos_sim_help.append(cosine_similarity(text_features1[i], image_features[j])) \n",
        "      text_index.append(i)\n",
        "      image_index .append(nn[j])"
      ],
      "execution_count": null,
      "outputs": []
    },
    {
      "cell_type": "code",
      "metadata": {
        "id": "oaCOGSWQh26W"
      },
      "source": [
        "cos_sim_help1 = list(cos_sim_help)\n",
        "x = [text_index, image_index, cos_sim_help]\n",
        "df = pd.DataFrame(x)\n",
        "df1_transposed = df.transpose()\n",
        "#df1_transposed\n",
        "df1_transposed.columns =['text_index', 'image_name', 'cos_sim_help']\n",
        "df1_transposed = df1_transposed['cos_sim_help'].astype(float)\n",
        "#df1_transposed"
      ],
      "execution_count": null,
      "outputs": []
    },
    {
      "cell_type": "code",
      "metadata": {
        "id": "oOwlbKvQgrmy"
      },
      "source": [
        "cos_sim_help =[]\n",
        "text_index = []\n",
        "image_index = []\n",
        "for i in range (1500,1600):\n",
        "#for i in range (0,5):\n",
        " for j in range (0,len(image_features)):\n",
        "#  for j in range (0,5):\n",
        "      cos_sim_help.append(cosine_similarity(text_features1[i], image_features[j])) \n",
        "      text_index.append(i)\n",
        "      image_index .append(nn[j])"
      ],
      "execution_count": null,
      "outputs": []
    },
    {
      "cell_type": "code",
      "metadata": {
        "id": "4WzHJoMaiKBe"
      },
      "source": [
        "cos_sim_help1 = list(cos_sim_help)\n",
        "x = [text_index, image_index, cos_sim_help]\n",
        "df = pd.DataFrame(x)\n",
        "df2_transposed = df.transpose()\n",
        "#df1_transposed\n",
        "df2_transposed.columns =['text_index', 'image_name', 'cos_sim_help']\n",
        "df2_transposed = df2_transposed['cos_sim_help'].astype(float)\n",
        "#df1_transposed"
      ],
      "execution_count": null,
      "outputs": []
    },
    {
      "cell_type": "code",
      "metadata": {
        "id": "3rpFbNXSiU2x"
      },
      "source": [
        "z = [df1_transposed,df2_transposed]\n",
        "df3_transposed = pd.concat(z)"
      ],
      "execution_count": null,
      "outputs": []
    },
    {
      "cell_type": "code",
      "metadata": {
        "id": "xnZvMurzQbyB"
      },
      "source": [
        "output = open('/content/drive/MyDrive/text_image_match_1600_RN50x4.pkl', 'wb')\n",
        "pickle.dump(df3_transposed, output)\n",
        "output.close()"
      ],
      "execution_count": null,
      "outputs": []
    },
    {
      "cell_type": "code",
      "metadata": {
        "id": "xxvUoemhgrho"
      },
      "source": [
        "cos_sim_help =[]\n",
        "text_index = []\n",
        "image_index = []\n",
        "for i in range (1600,1700):\n",
        "#for i in range (0,5):\n",
        " for j in range (0,len(image_features)):\n",
        "#  for j in range (0,5):\n",
        "      cos_sim_help.append(cosine_similarity(text_features1[i], image_features[j])) \n",
        "      text_index.append(i)\n",
        "      image_index .append(nn[j])"
      ],
      "execution_count": null,
      "outputs": []
    },
    {
      "cell_type": "code",
      "metadata": {
        "id": "exMVbpvLh3vF"
      },
      "source": [
        "cos_sim_help1 = list(cos_sim_help)\n",
        "x = [text_index, image_index, cos_sim_help]\n",
        "df = pd.DataFrame(x)\n",
        "df1_transposed = df.transpose()\n",
        "#df1_transposed\n",
        "df1_transposed.columns =['text_index', 'image_name', 'cos_sim_help']\n",
        "df1_transposed = df1_transposed['cos_sim_help'].astype(float)\n",
        "#df1_transposed"
      ],
      "execution_count": null,
      "outputs": []
    },
    {
      "cell_type": "code",
      "metadata": {
        "id": "u9ni1IF_grbo"
      },
      "source": [
        "cos_sim_help =[]\n",
        "text_index = []\n",
        "image_index = []\n",
        "for i in range (1700,1800):\n",
        "#for i in range (0,5):\n",
        " for j in range (0,len(image_features)):\n",
        "#  for j in range (0,5):\n",
        "      cos_sim_help.append(cosine_similarity(text_features1[i], image_features[j])) \n",
        "      text_index.append(i)\n",
        "      image_index .append(nn[j])"
      ],
      "execution_count": null,
      "outputs": []
    },
    {
      "cell_type": "code",
      "metadata": {
        "id": "CTwClXmSiK56"
      },
      "source": [
        "cos_sim_help1 = list(cos_sim_help)\n",
        "x = [text_index, image_index, cos_sim_help]\n",
        "df = pd.DataFrame(x)\n",
        "df2_transposed = df.transpose()\n",
        "#df1_transposed\n",
        "df2_transposed.columns =['text_index', 'image_name', 'cos_sim_help']\n",
        "df2_transposed = df2_transposed['cos_sim_help'].astype(float)\n",
        "#df1_transposed"
      ],
      "execution_count": null,
      "outputs": []
    },
    {
      "cell_type": "code",
      "metadata": {
        "id": "KLaqBqSBiVjV"
      },
      "source": [
        "z = [df1_transposed,df2_transposed]\n",
        "df3_transposed = pd.concat(z)"
      ],
      "execution_count": null,
      "outputs": []
    },
    {
      "cell_type": "code",
      "metadata": {
        "id": "AWCxw9O2QdNa"
      },
      "source": [
        "output = open('/content/drive/MyDrive/text_image_match_1800_RN50x4.pkl', 'wb')\n",
        "pickle.dump(df3_transposed, output)\n",
        "output.close()"
      ],
      "execution_count": null,
      "outputs": []
    },
    {
      "cell_type": "code",
      "metadata": {
        "id": "lAbhKjQsgrRv"
      },
      "source": [
        "cos_sim_help =[]\n",
        "text_index = []\n",
        "image_index = []\n",
        "for i in range (1800,1900):\n",
        "#for i in range (0,5):\n",
        " for j in range (0,len(image_features)):\n",
        "#  for j in range (0,5):\n",
        "      cos_sim_help.append(cosine_similarity(text_features1[i], image_features[j])) \n",
        "      text_index.append(i)\n",
        "      image_index .append(nn[j])"
      ],
      "execution_count": null,
      "outputs": []
    },
    {
      "cell_type": "code",
      "metadata": {
        "id": "tMf2fLeKh9L_"
      },
      "source": [
        "cos_sim_help1 = list(cos_sim_help)\n",
        "x = [text_index, image_index, cos_sim_help]\n",
        "df = pd.DataFrame(x)\n",
        "df1_transposed = df.transpose()\n",
        "#df1_transposed\n",
        "df1_transposed.columns =['text_index', 'image_name', 'cos_sim_help']\n",
        "df1_transposed = df1_transposed['cos_sim_help'].astype(float)\n",
        "#df1_transposed"
      ],
      "execution_count": null,
      "outputs": []
    },
    {
      "cell_type": "code",
      "metadata": {
        "id": "hqEKXSxdgq9u"
      },
      "source": [
        "cos_sim_help =[]\n",
        "text_index = []\n",
        "image_index = []\n",
        "for i in range (1900,2000):\n",
        "#for i in range (0,5):\n",
        " for j in range (0,len(image_features)):\n",
        "#  for j in range (0,5):\n",
        "      cos_sim_help.append(cosine_similarity(text_features1[i], image_features[j])) \n",
        "      text_index.append(i)\n",
        "      image_index .append(nn[j])"
      ],
      "execution_count": null,
      "outputs": []
    },
    {
      "cell_type": "code",
      "metadata": {
        "id": "P6VZzAA0iLrl"
      },
      "source": [
        "cos_sim_help1 = list(cos_sim_help)\n",
        "x = [text_index, image_index, cos_sim_help]\n",
        "df = pd.DataFrame(x)\n",
        "df2_transposed = df.transpose()\n",
        "#df1_transposed\n",
        "df2_transposed.columns =['text_index', 'image_name', 'cos_sim_help']\n",
        "df2_transposed = df2_transposed['cos_sim_help'].astype(float)\n",
        "#df1_transposed"
      ],
      "execution_count": null,
      "outputs": []
    },
    {
      "cell_type": "code",
      "metadata": {
        "id": "3P7yBWaMiWHc"
      },
      "source": [
        "z = [df1_transposed,df2_transposed]\n",
        "df3_transposed = pd.concat(z)"
      ],
      "execution_count": null,
      "outputs": []
    },
    {
      "cell_type": "code",
      "metadata": {
        "id": "upSP9mAXQe2R"
      },
      "source": [
        "output = open('/content/drive/MyDrive/text_image_match_2000_RN50x4.pkl', 'wb')\n",
        "pickle.dump(df3_transposed, output)\n",
        "output.close()"
      ],
      "execution_count": null,
      "outputs": []
    },
    {
      "cell_type": "code",
      "metadata": {
        "id": "VaiQo3Skg7PG"
      },
      "source": [
        "cos_sim_help =[]\n",
        "text_index = []\n",
        "image_index = []\n",
        "for i in range (2000,2100):\n",
        "#for i in range (0,5):\n",
        " for j in range (0,len(image_features)):\n",
        "#  for j in range (0,5):\n",
        "      cos_sim_help.append(cosine_similarity(text_features1[i], image_features[j])) \n",
        "      text_index.append(i)\n",
        "      image_index .append(nn[j])"
      ],
      "execution_count": null,
      "outputs": []
    },
    {
      "cell_type": "code",
      "metadata": {
        "id": "aoqsGLIbh98G"
      },
      "source": [
        "cos_sim_help1 = list(cos_sim_help)\n",
        "x = [text_index, image_index, cos_sim_help]\n",
        "df = pd.DataFrame(x)\n",
        "df1_transposed = df.transpose()\n",
        "#df1_transposed\n",
        "df1_transposed.columns =['text_index', 'image_name', 'cos_sim_help']\n",
        "df1_transposed = df1_transposed['cos_sim_help'].astype(float)\n",
        "#df1_transposed"
      ],
      "execution_count": null,
      "outputs": []
    },
    {
      "cell_type": "code",
      "metadata": {
        "id": "SVlBlGQjg83e"
      },
      "source": [
        "cos_sim_help =[]\n",
        "text_index = []\n",
        "image_index = []\n",
        "for i in range (2100,2177):\n",
        "#for i in range (0,5):\n",
        " for j in range (0,len(image_features)):\n",
        "#  for j in range (0,5):\n",
        "      cos_sim_help.append(cosine_similarity(text_features1[i], image_features[j])) \n",
        "      text_index.append(i)\n",
        "      image_index .append(nn[j])"
      ],
      "execution_count": null,
      "outputs": []
    },
    {
      "cell_type": "code",
      "metadata": {
        "id": "vTPskLYxiMa1"
      },
      "source": [
        "cos_sim_help1 = list(cos_sim_help)\n",
        "x = [text_index, image_index, cos_sim_help]\n",
        "df = pd.DataFrame(x)\n",
        "df2_transposed = df.transpose()\n",
        "#df1_transposed\n",
        "df2_transposed.columns =['text_index', 'image_name', 'cos_sim_help']\n",
        "df2_transposed = df2_transposed['cos_sim_help'].astype(float)\n",
        "#df1_transposed"
      ],
      "execution_count": null,
      "outputs": []
    },
    {
      "cell_type": "code",
      "metadata": {
        "id": "19ZL90YqiW5e"
      },
      "source": [
        "z = [df1_transposed,df2_transposed]\n",
        "df3_transposed = pd.concat(z)"
      ],
      "execution_count": null,
      "outputs": []
    },
    {
      "cell_type": "code",
      "metadata": {
        "id": "EFbWUwD-QgVh"
      },
      "source": [
        "output = open('/content/drive/MyDrive/text_image_match_2200_RN50x4.pkl', 'wb')\n",
        "pickle.dump(df3_transposed, output)\n",
        "output.close()"
      ],
      "execution_count": null,
      "outputs": []
    }
  ]
}